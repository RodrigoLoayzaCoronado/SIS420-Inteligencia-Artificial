{
  "nbformat": 4,
  "nbformat_minor": 0,
  "metadata": {
    "colab": {
      "provenance": []
    },
    "kernelspec": {
      "name": "python3",
      "display_name": "Python 3"
    },
    "language_info": {
      "name": "python"
    }
  },
  "cells": [
    {
      "cell_type": "markdown",
      "source": [
        "<h1> LABORATORIO 3</h1>\n",
        "<h2>ALUMNO: LOAIZA CORONADO RODRIGO JAIRO </h2>\n",
        "<h2>CARRERA ING. DE SISTEMAS</h2>\n",
        "<h3>FECHA: 19/03/2024</h3>"
      ],
      "metadata": {
        "id": "jdttXnD2LQ1f"
      }
    },
    {
      "cell_type": "markdown",
      "source": [
        "<h3> Clasificacion Multiclase </h3>"
      ],
      "metadata": {
        "id": "VbnTUln_g-QI"
      }
    },
    {
      "cell_type": "code",
      "execution_count": null,
      "metadata": {
        "id": "8m5uR9Swg8CI",
        "colab": {
          "base_uri": "https://localhost:8080/"
        },
        "outputId": "3b051e14-8a19-4765-b60c-2cfdf3e9f7a3"
      },
      "outputs": [
        {
          "output_type": "stream",
          "name": "stdout",
          "text": [
            "Mounted at /content/drive\n"
          ]
        }
      ],
      "source": [
        "from google.colab import drive\n",
        "drive.mount('/content/drive')"
      ]
    },
    {
      "cell_type": "code",
      "source": [
        "# utilizado para la manipulación de directorios y rutas\n",
        "import os\n",
        "\n",
        "#importamos pandas para el manejo del dataset, y separarlos dentro de una matriz\n",
        "import pandas as pd\n",
        "# Cálculo científico y vectorial para python\n",
        "import numpy as np\n",
        "\n",
        "# Libreria para graficos\n",
        "from matplotlib import pyplot\n",
        "\n",
        "from sklearn.model_selection import train_test_split\n",
        "\n",
        "# Modulo de optimizacion en scipy\n",
        "from scipy import optimize\n",
        "\n",
        "# modulo para cargar archivos en formato MATLAB\n",
        "# from scipy.io import loadmat\n",
        "\n",
        "# le dice a matplotlib que incruste gráficos en el cuaderno\n",
        "%matplotlib inline"
      ],
      "metadata": {
        "id": "1LNW2zQAm5hT"
      },
      "execution_count": null,
      "outputs": []
    },
    {
      "cell_type": "markdown",
      "source": [],
      "metadata": {
        "id": "WyTvHNcapQY3"
      }
    },
    {
      "cell_type": "code",
      "source": [
        "\n",
        "input_layer_size  = 18\n",
        "# tengo 6 clases\n",
        "num_labels = 6\n",
        "#se pone 7 a pesar de haber 6 clases con esto el 0 no se toma en cuenta (como es uno contra todos hay que realizar este artificio para considerar todas las clases u otra opcion es convertir el 6 en 0)(el argmmax nos da 0 1 2 y para tomar en cuenta las 3 clases aumentamos 1 mas y quitamos el 0)\n",
        "data = np.loadtxt('/content/drive/MyDrive/SIS420 Inteligencia Artificial/machine learning/datasets/Datos.csv', delimiter=',', skiprows=1, usecols=range(1, input_layer_size+1))\n",
        "\n",
        "\n",
        "# Separar las características (X) de las etiquetas (y)\n",
        "X = data[:, :-1]  # Todas las filas, todas las columnas excepto la última\n",
        "y = data[:, -1]   # Todas las filas, última columna\n",
        "\n",
        "# Número de ejemplos\n",
        "m = y.size"
      ],
      "metadata": {
        "id": "0367y0RhpQDi"
      },
      "execution_count": null,
      "outputs": []
    },
    {
      "cell_type": "code",
      "source": [
        "print(X[0, :])\n",
        "print('---------------------- ')  # Imprime la primera fila de características\n",
        "print(y)             # Imprime las etiquetas\n"
      ],
      "metadata": {
        "colab": {
          "base_uri": "https://localhost:8080/"
        },
        "id": "LlxuTl8RRvV8",
        "outputId": "eef6befe-7811-4d2e-c850-71b13fda9f59"
      },
      "execution_count": null,
      "outputs": [
        {
          "output_type": "stream",
          "name": "stdout",
          "text": [
            "[ 0.          1.          0.          2.          0.          0.\n",
            "  3.          3.          0.14893617  0.32075472  0.18656716  0.5\n",
            "  0.66666667  0.5         0.          0.5        24.38652644]\n",
            "---------------------- \n",
            "[1. 1. 1. ... 5. 3. 5.]\n"
          ]
        }
      ]
    },
    {
      "cell_type": "code",
      "source": [
        "# Calcular el conteo de cada clase\n",
        "clases, conteo = np.unique(y, return_counts=True)\n",
        "\n",
        "# Imprimir el conteo de cada clase\n",
        "for clase, count in zip(clases, conteo):\n",
        "    print(f\"Clase {int(clase)}: {count} ejemplos\")"
      ],
      "metadata": {
        "colab": {
          "base_uri": "https://localhost:8080/"
        },
        "id": "G7JUIrxRbUQQ",
        "outputId": "e152d468-1e8b-427a-e49d-07657b455740"
      },
      "execution_count": null,
      "outputs": [
        {
          "output_type": "stream",
          "name": "stdout",
          "text": [
            "Clase 0: 2795 ejemplos\n",
            "Clase 1: 3369 ejemplos\n",
            "Clase 2: 2717 ejemplos\n",
            "Clase 3: 2812 ejemplos\n",
            "Clase 4: 3261 ejemplos\n",
            "Clase 5: 3545 ejemplos\n",
            "Clase 6: 4370 ejemplos\n"
          ]
        }
      ]
    },
    {
      "cell_type": "code",
      "source": [
        "def  featureNormalize(X):\n",
        "    X_norm = X.copy()\n",
        "    mu = np.zeros(X.shape[1])\n",
        "    sigma = np.zeros(X.shape[1])\n",
        "\n",
        "    mu = np.mean(X, axis = 0)\n",
        "    sigma = np.std(X, axis = 0)\n",
        "    X_norm = (X - mu) / sigma\n",
        "\n",
        "    return X_norm, mu, sigma"
      ],
      "metadata": {
        "id": "tIeKTYAEb06P"
      },
      "execution_count": null,
      "outputs": []
    },
    {
      "cell_type": "code",
      "source": [
        "X_norm, mu, sigma = featureNormalize(X)"
      ],
      "metadata": {
        "id": "836s8lb6b3Uf"
      },
      "execution_count": null,
      "outputs": []
    },
    {
      "cell_type": "code",
      "source": [
        "m, n = X.shape\n",
        "X = X_norm"
      ],
      "metadata": {
        "id": "385c7so9b43X"
      },
      "execution_count": null,
      "outputs": []
    },
    {
      "cell_type": "code",
      "source": [
        "def sigmoid(z):\n",
        "    \"\"\"\n",
        "    Calcula la sigmoide de z.\n",
        "    \"\"\"\n",
        "    return 1.0 / (1.0 + np.exp(-z))"
      ],
      "metadata": {
        "id": "HG-qGi6gcIqc"
      },
      "execution_count": null,
      "outputs": []
    },
    {
      "cell_type": "markdown",
      "source": [
        "<h2>COSTO POR EL GRADIENTE</h2>"
      ],
      "metadata": {
        "id": "AUuH5e5CeC6G"
      }
    },
    {
      "cell_type": "code",
      "source": [
        "def lrCostFunction(theta, X, y, lambda_):\n",
        "    m = y.size\n",
        "    if y.dtype == bool:\n",
        "        y = y.astype(int)\n",
        "\n",
        "    J = 0\n",
        "    grad = np.zeros(theta.shape)\n",
        "\n",
        "    h = sigmoid(X.dot(theta.T))\n",
        "\n",
        "    temp = theta\n",
        "    temp[0] = 0\n",
        "\n",
        "    J = (1 / m) * np.sum(-y.dot(np.log(h)) - (1 - y).dot(np.log(1 - h))) + (lambda_ / (2 * m)) * np.sum(np.square(temp))\n",
        "\n",
        "    grad = (1 / m) * (h - y).dot(X)\n",
        "    grad = grad + (lambda_ / m) * temp\n",
        "\n",
        "    return J, grad"
      ],
      "metadata": {
        "id": "5FtIacTKdv1X"
      },
      "execution_count": null,
      "outputs": []
    },
    {
      "cell_type": "markdown",
      "source": [
        "<h2>Clasificacion One-vs-all</h2>"
      ],
      "metadata": {
        "id": "Dibao7aXdWm-"
      }
    },
    {
      "cell_type": "code",
      "source": [
        "def oneVsAll(X, y, num_labels, lambda_):\n",
        "    m, n = X.shape\n",
        "    all_theta = np.zeros((num_labels, n + 1))\n",
        "\n",
        "    # Agregar unos a la matriz X\n",
        "    X = np.concatenate([np.ones((m, 1)), X], axis=1)\n",
        "\n",
        "    for c in np.arange(num_labels):\n",
        "        initial_theta = np.zeros(n + 1)\n",
        "        options = {'maxiter': 50}\n",
        "        res = optimize.minimize(lrCostFunction,\n",
        "                                initial_theta,\n",
        "                                (X, (y == c), lambda_),\n",
        "                                jac=True,\n",
        "                                method='CG',\n",
        "                                options=options)\n",
        "\n",
        "        all_theta[c] = res.x\n",
        "\n",
        "    return all_theta\n",
        "\n"
      ],
      "metadata": {
        "id": "1btHjANVdUGI"
      },
      "execution_count": null,
      "outputs": []
    },
    {
      "cell_type": "code",
      "source": [
        "def predictOneVsAll(all_theta, X):\n",
        "    m = X.shape[0]\n",
        "    X = np.concatenate([np.ones((m, 1)), X], axis=1)\n",
        "    p = np.argmax(sigmoid(X.dot(all_theta.T)), axis=1)\n",
        "    return p\n",
        "    # Calcula el número de datos para el conjunto de entrenamiento (80%)\n",
        "num_train = int(0.8 * 22800)\n",
        "\n",
        "# Dividir los datos en conjuntos de entrenamiento y prueba\n",
        "X_train, X_test = X[:num_train], X[num_train:]\n",
        "y_train, y_test = y[:num_train], y[num_train:]\n",
        "# Entrenar el modelo utilizando todos los datos\n",
        "lambda_ = 0.1\n",
        "all_theta = oneVsAll(X, y, num_labels, lambda_)\n",
        "\n",
        "# Dividir los datos en conjuntos de entrenamiento y prueba (80% entrenamiento, 20% prueba)\n",
        "X_train, X_test, y_train, y_test = train_test_split(X, y, test_size=0.2, random_state=42)\n",
        "\n",
        "# Entrenar el modelo con los datos de entrenamiento\n",
        "all_theta_train = oneVsAll(X_train, y_train, num_labels, lambda_)"
      ],
      "metadata": {
        "id": "7ccM6Drmdo-x"
      },
      "execution_count": null,
      "outputs": []
    },
    {
      "cell_type": "code",
      "source": [
        "print(all_theta)"
      ],
      "metadata": {
        "colab": {
          "base_uri": "https://localhost:8080/"
        },
        "id": "RqyL8BHjdpiq",
        "outputId": "b4fbb7b6-5129-46e8-862d-c8d2504e3bd0"
      },
      "execution_count": null,
      "outputs": [
        {
          "output_type": "stream",
          "name": "stdout",
          "text": [
            "[[-1.59091712e+01  5.78705507e-02 -5.43960062e-02  1.01379673e-02\n",
            "  -1.30830373e-01 -1.82058826e-01 -1.87783887e-02  1.38204178e-01\n",
            "  -4.06642749e-01 -3.55117032e-01  6.35002321e-01 -5.37246909e+00\n",
            "   2.24791332e-01  1.41399021e-01  1.54725268e-01 -9.18285716e-03\n",
            "   2.83286726e-01 -6.54852553e+00]\n",
            " [-2.72644307e+00  4.06586888e-01  5.36738441e-02 -4.14434887e-02\n",
            "  -1.15691985e-01  1.14343086e-01 -1.05330497e-01  3.80749015e-02\n",
            "   1.73220635e-01 -1.81397179e-01 -3.19265523e-01 -1.13491301e+00\n",
            "  -2.67585886e-02  2.35157938e-01 -1.15253494e-01  1.02933358e-01\n",
            "  -2.05830220e-01 -4.86631239e-01]\n",
            " [-2.45961261e+00  2.32951741e-01 -1.59542021e-02  1.27021597e-01\n",
            "   3.74929868e-01 -1.21926565e-02  2.49499485e-01 -4.93098531e-01\n",
            "  -4.34860599e-02 -1.14130704e-02  6.84731877e-01 -3.29286580e+00\n",
            "  -2.68279672e-01 -2.78133776e-01  2.53069008e-01  1.23394069e-01\n",
            "  -1.73215777e-01  2.19167231e+00]\n",
            " [-2.50858411e+00  5.19425225e-01  5.99005518e-01 -4.63179224e-01\n",
            "   1.77908191e-01 -5.54471917e-02 -2.57064742e-01  2.36436656e-02\n",
            "  -6.64099829e-03  5.09946437e-01  5.84765851e-01 -2.44679466e+00\n",
            "  -2.81080251e-01 -2.45801250e-01  3.91135128e-02  3.37754135e-02\n",
            "   2.16895132e-01  1.60318602e+00]\n",
            " [-2.74522808e+00 -4.42002998e-02  8.71556497e-01  3.05804584e-01\n",
            "   6.86397598e-02 -5.65438619e-03 -2.38504299e-01  5.19975453e-01\n",
            "  -3.02994652e-01 -5.75666289e-02  5.64151025e-01 -2.41530397e+00\n",
            "  -1.08522847e+00 -3.87905884e-01  3.09339484e-01  4.67387892e-02\n",
            "   2.21719536e-01  2.97423290e+00]\n",
            " [-1.44124983e+01  8.42312274e+00  8.23180071e-01  3.37521554e-02\n",
            "   1.34456831e-01  9.44011782e-02 -3.89998281e-01  1.75725972e-02\n",
            "   4.31619211e-01  1.17845770e+00  4.01653038e-01  4.60776468e+00\n",
            "   4.24744552e-01 -7.30898244e-02 -1.06211459e+00 -1.66370661e-01\n",
            "  -2.89263080e-01  3.60819597e+00]]\n"
          ]
        }
      ]
    },
    {
      "cell_type": "markdown",
      "source": [
        "<h2>Prediccion One-vs-all </h2>"
      ],
      "metadata": {
        "id": "HveTVnHUerdG"
      }
    },
    {
      "cell_type": "code",
      "source": [
        "# Predecir las clases utilizando el conjunto de entrenamiento\n",
        "pred_train = predictOneVsAll(all_theta_train, X_train)\n",
        "\n",
        "# Calcular la precisión del conjunto de entrenamiento\n",
        "accuracy_train = np.mean(pred_train == y_train) * 100\n",
        "print('Precisión del conjunto de entrenamiento: {:.2f}%'.format(accuracy_train))\n",
        "# Predecir las clases utilizando el conjunto de prueba\n",
        "pred_test = predictOneVsAll(all_theta_train, X_test)\n",
        "\n",
        "# Calcular la precisión del conjunto de prueba\n",
        "accuracy_test = np.mean(pred_test == y_test) * 100\n",
        "print('Precisión del conjunto de prueba: {:.2f}%'.format(accuracy_test))\n",
        "\n",
        "# Aquí puedes realizar cualquier otra evaluación o visualización necesaria"
      ],
      "metadata": {
        "colab": {
          "base_uri": "https://localhost:8080/"
        },
        "id": "JheFz1vVe6we",
        "outputId": "55aa15e9-3918-4436-bb52-8cf990da237c"
      },
      "execution_count": null,
      "outputs": [
        {
          "output_type": "stream",
          "name": "stdout",
          "text": [
            "Precisión del conjunto de entrenamiento: 57.02%\n",
            "Precisión del conjunto de prueba: 57.46%\n"
          ]
        }
      ]
    },
    {
      "cell_type": "code",
      "source": [
        "# Ejemplo de predicción para nuevos datos\n",
        "X_prueba = np.array([[ 1, 1, 0, 2, 0, 0, 3, 1, 0.14893617021276595, 0.3207547169811322, 0.18656716417910446, 0.5, 0.6666666666666667, 0.5, 0.0, 0.5, 10.38652644413961],\n",
        "                     [ 1, 1, 0, 2, 1, 1, 2, 3, 0.14893617021276595, 0.1320754716981134, 0.12686567164179102, 1.0, 0.6666666666666667, 1.0, 1.0, 0.0, 24.238227146814403],\n",
        "                     [ 2, 1, 0, 2, 0, 0, 1, 3, 0.19148936170212766, 0.6603773584905661, 0.2835820895522388, 0.5, 0.6666666666666667, 0.5, 0.6666666666666666, 0.5, 23.76543209876543],\n",
        "                     [ 0, 0, 0, 0, 1, 1, 1, 0, 0.276595744680851, 0.6603773584905661, 0.3582089552238806, 1.0, 0.6666666666666667, 0.5, 0.6666666666666666, 0.0, 12.85185185185185],\n",
        "                     [1,1,1,2,0,0,2,3,0.1761246595744681,0.6437245283018869,0.492814947761194,0.9989755,0.6666666666666667,0.517075,0.6666666666666666,0.2543315,32.7391647533067]])\n",
        "p_prueba = predictOneVsAll(all_theta, X_prueba)\n",
        "print(\"Predicciones para nuevos datos:\", p_prueba)\n"
      ],
      "metadata": {
        "colab": {
          "base_uri": "https://localhost:8080/"
        },
        "id": "ntnjKRaMmZPS",
        "outputId": "e0da2d7b-e682-42f3-f62e-345d22bcac9f"
      },
      "execution_count": null,
      "outputs": [
        {
          "output_type": "stream",
          "name": "stdout",
          "text": [
            "Predicciones para nuevos datos: [5 2 2 4 2]\n"
          ]
        }
      ]
    },
    {
      "cell_type": "code",
      "source": [
        "print(X.shape)\n",
        "pred = predictOneVsAll(all_theta, X)\n",
        "print('Precision del conjuto de entrenamiento: {:.2f}%'.format(np.mean(pred == y) * 100))"
      ],
      "metadata": {
        "colab": {
          "base_uri": "https://localhost:8080/"
        },
        "id": "5DwK8suHfFjN",
        "outputId": "384634b4-205a-4145-8896-dffba82169bc"
      },
      "execution_count": null,
      "outputs": [
        {
          "output_type": "stream",
          "name": "stdout",
          "text": [
            "(22869, 17)\n",
            "Precision del conjuto de entrenamiento: 57.01%\n"
          ]
        }
      ]
    },
    {
      "cell_type": "code",
      "source": [
        "# Código Agregado\n",
        "XPrueba = X[10:150, :].copy()\n",
        "print(XPrueba.shape)\n",
        "\n",
        "XPrueba = np.concatenate([np.ones((140, 1)), XPrueba], axis=1)\n",
        "print(XPrueba.shape)\n",
        "p = np.argmax(sigmoid(XPrueba.dot(all_theta.T)), axis = 1)\n",
        "print(p)\n",
        "\n",
        "# displayData(X[1002:1003, :])\n",
        "print(y[17:150])"
      ],
      "metadata": {
        "colab": {
          "base_uri": "https://localhost:8080/"
        },
        "id": "wzhcuiiNfWzV",
        "outputId": "d5659ec7-125f-4534-9ce4-8a8462a2a3fe"
      },
      "execution_count": null,
      "outputs": [
        {
          "output_type": "stream",
          "name": "stdout",
          "text": [
            "(140, 17)\n",
            "(140, 18)\n",
            "[3 2 1 2 3 1 5 4 1 3 3 3 1 4 3 1 2 0 2 2 4 3 2 3 1 3 1 1 1 2 2 1 4 1 3 3 4\n",
            " 4 1 1 1 0 0 2 1 1 3 3 1 0 1 1 2 0 1 4 4 4 2 3 4 0 2 3 2 0 0 4 4 3 1 3 4 0\n",
            " 3 3 4 4 2 2 1 1 3 1 0 3 1 0 0 2 2 3 2 1 4 2 2 3 3 4 1 4 1 1 2 0 1 4 1 1 4\n",
            " 4 0 3 1 1 1 2 1 2 1 1 2 3 5 2 3 3 1 1 0 1 1 2 2 2 1 3 1 2]\n",
            "[4. 3. 2. 3. 4. 1. 4. 1. 1. 1. 1. 1. 1. 2. 3. 1. 3. 1. 3. 1. 1. 1. 3. 2.\n",
            " 1. 1. 1. 1. 3. 1. 1. 1. 1. 1. 1. 1. 1. 1. 1. 1. 1. 1. 0. 1. 1. 1. 1. 1.\n",
            " 2. 3. 4. 5. 1. 3. 0. 1. 1. 3. 0. 0. 3. 4. 1. 1. 3. 4. 0. 3. 1. 1. 2. 1.\n",
            " 3. 5. 1. 2. 1. 1. 1. 1. 0. 0. 1. 1. 1. 1. 1. 4. 1. 1. 2. 4. 4. 1. 1. 1.\n",
            " 1. 1. 1. 4. 3. 1. 3. 2. 3. 0. 1. 3. 2. 1. 1. 1. 3. 1. 1. 1. 1. 4. 2. 1.\n",
            " 4. 1. 1. 0. 1. 4. 2. 2. 2. 1. 4. 1. 4.]\n"
          ]
        }
      ]
    }
  ]
}