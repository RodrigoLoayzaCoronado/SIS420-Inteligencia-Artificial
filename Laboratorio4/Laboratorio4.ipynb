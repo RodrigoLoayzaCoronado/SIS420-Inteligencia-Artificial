{
  "nbformat": 4,
  "nbformat_minor": 0,
  "metadata": {
    "colab": {
      "provenance": []
    },
    "kernelspec": {
      "name": "python3",
      "display_name": "Python 3"
    },
    "language_info": {
      "name": "python"
    }
  },
  "cells": [
    {
      "cell_type": "markdown",
      "source": [
        "<h1> LABORATORIO 4 <H1>\n",
        "<h2>ALUMNO: LOAIZA CORONADO RODRIGO JAIRO </h2>\n",
        "<h2>CARRERA ING. DE SISTEMAS</h2>\n",
        "<h3>FECHA: 31/03/2024</h3>"
      ],
      "metadata": {
        "id": "MDnYT9Jo5JcM"
      }
    },
    {
      "cell_type": "code",
      "execution_count": 328,
      "metadata": {
        "id": "F9rjqGIIumlX"
      },
      "outputs": [],
      "source": [
        "import os\n",
        "import numpy as np\n",
        "from matplotlib import pyplot\n",
        "# Librerias para graficación (trazado de gráficos)\n",
        "from matplotlib import pyplot as plt\n",
        "from mpl_toolkits.mplot3d import Axes3D\n",
        "\n",
        "import pandas as pd\n",
        "#Para separa el 20% y 80%\n",
        "from sklearn.model_selection import train_test_split\n",
        "\n",
        "# Modulo de optimizacion en scipy\n",
        "from scipy import optimize\n",
        "\n",
        "# llama a matplotlib a embeber graficas dentro de los cuadernillos\n",
        "%matplotlib inline"
      ]
    },
    {
      "cell_type": "code",
      "source": [
        "#Importamos los datos desde el drive\n",
        "from google.colab import drive\n",
        "drive.mount('/content/drive')"
      ],
      "metadata": {
        "colab": {
          "base_uri": "https://localhost:8080/"
        },
        "id": "1oQ5go7WvLlg",
        "outputId": "0f61e8b2-5532-43d2-8398-14dfc365700c"
      },
      "execution_count": 4,
      "outputs": [
        {
          "output_type": "stream",
          "name": "stdout",
          "text": [
            "Mounted at /content/drive\n"
          ]
        }
      ]
    },
    {
      "cell_type": "code",
      "source": [
        "# Leer datos\n",
        "data = np.loadtxt('/content/drive/MyDrive/SIS420 Inteligencia Artificial/machine learning/datasets/RijolesSecosDataset.csv', delimiter=',')\n",
        "\n",
        "# Definir X y y\n",
        "X = data[:, :12]\n",
        "y = data[:, 12]   # Última columna (EquivDiameter)\n",
        "\n",
        "m = y.size  # Tamaño de y (número de ejemplos)"
      ],
      "metadata": {
        "id": "2gC8N6eEustk"
      },
      "execution_count": 5,
      "outputs": []
    },
    {
      "cell_type": "code",
      "source": [
        "X.shape"
      ],
      "metadata": {
        "colab": {
          "base_uri": "https://localhost:8080/"
        },
        "id": "zYnMo0chuuXz",
        "outputId": "d8f5bc30-3f5b-4ef8-9c65-686bc2bdefd5"
      },
      "execution_count": 6,
      "outputs": [
        {
          "output_type": "execute_result",
          "data": {
            "text/plain": [
              "(13611, 12)"
            ]
          },
          "metadata": {},
          "execution_count": 6
        }
      ]
    },
    {
      "cell_type": "code",
      "source": [
        "def normalizarCaracteristicas(X):\n",
        "    X_norm = X.copy()\n",
        "    mu = np.zeros(X.shape[1])\n",
        "    sigma = np.zeros(X.shape[1])\n",
        "\n",
        "    mu = np.mean(X, axis = 0)\n",
        "    sigma = np.std(X, axis = 0)\n",
        "    X_norm = (X - mu) / sigma\n",
        "\n",
        "    return X_norm, mu, sigma"
      ],
      "metadata": {
        "id": "uLm_M9hsuwLE"
      },
      "execution_count": 7,
      "outputs": []
    },
    {
      "cell_type": "code",
      "source": [
        "# llama featureNormalize con los datos cargados\n",
        "X_norm, mu, sigma = normalizarCaracteristicas(X)\n",
        "\n",
        "#print(X)\n",
        "print('Media calculada:', mu)\n",
        "print('Desviación estandar calculada:', sigma)\n",
        "#print(X_norm)"
      ],
      "metadata": {
        "colab": {
          "base_uri": "https://localhost:8080/"
        },
        "id": "5O-JHQb6ux2T",
        "outputId": "30607669-e3bf-4985-af85-1cc935b9539e"
      },
      "execution_count": 8,
      "outputs": [
        {
          "output_type": "stream",
          "name": "stdout",
          "text": [
            "Media calculada: [5.30482845e+04 8.55283459e+02 3.20141867e+02 2.02270714e+02\n",
            " 1.58324198e+00 7.50894929e-01 5.37682002e+04 7.49732787e-01\n",
            " 9.87142844e-01 8.73281831e-01 7.99863682e-01 6.56360851e-03]\n",
            "Desviación estandar calculada: [2.93230185e+04 2.14281824e+02 8.56910379e+01 4.49684393e+01\n",
            " 2.46669394e-01 9.19983835e-02 2.97738220e+04 4.90845636e-02\n",
            " 4.66020797e-03 5.95177014e-02 6.17111960e-02 1.12795679e-03]\n"
          ]
        }
      ]
    },
    {
      "cell_type": "code",
      "source": [
        "def graficarDatos(x, y, xlabel, ylabel):\n",
        "    fig = pyplot.figure()\n",
        "    pyplot.plot(x, y, 'ro')\n",
        "    pyplot.xlabel(xlabel)\n",
        "    pyplot.ylabel(ylabel)\n",
        "    pyplot.show()\n",
        "\n",
        "# Leer datos\n",
        "data = np.loadtxt('/content/drive/MyDrive/SIS420 Inteligencia Artificial/machine learning/datasets/RijolesSecosDataset.csv', delimiter=',')\n",
        "\n",
        "# Definir X y y\n",
        "X = data[:, :-1]  # Todas las columnas excepto la última (EquivDiameter)\n",
        "y = data[:, -1]   # Última columna (EquivDiameter)\n",
        "\n",
        "# Graficar datos\n",
        "xlabel = [\"Area\", \"Perimeter\", \"MajorAxisLength\", \"MinorAxisLength\", \"AspectRation\", \"Eccentricity\", \"ConvexArea\", \"Extent\", \"Solidity\", \"roundness\", \"Compactness\", \"ShapeFactor1\"]\n",
        "ylabel = \"EquivDiameter\"\n",
        "\n",
        "for i in range(X.shape[1]):\n",
        "    graficarDatos(X[:, i], y, xlabel[i], ylabel)\n",
        "\n",
        "# Graficar combinación de características\n",
        "combinaciones = [(0, 1), (0, 2), (1, 2)]\n",
        "for combo in combinaciones:\n",
        "    graficarDatos(X[:, combo[0]], X[:, combo[1]], xlabel[combo[0]], xlabel[combo[1]])"
      ],
      "metadata": {
        "id": "X52Vy5XKuzz9"
      },
      "execution_count": null,
      "outputs": []
    },
    {
      "cell_type": "code",
      "source": [
        "# No olvidarse agregar unos a la matriz de x\n",
        "X_ready = np.concatenate([np.ones((m, 1)), X_norm], axis=1)"
      ],
      "metadata": {
        "id": "JYTcHcaqu2Tl"
      },
      "execution_count": 246,
      "outputs": []
    },
    {
      "cell_type": "code",
      "source": [
        "def calcularCosto(X, y, theta,lambda_):\n",
        "  m = y.size\n",
        "  J = 0\n",
        "  h = np.dot(X, theta)\n",
        "  # print(h)\n",
        "\n",
        "  #Sin REGULARIZACION\n",
        "  #J = (1/(2 * m)) * np.sum(np.square(np.dot(X, theta) - y))\n",
        "\n",
        "  #CON REGULARIZACION\n",
        "  J = (1/(2 * m)) * np.sum(np.square(np.dot(X, theta) - y))+ (lambda_ / (2 * m)) * np.sum(np.square(theta[1:]))\n",
        "  return J"
      ],
      "metadata": {
        "id": "IIlo0Lncu7V9"
      },
      "execution_count": 48,
      "outputs": []
    },
    {
      "cell_type": "code",
      "source": [
        "theta=np.array([0.5, 0.03, 0.02, 0.01, 0.01, 0.01, 0.01, 0.01, 0.01, 0.01, 0.01, 0.01, 0.0])\n",
        "lambdas_ = 0.1\n",
        "#LAMBDAS_ PARA OBTENER EL COSTO DE ACUERDO A LAS THETAS APLICADAS\n",
        "JJ = calcularCosto(X_ready, y, theta, lambdas_)\n",
        "print(f\"con theta:{ theta } se obtiene un costo de: {JJ}\")"
      ],
      "metadata": {
        "colab": {
          "base_uri": "https://localhost:8080/"
        },
        "id": "8VmuF8Kiu9n1",
        "outputId": "8c9cd906-3040-41f0-c432-0455c3c4b6fd"
      },
      "execution_count": 53,
      "outputs": [
        {
          "output_type": "stream",
          "name": "stdout",
          "text": [
            "con theta:[0.5  0.03 0.02 0.01 0.01 0.01 0.01 0.01 0.01 0.01 0.01 0.01 0.  ] se obtiene un costo de: 33640.75133459026\n"
          ]
        }
      ]
    },
    {
      "cell_type": "code",
      "source": [
        "def calcularDescensoGradiente(X, y, theta, alpha, numero_iteraciones, lambda_):\n",
        "  m = y.shape[0]\n",
        "  theta = theta.copy()\n",
        "  J_historico = []\n",
        "\n",
        "  for i in range(numero_iteraciones):\n",
        "    #SIN REGULARIZACION\n",
        "    theta = theta - (alpha / m) * (np.dot(X, theta) - y).dot(X)\n",
        "    #CON REGULARIZACION\n",
        "    #theta[1:] += (lambda_ / m) * theta[1:]\n",
        "    J_historico.append(calcularCosto(X, y, theta, lambda_))\n",
        "\n",
        "\n",
        "  return theta, J_historico"
      ],
      "metadata": {
        "id": "WyC8i8tiu_P1"
      },
      "execution_count": 174,
      "outputs": []
    },
    {
      "cell_type": "code",
      "source": [
        "theta = np.zeros(13)\n",
        "\n",
        "num_ite = 700\n",
        "alpha = 0.01\n",
        "lambda_ = 0.1\n",
        "theta, J_historico = calcularDescensoGradiente(X_ready, y, theta, alpha, num_ite, lambda_)\n",
        "print(f\"los valores de theta calculados son: { theta }\")\n",
        "print(f\"con un costo de: { J_historico[-1]} \")\n",
        "\n",
        "# Grafica la convergencia del costo\n",
        "pyplot.plot(np.arange(len(J_historico)), J_historico, lw=2)\n",
        "pyplot.xlabel('Numero de iteraciones')\n",
        "pyplot.ylabel('Costo J')"
      ],
      "metadata": {
        "colab": {
          "base_uri": "https://localhost:8080/",
          "height": 553
        },
        "id": "I2hlWyL9vA7A",
        "outputId": "a22db152-3ce3-42f0-e608-55f7fa57f3b6"
      },
      "execution_count": 175,
      "outputs": [
        {
          "output_type": "stream",
          "name": "stdout",
          "text": [
            "los valores de theta calculados son: [ 2.52841445e+02  1.04009337e+01  9.63247026e+00  9.50200245e+00\n",
            "  1.05778902e+01  1.27640407e+00  1.81162367e+00  1.03697342e+01\n",
            "  1.02966045e-01  5.74255976e-01  1.46574067e-01 -1.68550780e+00\n",
            " -9.68659131e+00]\n",
            "con un costo de: 0.5015553970427525 \n"
          ]
        },
        {
          "output_type": "execute_result",
          "data": {
            "text/plain": [
              "Text(0, 0.5, 'Costo J')"
            ]
          },
          "metadata": {},
          "execution_count": 175
        },
        {
          "output_type": "display_data",
          "data": {
            "text/plain": [
              "<Figure size 640x480 with 1 Axes>"
            ],
            "image/png": "[encoded data removed]"
          },
          "metadata": {}
        }
      ]
    },
    {
      "cell_type": "code",
      "source": [
        "\n",
        "graficarDatos(X_ready[:, 1], X_ready[:, 2], xlabel, xlabel)\n",
        "\n",
        "pyplot.plot(X_ready[:, 1], np.dot(X_ready, theta), '-')\n",
        "\n",
        "pyplot.legend(['Datos de entrenamiento', 'regresion lineal'])"
      ],
      "metadata": {
        "colab": {
          "base_uri": "https://localhost:8080/",
          "height": 879
        },
        "id": "axPSMd2kyRzp",
        "outputId": "a6aaef8b-10ac-4f4f-b5fa-3a7cecc65e3f"
      },
      "execution_count": 18,
      "outputs": [
        {
          "output_type": "display_data",
          "data": {
            "text/plain": [
              "<Figure size 640x480 with 1 Axes>"
            ],
            "image/png": "[encoded data removed]"
          },
          "metadata": {}
        },
        {
          "output_type": "execute_result",
          "data": {
            "text/plain": [
              "<matplotlib.legend.Legend at 0x7f26026107c0>"
            ]
          },
          "metadata": {},
          "execution_count": 18
        },
        {
          "output_type": "display_data",
          "data": {
            "text/plain": [
              "<Figure size 640x480 with 1 Axes>"
            ],
            "image/png": "[encoded data removed]"
          },
          "metadata": {}
        }
      ]
    },
    {
      "cell_type": "code",
      "source": [
        "y_pred = np.dot([1,28395, 610.291, 208.1781167, 173.888747, 1.197191424, 0.549812187, 28715, 0.763922518, 0.988855999, 0.958027126, 0.913357755, 0.007331506], theta)\n",
        "print(y_pred)"
      ],
      "metadata": {
        "colab": {
          "base_uri": "https://localhost:8080/"
        },
        "id": "HKhoFev1yU9J",
        "outputId": "4a3f6fae-6613-44f4-d5ec-609afed5ae09"
      },
      "execution_count": 56,
      "outputs": [
        {
          "output_type": "stream",
          "name": "stdout",
          "text": [
            "603142.1554937332\n"
          ]
        }
      ]
    },
    {
      "cell_type": "code",
      "source": [
        "def calcularThethaEcuacionNormal(X, y):\n",
        "    theta = np.zeros(X.shape[1])\n",
        "    theta = np.dot(np.dot(np.linalg.inv(np.dot(X.T,X)),X.T),y)\n",
        "    return theta"
      ],
      "metadata": {
        "id": "uVzNJ0kQyXeB"
      },
      "execution_count": 58,
      "outputs": []
    },
    {
      "cell_type": "code",
      "source": [
        "X_ren = np.concatenate([np.ones((m, 1)), X], axis=1)"
      ],
      "metadata": {
        "id": "FOVV42iNyY-x"
      },
      "execution_count": 59,
      "outputs": []
    },
    {
      "cell_type": "code",
      "source": [
        "theta = calcularThethaEcuacionNormal(X_ren, y);\n",
        "print(f\"los valores de theta calculados son: { theta }\")"
      ],
      "metadata": {
        "colab": {
          "base_uri": "https://localhost:8080/"
        },
        "id": "oTjV_3YZyaiK",
        "outputId": "47cd8690-5d59-4d37-9b2b-1dcbe4f782e5"
      },
      "execution_count": 60,
      "outputs": [
        {
          "output_type": "stream",
          "name": "stdout",
          "text": [
            "los valores de theta calculados son: [ 7.14525252e-02  9.23265364e-04  2.95312598e-02  3.11562758e-01\n",
            "  5.52254054e-01 -1.03371231e+01  1.73530785e+01 -8.26620396e-04\n",
            "  5.18623120e-02  4.19577131e+01  1.01466286e+01 -3.49446937e+01\n",
            " -1.10866970e+03]\n"
          ]
        }
      ]
    },
    {
      "cell_type": "code",
      "source": [
        "X_array = [1, 28395, 610.291, 208.1781167, 173.888747, 1.197191424, 0.549812187, 28715,\t0.763922518, 0.988855999, 0.958027126, 0.913357755, 0.007331506\n",
        "]\n",
        "price = np.dot(X_array, theta)\n",
        "\n",
        "print(f\"diametro predicho para un frijol de caracteristicas: area 28395, perimetro 610.291 (usando la ecuación de la normal): {price}\")"
      ],
      "metadata": {
        "colab": {
          "base_uri": "https://localhost:8080/"
        },
        "id": "VtQm5cHkycPj",
        "outputId": "ed16dc32-6fb4-48b4-866f-4fdef4d9e0aa"
      },
      "execution_count": 61,
      "outputs": [
        {
          "output_type": "stream",
          "name": "stdout",
          "text": [
            "diametro predicho para un frijol de caracteristicas: area 28395, perimetro 610.291 (usando la ecuación de la normal): 189.8358374848307\n"
          ]
        }
      ]
    },
    {
      "cell_type": "markdown",
      "source": [
        "<H1> REGRESION POLINOMICA <H1>"
      ],
      "metadata": {
        "id": "wGiTQE7BBjKn"
      }
    },
    {
      "cell_type": "code",
      "source": [
        "# Leer datos\n",
        "data = np.loadtxt('/content/drive/MyDrive/SIS420 Inteligencia Artificial/machine learning/datasets/RijolesSecosDataset.csv', delimiter=',')\n",
        "\n",
        "# Definir X y y\n",
        "X = data[:, :12]  # Todas las columnas excepto la última (EquivDiameter)\n",
        "y = data[:, 12]   # Última columna (EquivDiameter)\n",
        "\n",
        "# Graficar datos\n",
        "xlabel = [\"Area\", \"Perimeter\", \"MajorAxisLength\", \"MinorAxisLength\", \"AspectRation\", \"Eccentricity\", \"ConvexArea\", \"Extent\", \"Solidity\", \"roundness\", \"Compactness\", \"ShapeFactor1\"]\n",
        "ylabel = \"EquivDiameter\"\n",
        "#X_norm, mu, sigma = normalizarCaracteristicas(X)\n",
        "m = y.size  # Tamaño de y (número de ejemplos)\n",
        "\n"
      ],
      "metadata": {
        "id": "I6KhvMcABqv0"
      },
      "execution_count": 271,
      "outputs": []
    },
    {
      "cell_type": "code",
      "source": [
        "def normalizarCaracteristicas(X):\n",
        "    X_norm = X.copy()\n",
        "    mu = np.zeros(X.shape[1])\n",
        "    sigma = np.zeros(X.shape[1])\n",
        "\n",
        "    mu = np.mean(X, axis = 0)\n",
        "    sigma = np.std(X, axis = 0)\n",
        "    X_norm = (X - mu) / sigma\n",
        "\n",
        "    return X_norm, mu, sigma"
      ],
      "metadata": {
        "id": "uNTihhKgXUNa"
      },
      "execution_count": 272,
      "outputs": []
    },
    {
      "cell_type": "code",
      "source": [
        "X.shape"
      ],
      "metadata": {
        "colab": {
          "base_uri": "https://localhost:8080/"
        },
        "id": "vUgnsLTScvYj",
        "outputId": "8caaf020-819c-4620-f675-96973b586634"
      },
      "execution_count": 273,
      "outputs": [
        {
          "output_type": "execute_result",
          "data": {
            "text/plain": [
              "(13611, 12)"
            ]
          },
          "metadata": {},
          "execution_count": 273
        }
      ]
    },
    {
      "cell_type": "code",
      "source": [
        "# llama featureNormalize con los datos cargados\n",
        "X_norm, mu, sigma = normalizarCaracteristicas(X)\n",
        "\n",
        "#print(X)\n",
        "print('Media calculada:', mu)\n",
        "print('Desviación estandar calculada:', sigma)\n",
        "#print(X_norm)"
      ],
      "metadata": {
        "colab": {
          "base_uri": "https://localhost:8080/"
        },
        "id": "b0C6IEj8XenR",
        "outputId": "f324b4ce-5897-483f-ddc5-20486531cfa0"
      },
      "execution_count": 274,
      "outputs": [
        {
          "output_type": "stream",
          "name": "stdout",
          "text": [
            "Media calculada: [5.30482845e+04 8.55283459e+02 3.20141867e+02 2.02270714e+02\n",
            " 1.58324198e+00 7.50894929e-01 5.37682002e+04 7.49732787e-01\n",
            " 9.87142844e-01 8.73281831e-01 7.99863682e-01 6.56360851e-03]\n",
            "Desviación estandar calculada: [2.93230185e+04 2.14281824e+02 8.56910379e+01 4.49684393e+01\n",
            " 2.46669394e-01 9.19983835e-02 2.97738220e+04 4.90845636e-02\n",
            " 4.66020797e-03 5.95177014e-02 6.17111960e-02 1.12795679e-03]\n"
          ]
        }
      ]
    },
    {
      "cell_type": "code",
      "source": [
        "X = np.concatenate([np.ones((m, 1)), X_norm], axis=1)"
      ],
      "metadata": {
        "id": "SO4w_oIZCGTk"
      },
      "execution_count": 275,
      "outputs": []
    },
    {
      "cell_type": "code",
      "source": [
        "def computeCost(X, y, theta, lambda_):\n",
        "    m = y.size\n",
        "    J = 0\n",
        "    h = np.dot(X, theta)\n",
        "    #sin regularizacion\n",
        "    #J = (1/(2 * m)) * np.sum(np.square(np.dot(X, theta) - y))\n",
        "    #CON REGULARIZACION\n",
        "    J = (1/(2 * m)) * np.sum(np.square(np.dot(X, theta) - y))+ (lambda_ / (2 * m)) * np.sum(np.square(theta[1:]))\n",
        "    return J"
      ],
      "metadata": {
        "id": "XedFxiOLC7L9"
      },
      "execution_count": 276,
      "outputs": []
    },
    {
      "cell_type": "code",
      "source": [
        "theta=np.array([0.5, 0.03, 0.02, 0.01, 0.01, 0.01, 0.01, 0.01, 0.01, 0.01, 0.01, 0.01, 0.0])\n",
        "lambdas_ = 0.1\n",
        "#LAMBDAS_ PARA OBTENER EL COSTO DE ACUERDO A LAS THETAS APLICADAS\n",
        "JJ = calcularCosto(X, y, theta, lambdas_)\n",
        "print(f\"con theta:{ theta } se obtiene un costo de: {JJ}\")"
      ],
      "metadata": {
        "colab": {
          "base_uri": "https://localhost:8080/"
        },
        "id": "aECAyf4IbdX7",
        "outputId": "5c00eedd-3269-44d8-8782-3fbe33e7ae14"
      },
      "execution_count": 277,
      "outputs": [
        {
          "output_type": "stream",
          "name": "stdout",
          "text": [
            "con theta:[0.5  0.03 0.02 0.01 0.01 0.01 0.01 0.01 0.01 0.01 0.01 0.01 0.  ] se obtiene un costo de: 33640.75133459026\n"
          ]
        }
      ]
    },
    {
      "cell_type": "code",
      "source": [
        "def calcularDescensoGradientes(X, y, theta, alpha, numero_iteraciones, lambda_):\n",
        "  m = y.shape[0]\n",
        "  theta = theta.copy()\n",
        "  J_historico = []\n",
        "\n",
        "  for i in range(numero_iteraciones):\n",
        "    #SIN REGULARIZACION\n",
        "    #theta = theta - (alpha / m) * (np.dot(X, theta) - y).dot(X)\n",
        "    #CON REGULARIZACION\n",
        "    theta = theta - (alpha / m) * (np.dot(X, theta) - y).dot(X)\n",
        "    theta[1:] += (lambda_ / m) * theta[1:]\n",
        "    J_historico.append(computeCost(X, y, theta, lambda_))\n",
        "\n",
        "\n",
        "  return theta, J_historico\n",
        ""
      ],
      "metadata": {
        "id": "z21GB6-yC9T0"
      },
      "execution_count": 288,
      "outputs": []
    },
    {
      "cell_type": "code",
      "source": [
        "theta = np.zeros(13)\n",
        "\n",
        "num_ite = 700\n",
        "alpha = 0.01\n",
        "lambda_ = 0.1\n",
        "theta, J_historico = calcularDescensoGradientes(X, y, theta, alpha, num_ite, lambda_)\n",
        "print(f\"los valores de theta calculados son: { theta }\")\n",
        "print(f\"con un costo de: { J_historico[-1]} \")\n",
        "\n",
        "# Grafica la convergencia del costo\n",
        "pyplot.plot(np.arange(len(J_historico)), J_historico, lw=2)\n",
        "pyplot.xlabel('Numero de iteraciones')\n",
        "pyplot.ylabel('Costo J')"
      ],
      "metadata": {
        "colab": {
          "base_uri": "https://localhost:8080/",
          "height": 553
        },
        "id": "iiSggN1GC_VF",
        "outputId": "b58ba535-b1e3-497e-f396-e6ab17dca1c7"
      },
      "execution_count": 289,
      "outputs": [
        {
          "output_type": "stream",
          "name": "stdout",
          "text": [
            "los valores de theta calculados son: [ 2.52841445e+02  1.04025010e+01  9.63348564e+00  9.50373846e+00\n",
            "  1.05799746e+01  1.27666121e+00  1.81265042e+00  1.03712748e+01\n",
            "  1.01582672e-01  5.75096207e-01  1.51039862e-01 -1.68627008e+00\n",
            " -9.68815950e+00]\n",
            "con un costo de: 0.5009342272974241 \n"
          ]
        },
        {
          "output_type": "execute_result",
          "data": {
            "text/plain": [
              "Text(0, 0.5, 'Costo J')"
            ]
          },
          "metadata": {},
          "execution_count": 289
        },
        {
          "output_type": "display_data",
          "data": {
            "text/plain": [
              "<Figure size 640x480 with 1 Axes>"
            ],
            "image/png": "[encoded data removed]"
          },
          "metadata": {}
        }
      ]
    },
    {
      "cell_type": "markdown",
      "source": [
        "<h1> USO DE REGULARIZACION LABORATORIO 2  <h1>"
      ],
      "metadata": {
        "id": "klV98S-7gSUc"
      }
    },
    {
      "cell_type": "code",
      "source": [
        "# libreria pandas para leer el dataset.\n",
        "dataset = pd.read_csv('/content/drive/MyDrive/SIS420 Inteligencia Artificial/machine learning/datasets/ecomUserChurnData1.csv', delimiter=',')\n",
        "\n",
        "#Imprimimos el dataset.\n",
        "dataset"
      ],
      "metadata": {
        "colab": {
          "base_uri": "https://localhost:8080/",
          "height": 444
        },
        "id": "fny2nshFgcGT",
        "outputId": "08598898-6c3d-470e-d751-d2b4ee39c4bc"
      },
      "execution_count": 291,
      "outputs": [
        {
          "output_type": "execute_result",
          "data": {
            "text/plain": [
              "       visitorid  ses_rec  ses_rec_avg  ses_rec_sd  ses_rec_cv  user_rec  \\\n",
              "0             89       23    16.000000    0.000000    0.000000        39   \n",
              "1            251       23    61.000000    0.000000    0.000000        85   \n",
              "2            270       14     0.100000    0.300000    3.000000        21   \n",
              "3            298       11    13.000000    0.000000    0.000000        24   \n",
              "4            474       16    26.000000    0.000000    0.000000        43   \n",
              "...          ...      ...          ...         ...         ...       ...   \n",
              "49353    1406824       14    73.000000    0.000000    0.000000        87   \n",
              "49354    1406906       19    13.000000    0.000000    0.000000        32   \n",
              "49355    1406914       21     0.666667    0.942809    1.414214        23   \n",
              "49356    1407221        1     0.000000    0.000000   -1.000000         2   \n",
              "49357    1407504        2     6.000000    0.000000    0.000000         9   \n",
              "\n",
              "       ses_n   ses_n_r  int_n   int_n_r  ...  ses_mo_avg  ses_mo_sd  \\\n",
              "0          2  0.051282      3  1.500000  ...    7.000000   0.000000   \n",
              "1          2  0.023529      2  1.000000  ...    6.000000   1.414214   \n",
              "2         11  0.523810     13  1.181818  ...    7.454546   0.522233   \n",
              "3          2  0.083333      4  2.000000  ...    7.500000   0.707107   \n",
              "4          2  0.046512      2  1.000000  ...    7.000000   0.000000   \n",
              "...      ...       ...    ...       ...  ...         ...        ...   \n",
              "49353      2  0.022989      2  1.000000  ...    6.500000   2.121320   \n",
              "49354      2  0.062500      4  2.000000  ...    7.000000   0.000000   \n",
              "49355      4  0.173913     14  3.500000  ...    7.000000   0.000000   \n",
              "49356      2  1.000000      2  1.000000  ...    8.000000   0.000000   \n",
              "49357      2  0.222222      3  1.500000  ...    8.000000   0.000000   \n",
              "\n",
              "       ses_ho_avg  ses_ho_sd  ses_wknd_r  ses_len_avg  time_to_int  \\\n",
              "0       11.000000   7.071068    0.500000     2.866667     1.911111   \n",
              "1       13.500000   2.121320    1.000000     0.000000     0.000000   \n",
              "2       12.636364   4.342182    0.363636     1.104545     0.934615   \n",
              "3       11.500000   4.949748    0.000000     0.508333     0.254167   \n",
              "4       19.500000   2.121320    0.500000     0.000000     0.000000   \n",
              "...           ...        ...         ...          ...          ...   \n",
              "49353   10.500000   2.121320    0.000000     0.000000     0.000000   \n",
              "49354   12.000000   5.656854    0.000000     4.016667     2.008333   \n",
              "49355   13.250000   2.629955    0.750000     6.362500     1.817857   \n",
              "49356   14.500000   7.778174    1.000000     0.000000     0.000000   \n",
              "49357    9.500000   0.707107    1.000000     0.425000     0.283333   \n",
              "\n",
              "       time_to_tran  int_cat1_n  target_class  \n",
              "0                -1           0             1  \n",
              "1                -1           0             1  \n",
              "2                -1           0             1  \n",
              "3                -1           0             1  \n",
              "4                -1           0             1  \n",
              "...             ...         ...           ...  \n",
              "49353            -1           0             1  \n",
              "49354            -1           0             1  \n",
              "49355            -1           0             1  \n",
              "49356            -1           0             1  \n",
              "49357            -1           0             1  \n",
              "\n",
              "[49358 rows x 27 columns]"
            ],
            "text/html": [
              "\n",
              "  <div id=\"df-e1c9a0bd-b223-4149-bacd-b862977a917d\" class=\"colab-df-container\">\n",
              "    <div>\n",
              "<style scoped>\n",
              "    .dataframe tbody tr th:only-of-type {\n",
              "        vertical-align: middle;\n",
              "    }\n",
              "\n",
              "    .dataframe tbody tr th {\n",
              "        vertical-align: top;\n",
              "    }\n",
              "\n",
              "    .dataframe thead th {\n",
              "        text-align: right;\n",
              "    }\n",
              "</style>\n",
              "<table border=\"1\" class=\"dataframe\">\n",
              "  <thead>\n",
              "    <tr style=\"text-align: right;\">\n",
              "      <th></th>\n",
              "      <th>visitorid</th>\n",
              "      <th>ses_rec</th>\n",
              "      <th>ses_rec_avg</th>\n",
              "      <th>ses_rec_sd</th>\n",
              "      <th>ses_rec_cv</th>\n",
              "      <th>user_rec</th>\n",
              "      <th>ses_n</th>\n",
              "      <th>ses_n_r</th>\n",
              "      <th>int_n</th>\n",
              "      <th>int_n_r</th>\n",
              "      <th>...</th>\n",
              "      <th>ses_mo_avg</th>\n",
              "      <th>ses_mo_sd</th>\n",
              "      <th>ses_ho_avg</th>\n",
              "      <th>ses_ho_sd</th>\n",
              "      <th>ses_wknd_r</th>\n",
              "      <th>ses_len_avg</th>\n",
              "      <th>time_to_int</th>\n",
              "      <th>time_to_tran</th>\n",
              "      <th>int_cat1_n</th>\n",
              "      <th>target_class</th>\n",
              "    </tr>\n",
              "  </thead>\n",
              "  <tbody>\n",
              "    <tr>\n",
              "      <th>0</th>\n",
              "      <td>89</td>\n",
              "      <td>23</td>\n",
              "      <td>16.000000</td>\n",
              "      <td>0.000000</td>\n",
              "      <td>0.000000</td>\n",
              "      <td>39</td>\n",
              "      <td>2</td>\n",
              "      <td>0.051282</td>\n",
              "      <td>3</td>\n",
              "      <td>1.500000</td>\n",
              "      <td>...</td>\n",
              "      <td>7.000000</td>\n",
              "      <td>0.000000</td>\n",
              "      <td>11.000000</td>\n",
              "      <td>7.071068</td>\n",
              "      <td>0.500000</td>\n",
              "      <td>2.866667</td>\n",
              "      <td>1.911111</td>\n",
              "      <td>-1</td>\n",
              "      <td>0</td>\n",
              "      <td>1</td>\n",
              "    </tr>\n",
              "    <tr>\n",
              "      <th>1</th>\n",
              "      <td>251</td>\n",
              "      <td>23</td>\n",
              "      <td>61.000000</td>\n",
              "      <td>0.000000</td>\n",
              "      <td>0.000000</td>\n",
              "      <td>85</td>\n",
              "      <td>2</td>\n",
              "      <td>0.023529</td>\n",
              "      <td>2</td>\n",
              "      <td>1.000000</td>\n",
              "      <td>...</td>\n",
              "      <td>6.000000</td>\n",
              "      <td>1.414214</td>\n",
              "      <td>13.500000</td>\n",
              "      <td>2.121320</td>\n",
              "      <td>1.000000</td>\n",
              "      <td>0.000000</td>\n",
              "      <td>0.000000</td>\n",
              "      <td>-1</td>\n",
              "      <td>0</td>\n",
              "      <td>1</td>\n",
              "    </tr>\n",
              "    <tr>\n",
              "      <th>2</th>\n",
              "      <td>270</td>\n",
              "      <td>14</td>\n",
              "      <td>0.100000</td>\n",
              "      <td>0.300000</td>\n",
              "      <td>3.000000</td>\n",
              "      <td>21</td>\n",
              "      <td>11</td>\n",
              "      <td>0.523810</td>\n",
              "      <td>13</td>\n",
              "      <td>1.181818</td>\n",
              "      <td>...</td>\n",
              "      <td>7.454546</td>\n",
              "      <td>0.522233</td>\n",
              "      <td>12.636364</td>\n",
              "      <td>4.342182</td>\n",
              "      <td>0.363636</td>\n",
              "      <td>1.104545</td>\n",
              "      <td>0.934615</td>\n",
              "      <td>-1</td>\n",
              "      <td>0</td>\n",
              "      <td>1</td>\n",
              "    </tr>\n",
              "    <tr>\n",
              "      <th>3</th>\n",
              "      <td>298</td>\n",
              "      <td>11</td>\n",
              "      <td>13.000000</td>\n",
              "      <td>0.000000</td>\n",
              "      <td>0.000000</td>\n",
              "      <td>24</td>\n",
              "      <td>2</td>\n",
              "      <td>0.083333</td>\n",
              "      <td>4</td>\n",
              "      <td>2.000000</td>\n",
              "      <td>...</td>\n",
              "      <td>7.500000</td>\n",
              "      <td>0.707107</td>\n",
              "      <td>11.500000</td>\n",
              "      <td>4.949748</td>\n",
              "      <td>0.000000</td>\n",
              "      <td>0.508333</td>\n",
              "      <td>0.254167</td>\n",
              "      <td>-1</td>\n",
              "      <td>0</td>\n",
              "      <td>1</td>\n",
              "    </tr>\n",
              "    <tr>\n",
              "      <th>4</th>\n",
              "      <td>474</td>\n",
              "      <td>16</td>\n",
              "      <td>26.000000</td>\n",
              "      <td>0.000000</td>\n",
              "      <td>0.000000</td>\n",
              "      <td>43</td>\n",
              "      <td>2</td>\n",
              "      <td>0.046512</td>\n",
              "      <td>2</td>\n",
              "      <td>1.000000</td>\n",
              "      <td>...</td>\n",
              "      <td>7.000000</td>\n",
              "      <td>0.000000</td>\n",
              "      <td>19.500000</td>\n",
              "      <td>2.121320</td>\n",
              "      <td>0.500000</td>\n",
              "      <td>0.000000</td>\n",
              "      <td>0.000000</td>\n",
              "      <td>-1</td>\n",
              "      <td>0</td>\n",
              "      <td>1</td>\n",
              "    </tr>\n",
              "    <tr>\n",
              "      <th>...</th>\n",
              "      <td>...</td>\n",
              "      <td>...</td>\n",
              "      <td>...</td>\n",
              "      <td>...</td>\n",
              "      <td>...</td>\n",
              "      <td>...</td>\n",
              "      <td>...</td>\n",
              "      <td>...</td>\n",
              "      <td>...</td>\n",
              "      <td>...</td>\n",
              "      <td>...</td>\n",
              "      <td>...</td>\n",
              "      <td>...</td>\n",
              "      <td>...</td>\n",
              "      <td>...</td>\n",
              "      <td>...</td>\n",
              "      <td>...</td>\n",
              "      <td>...</td>\n",
              "      <td>...</td>\n",
              "      <td>...</td>\n",
              "      <td>...</td>\n",
              "    </tr>\n",
              "    <tr>\n",
              "      <th>49353</th>\n",
              "      <td>1406824</td>\n",
              "      <td>14</td>\n",
              "      <td>73.000000</td>\n",
              "      <td>0.000000</td>\n",
              "      <td>0.000000</td>\n",
              "      <td>87</td>\n",
              "      <td>2</td>\n",
              "      <td>0.022989</td>\n",
              "      <td>2</td>\n",
              "      <td>1.000000</td>\n",
              "      <td>...</td>\n",
              "      <td>6.500000</td>\n",
              "      <td>2.121320</td>\n",
              "      <td>10.500000</td>\n",
              "      <td>2.121320</td>\n",
              "      <td>0.000000</td>\n",
              "      <td>0.000000</td>\n",
              "      <td>0.000000</td>\n",
              "      <td>-1</td>\n",
              "      <td>0</td>\n",
              "      <td>1</td>\n",
              "    </tr>\n",
              "    <tr>\n",
              "      <th>49354</th>\n",
              "      <td>1406906</td>\n",
              "      <td>19</td>\n",
              "      <td>13.000000</td>\n",
              "      <td>0.000000</td>\n",
              "      <td>0.000000</td>\n",
              "      <td>32</td>\n",
              "      <td>2</td>\n",
              "      <td>0.062500</td>\n",
              "      <td>4</td>\n",
              "      <td>2.000000</td>\n",
              "      <td>...</td>\n",
              "      <td>7.000000</td>\n",
              "      <td>0.000000</td>\n",
              "      <td>12.000000</td>\n",
              "      <td>5.656854</td>\n",
              "      <td>0.000000</td>\n",
              "      <td>4.016667</td>\n",
              "      <td>2.008333</td>\n",
              "      <td>-1</td>\n",
              "      <td>0</td>\n",
              "      <td>1</td>\n",
              "    </tr>\n",
              "    <tr>\n",
              "      <th>49355</th>\n",
              "      <td>1406914</td>\n",
              "      <td>21</td>\n",
              "      <td>0.666667</td>\n",
              "      <td>0.942809</td>\n",
              "      <td>1.414214</td>\n",
              "      <td>23</td>\n",
              "      <td>4</td>\n",
              "      <td>0.173913</td>\n",
              "      <td>14</td>\n",
              "      <td>3.500000</td>\n",
              "      <td>...</td>\n",
              "      <td>7.000000</td>\n",
              "      <td>0.000000</td>\n",
              "      <td>13.250000</td>\n",
              "      <td>2.629955</td>\n",
              "      <td>0.750000</td>\n",
              "      <td>6.362500</td>\n",
              "      <td>1.817857</td>\n",
              "      <td>-1</td>\n",
              "      <td>0</td>\n",
              "      <td>1</td>\n",
              "    </tr>\n",
              "    <tr>\n",
              "      <th>49356</th>\n",
              "      <td>1407221</td>\n",
              "      <td>1</td>\n",
              "      <td>0.000000</td>\n",
              "      <td>0.000000</td>\n",
              "      <td>-1.000000</td>\n",
              "      <td>2</td>\n",
              "      <td>2</td>\n",
              "      <td>1.000000</td>\n",
              "      <td>2</td>\n",
              "      <td>1.000000</td>\n",
              "      <td>...</td>\n",
              "      <td>8.000000</td>\n",
              "      <td>0.000000</td>\n",
              "      <td>14.500000</td>\n",
              "      <td>7.778174</td>\n",
              "      <td>1.000000</td>\n",
              "      <td>0.000000</td>\n",
              "      <td>0.000000</td>\n",
              "      <td>-1</td>\n",
              "      <td>0</td>\n",
              "      <td>1</td>\n",
              "    </tr>\n",
              "    <tr>\n",
              "      <th>49357</th>\n",
              "      <td>1407504</td>\n",
              "      <td>2</td>\n",
              "      <td>6.000000</td>\n",
              "      <td>0.000000</td>\n",
              "      <td>0.000000</td>\n",
              "      <td>9</td>\n",
              "      <td>2</td>\n",
              "      <td>0.222222</td>\n",
              "      <td>3</td>\n",
              "      <td>1.500000</td>\n",
              "      <td>...</td>\n",
              "      <td>8.000000</td>\n",
              "      <td>0.000000</td>\n",
              "      <td>9.500000</td>\n",
              "      <td>0.707107</td>\n",
              "      <td>1.000000</td>\n",
              "      <td>0.425000</td>\n",
              "      <td>0.283333</td>\n",
              "      <td>-1</td>\n",
              "      <td>0</td>\n",
              "      <td>1</td>\n",
              "    </tr>\n",
              "  </tbody>\n",
              "</table>\n",
              "<p>49358 rows × 27 columns</p>\n",
              "</div>\n",
              "    <div class=\"colab-df-buttons\">\n",
              "\n",
              "  <div class=\"colab-df-container\">\n",
              "    <button class=\"colab-df-convert\" onclick=\"convertToInteractive('df-e1c9a0bd-b223-4149-bacd-b862977a917d')\"\n",
              "            title=\"Convert this dataframe to an interactive table.\"\n",
              "            style=\"display:none;\">\n",
              "\n",
              "  <svg xmlns=\"http://www.w3.org/2000/svg\" height=\"24px\" viewBox=\"0 -960 960 960\">\n",
              "    <path d=\"M120-120v-720h720v720H120Zm60-500h600v-160H180v160Zm220 220h160v-160H400v160Zm0 220h160v-160H400v160ZM180-400h160v-160H180v160Zm440 0h160v-160H620v160ZM180-180h160v-160H180v160Zm440 0h160v-160H620v160Z\"/>\n",
              "  </svg>\n",
              "    </button>\n",
              "\n",
              "  <style>\n",
              "    .colab-df-container {\n",
              "      display:flex;\n",
              "      gap: 12px;\n",
              "    }\n",
              "\n",
              "    .colab-df-convert {\n",
              "      background-color: #E8F0FE;\n",
              "      border: none;\n",
              "      border-radius: 50%;\n",
              "      cursor: pointer;\n",
              "      display: none;\n",
              "      fill: #1967D2;\n",
              "      height: 32px;\n",
              "      padding: 0 0 0 0;\n",
              "      width: 32px;\n",
              "    }\n",
              "\n",
              "    .colab-df-convert:hover {\n",
              "      background-color: #E2EBFA;\n",
              "      box-shadow: 0px 1px 2px rgba(60, 64, 67, 0.3), 0px 1px 3px 1px rgba(60, 64, 67, 0.15);\n",
              "      fill: #174EA6;\n",
              "    }\n",
              "\n",
              "    .colab-df-buttons div {\n",
              "      margin-bottom: 4px;\n",
              "    }\n",
              "\n",
              "    [theme=dark] .colab-df-convert {\n",
              "      background-color: #3B4455;\n",
              "      fill: #D2E3FC;\n",
              "    }\n",
              "\n",
              "    [theme=dark] .colab-df-convert:hover {\n",
              "      background-color: #434B5C;\n",
              "      box-shadow: 0px 1px 3px 1px rgba(0, 0, 0, 0.15);\n",
              "      filter: drop-shadow(0px 1px 2px rgba(0, 0, 0, 0.3));\n",
              "      fill: #FFFFFF;\n",
              "    }\n",
              "  </style>\n",
              "\n",
              "    <script>\n",
              "      const buttonEl =\n",
              "        document.querySelector('#df-e1c9a0bd-b223-4149-bacd-b862977a917d button.colab-df-convert');\n",
              "      buttonEl.style.display =\n",
              "        google.colab.kernel.accessAllowed ? 'block' : 'none';\n",
              "\n",
              "      async function convertToInteractive(key) {\n",
              "        const element = document.querySelector('#df-e1c9a0bd-b223-4149-bacd-b862977a917d');\n",
              "        const dataTable =\n",
              "          await google.colab.kernel.invokeFunction('convertToInteractive',\n",
              "                                                    [key], {});\n",
              "        if (!dataTable) return;\n",
              "\n",
              "        const docLinkHtml = 'Like what you see? Visit the ' +\n",
              "          '<a target=\"_blank\" href=https://colab.research.google.com/notebooks/data_table.ipynb>data table notebook</a>'\n",
              "          + ' to learn more about interactive tables.';\n",
              "        element.innerHTML = '';\n",
              "        dataTable['output_type'] = 'display_data';\n",
              "        await google.colab.output.renderOutput(dataTable, element);\n",
              "        const docLink = document.createElement('div');\n",
              "        docLink.innerHTML = docLinkHtml;\n",
              "        element.appendChild(docLink);\n",
              "      }\n",
              "    </script>\n",
              "  </div>\n",
              "\n",
              "\n",
              "<div id=\"df-3b36c41e-c834-46d7-a41e-aab553cb1cce\">\n",
              "  <button class=\"colab-df-quickchart\" onclick=\"quickchart('df-3b36c41e-c834-46d7-a41e-aab553cb1cce')\"\n",
              "            title=\"Suggest charts\"\n",
              "            style=\"display:none;\">\n",
              "\n",
              "<svg xmlns=\"http://www.w3.org/2000/svg\" height=\"24px\"viewBox=\"0 0 24 24\"\n",
              "     width=\"24px\">\n",
              "    <g>\n",
              "        <path d=\"M19 3H5c-1.1 0-2 .9-2 2v14c0 1.1.9 2 2 2h14c1.1 0 2-.9 2-2V5c0-1.1-.9-2-2-2zM9 17H7v-7h2v7zm4 0h-2V7h2v10zm4 0h-2v-4h2v4z\"/>\n",
              "    </g>\n",
              "</svg>\n",
              "  </button>\n",
              "\n",
              "<style>\n",
              "  .colab-df-quickchart {\n",
              "      --bg-color: #E8F0FE;\n",
              "      --fill-color: #1967D2;\n",
              "      --hover-bg-color: #E2EBFA;\n",
              "      --hover-fill-color: #174EA6;\n",
              "      --disabled-fill-color: #AAA;\n",
              "      --disabled-bg-color: #DDD;\n",
              "  }\n",
              "\n",
              "  [theme=dark] .colab-df-quickchart {\n",
              "      --bg-color: #3B4455;\n",
              "      --fill-color: #D2E3FC;\n",
              "      --hover-bg-color: #434B5C;\n",
              "      --hover-fill-color: #FFFFFF;\n",
              "      --disabled-bg-color: #3B4455;\n",
              "      --disabled-fill-color: #666;\n",
              "  }\n",
              "\n",
              "  .colab-df-quickchart {\n",
              "    background-color: var(--bg-color);\n",
              "    border: none;\n",
              "    border-radius: 50%;\n",
              "    cursor: pointer;\n",
              "    display: none;\n",
              "    fill: var(--fill-color);\n",
              "    height: 32px;\n",
              "    padding: 0;\n",
              "    width: 32px;\n",
              "  }\n",
              "\n",
              "  .colab-df-quickchart:hover {\n",
              "    background-color: var(--hover-bg-color);\n",
              "    box-shadow: 0 1px 2px rgba(60, 64, 67, 0.3), 0 1px 3px 1px rgba(60, 64, 67, 0.15);\n",
              "    fill: var(--button-hover-fill-color);\n",
              "  }\n",
              "\n",
              "  .colab-df-quickchart-complete:disabled,\n",
              "  .colab-df-quickchart-complete:disabled:hover {\n",
              "    background-color: var(--disabled-bg-color);\n",
              "    fill: var(--disabled-fill-color);\n",
              "    box-shadow: none;\n",
              "  }\n",
              "\n",
              "  .colab-df-spinner {\n",
              "    border: 2px solid var(--fill-color);\n",
              "    border-color: transparent;\n",
              "    border-bottom-color: var(--fill-color);\n",
              "    animation:\n",
              "      spin 1s steps(1) infinite;\n",
              "  }\n",
              "\n",
              "  @keyframes spin {\n",
              "    0% {\n",
              "      border-color: transparent;\n",
              "      border-bottom-color: var(--fill-color);\n",
              "      border-left-color: var(--fill-color);\n",
              "    }\n",
              "    20% {\n",
              "      border-color: transparent;\n",
              "      border-left-color: var(--fill-color);\n",
              "      border-top-color: var(--fill-color);\n",
              "    }\n",
              "    30% {\n",
              "      border-color: transparent;\n",
              "      border-left-color: var(--fill-color);\n",
              "      border-top-color: var(--fill-color);\n",
              "      border-right-color: var(--fill-color);\n",
              "    }\n",
              "    40% {\n",
              "      border-color: transparent;\n",
              "      border-right-color: var(--fill-color);\n",
              "      border-top-color: var(--fill-color);\n",
              "    }\n",
              "    60% {\n",
              "      border-color: transparent;\n",
              "      border-right-color: var(--fill-color);\n",
              "    }\n",
              "    80% {\n",
              "      border-color: transparent;\n",
              "      border-right-color: var(--fill-color);\n",
              "      border-bottom-color: var(--fill-color);\n",
              "    }\n",
              "    90% {\n",
              "      border-color: transparent;\n",
              "      border-bottom-color: var(--fill-color);\n",
              "    }\n",
              "  }\n",
              "</style>\n",
              "\n",
              "  <script>\n",
              "    async function quickchart(key) {\n",
              "      const quickchartButtonEl =\n",
              "        document.querySelector('#' + key + ' button');\n",
              "      quickchartButtonEl.disabled = true;  // To prevent multiple clicks.\n",
              "      quickchartButtonEl.classList.add('colab-df-spinner');\n",
              "      try {\n",
              "        const charts = await google.colab.kernel.invokeFunction(\n",
              "            'suggestCharts', [key], {});\n",
              "      } catch (error) {\n",
              "        console.error('Error during call to suggestCharts:', error);\n",
              "      }\n",
              "      quickchartButtonEl.classList.remove('colab-df-spinner');\n",
              "      quickchartButtonEl.classList.add('colab-df-quickchart-complete');\n",
              "    }\n",
              "    (() => {\n",
              "      let quickchartButtonEl =\n",
              "        document.querySelector('#df-3b36c41e-c834-46d7-a41e-aab553cb1cce button');\n",
              "      quickchartButtonEl.style.display =\n",
              "        google.colab.kernel.accessAllowed ? 'block' : 'none';\n",
              "    })();\n",
              "  </script>\n",
              "</div>\n",
              "\n",
              "  <div id=\"id_97f34122-ec14-43d5-8201-89f7b09ffe1c\">\n",
              "    <style>\n",
              "      .colab-df-generate {\n",
              "        background-color: #E8F0FE;\n",
              "        border: none;\n",
              "        border-radius: 50%;\n",
              "        cursor: pointer;\n",
              "        display: none;\n",
              "        fill: #1967D2;\n",
              "        height: 32px;\n",
              "        padding: 0 0 0 0;\n",
              "        width: 32px;\n",
              "      }\n",
              "\n",
              "      .colab-df-generate:hover {\n",
              "        background-color: #E2EBFA;\n",
              "        box-shadow: 0px 1px 2px rgba(60, 64, 67, 0.3), 0px 1px 3px 1px rgba(60, 64, 67, 0.15);\n",
              "        fill: #174EA6;\n",
              "      }\n",
              "\n",
              "      [theme=dark] .colab-df-generate {\n",
              "        background-color: #3B4455;\n",
              "        fill: #D2E3FC;\n",
              "      }\n",
              "\n",
              "      [theme=dark] .colab-df-generate:hover {\n",
              "        background-color: #434B5C;\n",
              "        box-shadow: 0px 1px 3px 1px rgba(0, 0, 0, 0.15);\n",
              "        filter: drop-shadow(0px 1px 2px rgba(0, 0, 0, 0.3));\n",
              "        fill: #FFFFFF;\n",
              "      }\n",
              "    </style>\n",
              "    <button class=\"colab-df-generate\" onclick=\"generateWithVariable('dataset')\"\n",
              "            title=\"Generate code using this dataframe.\"\n",
              "            style=\"display:none;\">\n",
              "\n",
              "  <svg xmlns=\"http://www.w3.org/2000/svg\" height=\"24px\"viewBox=\"0 0 24 24\"\n",
              "       width=\"24px\">\n",
              "    <path d=\"M7,19H8.4L18.45,9,17,7.55,7,17.6ZM5,21V16.75L18.45,3.32a2,2,0,0,1,2.83,0l1.4,1.43a1.91,1.91,0,0,1,.58,1.4,1.91,1.91,0,0,1-.58,1.4L9.25,21ZM18.45,9,17,7.55Zm-12,3A5.31,5.31,0,0,0,4.9,8.1,5.31,5.31,0,0,0,1,6.5,5.31,5.31,0,0,0,4.9,4.9,5.31,5.31,0,0,0,6.5,1,5.31,5.31,0,0,0,8.1,4.9,5.31,5.31,0,0,0,12,6.5,5.46,5.46,0,0,0,6.5,12Z\"/>\n",
              "  </svg>\n",
              "    </button>\n",
              "    <script>\n",
              "      (() => {\n",
              "      const buttonEl =\n",
              "        document.querySelector('#id_97f34122-ec14-43d5-8201-89f7b09ffe1c button.colab-df-generate');\n",
              "      buttonEl.style.display =\n",
              "        google.colab.kernel.accessAllowed ? 'block' : 'none';\n",
              "\n",
              "      buttonEl.onclick = () => {\n",
              "        google.colab.notebook.generateWithVariable('dataset');\n",
              "      }\n",
              "      })();\n",
              "    </script>\n",
              "  </div>\n",
              "\n",
              "    </div>\n",
              "  </div>\n"
            ],
            "application/vnd.google.colaboratory.intrinsic+json": {
              "type": "dataframe",
              "variable_name": "dataset"
            }
          },
          "metadata": {},
          "execution_count": 291
        }
      ]
    },
    {
      "cell_type": "code",
      "source": [
        "# usamos la libreria train_test_split que nos ayudara a separar el 80% y 20% de los datos.\n",
        "train_dataset, test_dataset = train_test_split(dataset, test_size=0.2)\n",
        "\n",
        "#Separamos en X_test los datos, pero dropeando (Y) 'target_class'\n",
        "X_test = test_dataset.drop(['target_class'], axis=1).values\n",
        "\n",
        "#Separamos en y_test los datos, pero solo cargando la columna de 'target_class', ya que esa sera nuestra y\n",
        "y_test = test_dataset['target_class'].values\n",
        "\n",
        "# tomamos train_dataset, seleccionamos las columnas para X_train y la columna 'target_class' para y_train\n",
        "X_train = train_dataset.drop(['target_class'], axis=1).values\n",
        "y_train = train_dataset['target_class'].values\n",
        "m_train = len(y_train)"
      ],
      "metadata": {
        "id": "HMQMUUEghKlU"
      },
      "execution_count": 292,
      "outputs": []
    },
    {
      "cell_type": "code",
      "source": [
        "\n",
        "# Imprimir las primeras 10 instancias con 26 columnas y la variable Y\n",
        "print('{:>12s}{:>8s}{:>10s}{:>10s}{:>10s}{:>10s}{:>10s}{:>10s}{:>10s}{:>10s}{:>10s}{:>10s}{:>10s}{:>10s}{:>10s}{:>10s}{:>10s}{:>10s}{:>10s}{:>10s}{:>10s}{:>10s}{:>10s}{:>10s}{:>10s}{:>10s}{:>10s}'.format(\n",
        "    'visitorid', 'ses_rec', 'ses_rec_avg', 'ses_rec_sd', 'ses_rec_cv', 'user_rec', 'ses_n', 'ses_n_r', 'int_n', 'int_n_r', 'tran_n', 'tran_n_r', 'rev_sum', 'rev_sum_r', 'major_spend_r', 'int_cat_n_avg', 'int_itm_n_avg', 'ses_mo_avg', 'ses_mo_sd', 'ses_ho_avg', 'ses_ho_sd', 'ses_wknd_r', 'ses_len_avg', 'time_to_int', 'time_to_tran', 'int_cat1_n', 'target_class'\n",
        "))\n",
        "print('-' * 366)\n",
        "\n",
        "for i in range(10):\n",
        "    print('{:12.3f}{:8.3f}{:10.3f}{:10.3f}{:10.3f}{:10.3f}{:10.3f}{:10.3f}{:10.3f}{:10.3f}{:10.3f}{:10.3f}{:10.3f}{:10.3f}{:10.3f}{:10.3f}{:10.3f}{:10.3f}{:10.3f}{:10.3f}{:10.3f}{:10.3f}{:10.3f}{:10.3f}{:10.3f}{:10.3f}{:10.3f}'.format(\n",
        "        X_train[i, 0], X_train[i, 1], X_train[i, 2], X_train[i, 3], X_train[i, 4], X_train[i, 5], X_train[i, 6], X_train[i, 7], X_train[i, 8], X_train[i, 9], X_train[i, 10], X_train[i, 11], X_train[i, 12], X_train[i, 13], X_train[i, 14], X_train[i, 15], X_train[i, 16], X_train[i, 17], X_train[i, 18], X_train[i, 19], X_train[i, 20], X_train[i, 21], X_train[i, 22], X_train[i, 23], X_train[i, 24], X_train[i, 25], y_train[i]\n",
        "    ))\n",
        "\n",
        "\n"
      ],
      "metadata": {
        "colab": {
          "base_uri": "https://localhost:8080/"
        },
        "id": "rRLEgYbVhX_M",
        "outputId": "af91fea1-9832-481c-8b65-74aae776aa0c"
      },
      "execution_count": 293,
      "outputs": [
        {
          "output_type": "stream",
          "name": "stdout",
          "text": [
            "   visitorid ses_recses_rec_avgses_rec_sdses_rec_cv  user_rec     ses_n   ses_n_r     int_n   int_n_r    tran_n  tran_n_r   rev_sum rev_sum_rmajor_spend_rint_cat_n_avgint_itm_n_avgses_mo_avg ses_mo_sdses_ho_avg ses_ho_sdses_wknd_rses_len_avgtime_to_inttime_to_tranint_cat1_ntarget_class\n",
            "------------------------------------------------------------------------------------------------------------------------------------------------------------------------------------------------------------------------------------------------------------------------------------------------------------------------------------------------------------------------------\n",
            "  601098.000   0.000    61.000     0.000     0.000    62.000     2.000     0.032     3.000     1.500     0.000     0.000     0.000     0.000     0.000     1.000     1.500     7.000     1.414    10.500     6.364     0.000     0.267     0.178    -1.000     0.000     1.000\n",
            "  160253.000  22.000     0.000     0.000    -1.000    22.000     3.000     0.136     6.000     2.000     0.000     0.000     0.000     0.000     0.000     1.000     2.000     7.000     0.000    15.333     4.041     1.000     4.844     2.422    -1.000     0.000     1.000\n",
            "  366176.000   9.000    35.000     0.000     0.000    44.000     2.000     0.045     2.000     1.000     0.000     0.000     0.000     0.000     0.000     1.000     1.000     7.500     0.707    16.500     7.778     0.500     0.000     0.000    -1.000     0.000     1.000\n",
            "  872607.000  11.000    12.000     0.000     0.000    24.000     2.000     0.083     2.000     1.000     0.000     0.000     0.000     0.000     0.000     1.000     1.000     7.500     0.707    11.000     1.414     0.000     0.000     0.000    -1.000     0.000     1.000\n",
            " 1284994.000   4.000    94.000     0.000     0.000    98.000     2.000     0.020     3.000     1.500     0.000     0.000     0.000     0.000     0.000     1.000     1.000     6.500     2.121    14.500     2.121     0.000     6.225     4.150    -1.000     0.000     1.000\n",
            "  378281.000  30.000     1.000     0.000     0.000    31.000     2.000     0.065     4.000     2.000     0.000     0.000     0.000     0.000     0.000     1.000     1.500     7.000     0.000    11.500    16.263     0.500     0.442     0.221    -1.000     0.000     1.000\n",
            "  146970.000   3.000     1.000     0.000     0.000     4.000     2.000     0.500     2.000     1.000     0.000     0.000     0.000     0.000     0.000     1.000     1.000     8.000     0.000    20.500     0.707     0.000     0.000     0.000    -1.000     0.000     1.000\n",
            " 1383755.000  19.000     1.200     1.470     1.225    27.000     6.000     0.222    10.000     1.667     0.000     0.000     0.000     0.000     0.000     1.000     1.333     7.000     0.000    15.500     4.506     0.333     6.183     3.710    -1.000     0.000     1.000\n",
            "  145843.000  30.000    38.000     0.000     0.000    69.000     2.000     0.029     4.000     2.000     0.000     0.000     0.000     0.000     0.000     1.000     2.000     6.500     0.707    11.000     1.414     0.500     6.100     3.050    -1.000     3.000     1.000\n",
            "  388800.000   4.000     1.000     1.000     1.000     7.000     3.000     0.429    30.000    10.000     0.000     0.000     0.000     0.000     0.000     1.000     4.667     8.000     0.000    16.333     7.234     0.000    11.528     1.153    -1.000     0.000     1.000\n"
          ]
        }
      ]
    },
    {
      "cell_type": "code",
      "source": [
        "def  featureNormalize(X):\n",
        "    X_norm = X.copy()\n",
        "\n",
        "    #creamos un array de ceros con una longitud igual al número de columnas en el array X. La variable mu y sigma se inicializa como este array de ceros.\n",
        "    mu = np.zeros(X.shape[1])\n",
        "    sigma = np.zeros(X.shape[1])\n",
        "\n",
        "    #Creamos el promedio de cada columna de X\n",
        "    mu = np.mean(X, axis = 0)\n",
        "    sigma = np.std(X, axis = 0)\n",
        "\n",
        "    sigma[sigma == 0] = 1\n",
        "\n",
        "    #normalizamos los datos con la siguiente formula\n",
        "    X_norm = (X - mu) / sigma\n",
        "\n",
        "    return X_norm, mu, sigma"
      ],
      "metadata": {
        "id": "7Q6uHDPChbxk"
      },
      "execution_count": 294,
      "outputs": []
    },
    {
      "cell_type": "code",
      "source": [
        "# Imprimir los valores normalizados de las características para las primeras 10 instancias\n",
        "X_norm, mu, sigma= featureNormalize(X_train)\n",
        "# Imprimir las primeras 10 instancias con 26 columnas y la variable Y\n",
        "print('{:>12s}{:>8s}{:>10s}{:>10s}{:>10s}{:>10s}{:>10s}{:>10s}{:>10s}{:>10s}{:>10s}{:>10s}{:>10s}{:>10s}{:>10s}{:>10s}{:>10s}{:>10s}{:>10s}{:>10s}{:>10s}{:>10s}{:>10s}{:>10s}{:>10s}{:>10s}'.format(\n",
        "    'visitorid', 'ses_rec', 'ses_rec_avg', 'ses_rec_sd', 'ses_rec_cv', 'user_rec', 'ses_n', 'ses_n_r', 'int_n', 'int_n_r', 'tran_n', 'tran_n_r', 'rev_sum', 'rev_sum_r', 'major_spend_r', 'int_cat_n_avg', 'int_itm_n_avg', 'ses_mo_avg', 'ses_mo_sd', 'ses_ho_avg', 'ses_ho_sd', 'ses_wknd_r', 'ses_len_avg', 'time_to_int', 'time_to_tran', 'int_cat1_n',\n",
        "))\n",
        "print('-' * 290)\n",
        "\n",
        "for i in range(10):\n",
        "    print('{:12.3f}{:8.3f}{:10.3f}{:10.3f}{:10.3f}{:10.3f}{:10.3f}{:10.3f}{:10.3f}{:10.3f}{:10.3f}{:10.3f}{:10.3f}{:10.3f}{:10.3f}{:10.3f}{:10.3f}{:10.3f}{:10.3f}{:10.3f}{:10.3f}{:10.3f}{:10.3f}{:10.3f}{:10.3f}{:10.3f}'.format(\n",
        "        X_norm[i, 0], X_norm[i, 1], X_norm[i, 2], X_norm[i, 3], X_norm[i, 4], X_norm[i, 5], X_norm[i, 6], X_norm[i, 7], X_norm[i, 8], X_norm[i, 9], X_norm[i, 10], X_norm[i, 11], X_norm[i, 12], X_norm[i, 13], X_norm[i, 14], X_norm[i, 15], X_norm[i, 16], X_norm[i, 17], X_norm[i, 18], X_norm[i, 19], X_norm[i, 20], X_norm[i, 21], X_norm[i, 22], X_norm[i, 23], X_norm[i, 24], X_norm[i, 25]\n",
        "    ))\n",
        "\n"
      ],
      "metadata": {
        "colab": {
          "base_uri": "https://localhost:8080/"
        },
        "id": "2FnJ__-jhfUU",
        "outputId": "0e98e548-f40a-4ddc-a7cd-a884326d5094"
      },
      "execution_count": 295,
      "outputs": [
        {
          "output_type": "stream",
          "name": "stdout",
          "text": [
            "   visitorid ses_recses_rec_avgses_rec_sdses_rec_cv  user_rec     ses_n   ses_n_r     int_n   int_n_r    tran_n  tran_n_r   rev_sum rev_sum_rmajor_spend_rint_cat_n_avgint_itm_n_avgses_mo_avg ses_mo_sdses_ho_avg ses_ho_sdses_wknd_rses_len_avgtime_to_inttime_to_tranint_cat1_n\n",
            "--------------------------------------------------------------------------------------------------------------------------------------------------------------------------------------------------------------------------------------------------------------------------------------------------\n",
            "      -0.257  -1.681     2.732    -0.413     0.020     1.110    -0.179    -0.381    -0.092    -0.151    -0.039    -0.149    -0.033    -0.097    -0.180    -0.152     0.067    -0.346     2.074    -0.847     0.994    -0.750    -0.417    -0.468    -0.205    -0.048\n",
            "      -1.338   0.710    -0.619    -0.413    -1.068    -0.471    -0.051    -0.096    -0.020     0.192    -0.039    -0.149    -0.033    -0.097    -0.180    -0.152     0.545    -0.346    -0.671     0.361     0.223     2.046     0.886     1.758    -0.205    -0.048\n",
            "      -0.833  -0.703     1.304    -0.413     0.020     0.399    -0.179    -0.345    -0.117    -0.494    -0.039    -0.149    -0.033    -0.097    -0.180    -0.152    -0.412     0.518     0.701     0.652     1.463     0.648    -0.493    -0.644    -0.205    -0.048\n",
            "       0.408  -0.485     0.040    -0.413     0.020    -0.392    -0.179    -0.241    -0.117    -0.494    -0.039    -0.149    -0.033    -0.097    -0.180    -0.152    -0.412     0.518     0.701    -0.722    -0.649    -0.750    -0.493    -0.644    -0.205    -0.048\n",
            "       1.419  -1.247     4.545    -0.413     0.020     2.534    -0.179    -0.413    -0.092    -0.151    -0.039    -0.149    -0.033    -0.097    -0.180    -0.152    -0.412    -1.211     3.447     0.152    -0.414    -0.750     1.278     3.472    -0.205    -0.048\n",
            "      -0.803   1.580    -0.565    -0.413     0.020    -0.115    -0.179    -0.293    -0.068     0.192    -0.039    -0.149    -0.033    -0.097    -0.180    -0.152     0.067    -0.346    -0.671    -0.597     4.280     0.648    -0.367    -0.425    -0.205    -0.048\n",
            "      -1.370  -1.355    -0.565    -0.413     0.020    -1.182    -0.179     0.901    -0.117    -0.494    -0.039    -0.149    -0.033    -0.097    -0.180    -0.152    -0.412     1.383    -0.671     1.651    -0.884    -0.750    -0.493    -0.644    -0.205    -0.048\n",
            "       1.661   0.384    -0.554    -0.190     1.352    -0.273     0.334     0.140     0.076    -0.036    -0.039    -0.149    -0.033    -0.097    -0.180    -0.152    -0.093    -0.346    -0.671     0.402     0.377     0.182     1.267     3.035    -0.205    -0.048\n",
            "      -1.373   1.580     1.468    -0.413     0.020     1.387    -0.179    -0.390    -0.068     0.192    -0.039    -0.149    -0.033    -0.097    -0.180    -0.152     0.545    -1.211     0.701    -0.722    -0.649     0.648     1.243     2.381    -0.205     0.941\n",
            "      -0.778  -1.247    -0.565    -0.261     1.107    -1.064    -0.051     0.705     0.558     5.684    -0.039    -0.149    -0.033    -0.097    -0.180    -0.152     3.097     1.383    -0.671     0.610     1.283    -0.750     2.787     0.499    -0.205    -0.048\n"
          ]
        }
      ]
    },
    {
      "cell_type": "code",
      "source": [
        "X_ready = np.concatenate([np.ones((m_train, 1)), X_norm], axis=1)\n",
        "\n",
        "# imprimir todos las X_norm de datos solo 10\n",
        "print('{:>8s}{:>8s}{:>10s}{:>10s}{:>8s}{:>8s}{:>8s}{:>8s}{:>6s}{:>10s}{:>10s}{:>10s}{:>10s}{:>10s}{:>8s}{:>8s}{:>8s}{:>8s}{:>6s}{:>10s}{:>10s}{:>8s}{:>8s}'.format(\n",
        "    'X[:,0]', 'X[:, 1]', 'X[:, 2]', 'X[:, 3]', 'X[:, 4]', 'X[:, 5]', 'X[:, 6]', 'X[:, 7]', 'X[:, 8]', 'X[:, 9]', 'X[:, 10]', 'X[:, 11]', 'X[:, 12]', 'X[:, 13]', 'X[:, 14]', 'X[:, 15]', 'X[:, 16]', 'X[:, 17]', 'X[:, 18]', 'X[:, 19]', 'X[:, 20]', 'X[:, 21]', 'X[:, 22]', 'X[:, 23]'\n",
        "))\n",
        "print('-' * 142)\n",
        "\n",
        "for i in range(10):\n",
        "    print('{:8.3f}{:8.3f}{:10.3f}{:10.3f}{:8.3f}{:8.3f}{:8.3f}{:8.3f}{:8.3f}{:10.3f}{:8.3f}{:8.3f}{:8.3f}{:8.3f}{:8.3f}{:8.3f}{:8.3f}{:8.3f}{:8.3f}{:8.3f}{:8.3f}{:8.3f}{:8.3f}{:8.3f}'.format(\n",
        "        X_ready[i, 0], X_ready[i, 1], X_ready[i, 2], X_ready[i, 3], X_ready[i, 4], X_ready[i, 5], X_ready[i, 6], X_ready[i, 7], X_ready[i, 8], X_ready[i, 9], X_ready[i, 10], X_ready[i, 11], X_ready[i, 12],X_ready[i, 13],X_ready[i, 14],X_ready[i, 15],X_ready[i, 16],X_ready[i, 17],X_ready[i, 18],X_ready[i, 19],X_ready[i, 20],X_ready[i, 21],X_ready[i, 22],X_ready[i, 23]\n",
        "    ))"
      ],
      "metadata": {
        "colab": {
          "base_uri": "https://localhost:8080/"
        },
        "id": "vL49e1FAhkQE",
        "outputId": "b282f104-deeb-4816-f484-8f5be50805db"
      },
      "execution_count": 296,
      "outputs": [
        {
          "output_type": "stream",
          "name": "stdout",
          "text": [
            "  X[:,0] X[:, 1]   X[:, 2]   X[:, 3] X[:, 4] X[:, 5] X[:, 6] X[:, 7]X[:, 8]   X[:, 9]  X[:, 10]  X[:, 11]  X[:, 12]  X[:, 13]X[:, 14]X[:, 15]X[:, 16]X[:, 17]X[:, 18]  X[:, 19]  X[:, 20]X[:, 21]X[:, 22]\n",
            "----------------------------------------------------------------------------------------------------------------------------------------------\n",
            "   1.000  -0.257    -1.681     2.732  -0.413   0.020   1.110  -0.179  -0.381    -0.092  -0.151  -0.039  -0.149  -0.033  -0.097  -0.180  -0.152   0.067  -0.346   2.074  -0.847   0.994  -0.750  -0.417\n",
            "   1.000  -1.338     0.710    -0.619  -0.413  -1.068  -0.471  -0.051  -0.096    -0.020   0.192  -0.039  -0.149  -0.033  -0.097  -0.180  -0.152   0.545  -0.346  -0.671   0.361   0.223   2.046   0.886\n",
            "   1.000  -0.833    -0.703     1.304  -0.413   0.020   0.399  -0.179  -0.345    -0.117  -0.494  -0.039  -0.149  -0.033  -0.097  -0.180  -0.152  -0.412   0.518   0.701   0.652   1.463   0.648  -0.493\n",
            "   1.000   0.408    -0.485     0.040  -0.413   0.020  -0.392  -0.179  -0.241    -0.117  -0.494  -0.039  -0.149  -0.033  -0.097  -0.180  -0.152  -0.412   0.518   0.701  -0.722  -0.649  -0.750  -0.493\n",
            "   1.000   1.419    -1.247     4.545  -0.413   0.020   2.534  -0.179  -0.413    -0.092  -0.151  -0.039  -0.149  -0.033  -0.097  -0.180  -0.152  -0.412  -1.211   3.447   0.152  -0.414  -0.750   1.278\n",
            "   1.000  -0.803     1.580    -0.565  -0.413   0.020  -0.115  -0.179  -0.293    -0.068   0.192  -0.039  -0.149  -0.033  -0.097  -0.180  -0.152   0.067  -0.346  -0.671  -0.597   4.280   0.648  -0.367\n",
            "   1.000  -1.370    -1.355    -0.565  -0.413   0.020  -1.182  -0.179   0.901    -0.117  -0.494  -0.039  -0.149  -0.033  -0.097  -0.180  -0.152  -0.412   1.383  -0.671   1.651  -0.884  -0.750  -0.493\n",
            "   1.000   1.661     0.384    -0.554  -0.190   1.352  -0.273   0.334   0.140     0.076  -0.036  -0.039  -0.149  -0.033  -0.097  -0.180  -0.152  -0.093  -0.346  -0.671   0.402   0.377   0.182   1.267\n",
            "   1.000  -1.373     1.580     1.468  -0.413   0.020   1.387  -0.179  -0.390    -0.068   0.192  -0.039  -0.149  -0.033  -0.097  -0.180  -0.152   0.545  -1.211   0.701  -0.722  -0.649   0.648   1.243\n",
            "   1.000  -0.778    -1.247    -0.565  -0.261   1.107  -1.064  -0.051   0.705     0.558   5.684  -0.039  -0.149  -0.033  -0.097  -0.180  -0.152   3.097   1.383  -0.671   0.610   1.283  -0.750   2.787\n"
          ]
        }
      ]
    },
    {
      "cell_type": "code",
      "source": [
        "def sigmoid(z):\n",
        "    # Calcula la sigmoide de una entrada z\n",
        "    # convierte la intrada a un arreglo numpy\n",
        "    z = np.array(z)\n",
        "\n",
        "    g = np.zeros(z.shape)\n",
        "\n",
        "    g = 1 / (1 + np.exp(-z))\n",
        "\n",
        "    return g"
      ],
      "metadata": {
        "id": "S7mhqDyxhoT0"
      },
      "execution_count": 297,
      "outputs": []
    },
    {
      "cell_type": "code",
      "source": [
        "print(sigmoid(0))"
      ],
      "metadata": {
        "colab": {
          "base_uri": "https://localhost:8080/"
        },
        "id": "JULEWIK_hqeU",
        "outputId": "3d1d1afd-65cf-4560-cabe-b53662d38057"
      },
      "execution_count": 298,
      "outputs": [
        {
          "output_type": "stream",
          "name": "stdout",
          "text": [
            "0.5\n"
          ]
        }
      ]
    },
    {
      "cell_type": "code",
      "source": [
        "z = [0.5, 6, 5]\n",
        "print(sigmoid(z))"
      ],
      "metadata": {
        "colab": {
          "base_uri": "https://localhost:8080/"
        },
        "id": "tvYeN8t4hwVU",
        "outputId": "f3c9d74e-78c0-413d-9d89-8719561faf6c"
      },
      "execution_count": 299,
      "outputs": [
        {
          "output_type": "stream",
          "name": "stdout",
          "text": [
            "[0.62245933 0.99752738 0.99330715]\n"
          ]
        }
      ]
    },
    {
      "cell_type": "code",
      "source": [
        "def CostoCalculado(theta, X, y, lambda_ ):\n",
        "    # Inicializar algunos valores utiles\n",
        "    m = y.size  # numero de ejemplos de entrenamiento\n",
        "\n",
        "    J = 0\n",
        "    h = sigmoid(X.dot(theta.T))\n",
        "    #hacemos el uso de la funcion sigmoid\n",
        "    #sin regularizacion\n",
        "    #J = (1 / m) * np.sum(-y.dot(np.log(h)) - (1 - y).dot(np.log(1 - h)))\n",
        "    #con regularizacion\n",
        "    J = (1/(2 * m)) * np.sum(np.square(np.dot(X, theta) - y))+ (lambda_ / (2 * m)) * np.sum(np.square(theta[1:]))\n",
        "    return J"
      ],
      "metadata": {
        "id": "jkQ1gyJshzUk"
      },
      "execution_count": 320,
      "outputs": []
    },
    {
      "cell_type": "code",
      "source": [
        "def descensoGradientess(theta, X, y, alpha, num_iters, lambda_):\n",
        "    # Inicializa algunos valores\n",
        "    m = y.shape[0] # numero de ejemplos de entrenamiento\n",
        "\n",
        "    # realiza una copia de theta, el cual será acutalizada por el descenso por el gradiente\n",
        "    theta = theta.copy()\n",
        "    J_history = []\n",
        "\n",
        "    for i in range(num_iters):\n",
        "        h = sigmoid(X.dot(theta.T))\n",
        "        #SIN REGULARIZACION\n",
        "        #theta = theta - (alpha / m) * (h - y).dot(X)\n",
        "        #CON REGULARIZACION\n",
        "        theta = theta - (alpha / m) * (np.dot(X, theta) - y).dot(X)\n",
        "        theta[1:] += (lambda_ / m) * theta[1:]\n",
        "\n",
        "        J_history.append(CostoCalculado(theta, X, y, lambda_))\n",
        "    return theta, J_history"
      ],
      "metadata": {
        "id": "JPOWaqNBh4i8"
      },
      "execution_count": 321,
      "outputs": []
    },
    {
      "cell_type": "code",
      "source": [
        "#creamos un theta con 19 columnas de ceros\n",
        "theta = np.zeros(len(X_ready[0]))\n",
        "\n",
        "#numero de iteraciones sera 5000 y un alpha 0.009\n",
        "num_ite = 500\n",
        "alpha = 0.05\n",
        "lambda_= 0.1\n",
        "theta, J_historico = descensoGradientess(theta, X_ready, y_train, alpha, num_ite, lambda_)\n",
        "\n",
        "print(\"########################################################################################################\")\n",
        "print(\"Los valores de theta calculados son:\")\n",
        "i = 0\n",
        "for tht in theta:\n",
        "    i += 1\n",
        "    print(f\"theta {i}: {tht}\")\n",
        "\n",
        "\n",
        "print(f\"########################################################################################################\")\n",
        "#mostramos el ultimo costo, este seria el mejor costo\n",
        "print(f\"con un costo de: { J_historico[-1]} \")\n",
        "pyplot.plot(np.arange(len(J_historico)), J_historico, lw=2)\n",
        "pyplot.title(\"Grafica de la convergencia del costo\")\n",
        "pyplot.xlabel('Numero de iteraciones')\n",
        "pyplot.ylabel('Costo J')"
      ],
      "metadata": {
        "colab": {
          "base_uri": "https://localhost:8080/",
          "height": 1000
        },
        "id": "fpkGEwK9h6S8",
        "outputId": "ee22a1cf-8a99-4d87-90cf-ec4e732bacf1"
      },
      "execution_count": 323,
      "outputs": [
        {
          "output_type": "stream",
          "name": "stdout",
          "text": [
            "########################################################################################################\n",
            "Los valores de theta calculados son:\n",
            "theta 1: 0.8857569771500171\n",
            "theta 2: -0.0006296816160406849\n",
            "theta 3: 0.0978392056327113\n",
            "theta 4: 0.07509197245276167\n",
            "theta 5: 0.02757364712933094\n",
            "theta 6: -0.027122415521528356\n",
            "theta 7: -0.11483301374421953\n",
            "theta 8: -0.0176737964735244\n",
            "theta 9: -0.005857118316844591\n",
            "theta 10: 0.01741877002075932\n",
            "theta 11: -0.0009739546569531211\n",
            "theta 12: -0.004324141770845167\n",
            "theta 13: 0.003216688017533127\n",
            "theta 14: -0.00255192729687665\n",
            "theta 15: -0.0026042214210404324\n",
            "theta 16: -0.003975837003827517\n",
            "theta 17: -0.002486109473109189\n",
            "theta 18: -0.0076223080167960216\n",
            "theta 19: 0.007043554465097738\n",
            "theta 20: 0.01145337246719672\n",
            "theta 21: 0.001215586121156208\n",
            "theta 22: -0.0012746608262095807\n",
            "theta 23: 0.00261684552732824\n",
            "theta 24: 0.0015567205393198647\n",
            "theta 25: -0.002557079444588335\n",
            "theta 26: 0.0029595096310425597\n",
            "theta 27: 2.3144938790367077e-05\n",
            "########################################################################################################\n",
            "con un costo de: 0.045327438945768586 \n"
          ]
        },
        {
          "output_type": "execute_result",
          "data": {
            "text/plain": [
              "Text(0, 0.5, 'Costo J')"
            ]
          },
          "metadata": {},
          "execution_count": 323
        },
        {
          "output_type": "display_data",
          "data": {
            "text/plain": [
              "<Figure size 640x480 with 1 Axes>"
            ],
            "image/png": "[encoded data removed]"
          },
          "metadata": {}
        }
      ]
    },
    {
      "cell_type": "code",
      "source": [
        "X_array = [1,2866,0,22,0,0,23,2,0.08695652,3,1.5,0,0,0,0,0,1,1,7.5,0.70710677,18,7.071068,1,6.0916667,4.061111,-1,0\n",
        "]\n",
        "X_array_copy = X_array.copy()\n",
        "\n",
        "\n",
        "\n",
        "# Se calcula el resultado utilizando la función sigmoid y el producto punto entre X_array y theta\n",
        "resultados = sigmoid(np.dot(X_array, theta))\n",
        "\n",
        "# Se imprime el resultado\n",
        "print(f\"Una persona con las características: {X_array_copy}\")\n",
        "print(f\"Tiene una probabilidad de abandono del comercio electrónico del {resultados * 100}%\")\n",
        "print(f\"Con valores de theta: {theta}\")\n"
      ],
      "metadata": {
        "colab": {
          "base_uri": "https://localhost:8080/"
        },
        "id": "IDZZRxmjibMb",
        "outputId": "2bdaa081-2616-4271-bb82-0fd4947dd861"
      },
      "execution_count": 324,
      "outputs": [
        {
          "output_type": "stream",
          "name": "stdout",
          "text": [
            "Una persona con las características: [1, 2866, 0, 22, 0, 0, 23, 2, 0.08695652, 3, 1.5, 0, 0, 0, 0, 0, 1, 1, 7.5, 0.70710677, 18, 7.071068, 1, 6.0916667, 4.061111, -1, 0]\n",
            "Tiene una probabilidad de abandono del comercio electrónico del 13.81587293645591%\n",
            "Con valores de theta: [ 8.85756977e-01 -6.29681616e-04  9.78392056e-02  7.50919725e-02\n",
            "  2.75736471e-02 -2.71224155e-02 -1.14833014e-01 -1.76737965e-02\n",
            " -5.85711832e-03  1.74187700e-02 -9.73954657e-04 -4.32414177e-03\n",
            "  3.21668802e-03 -2.55192730e-03 -2.60422142e-03 -3.97583700e-03\n",
            " -2.48610947e-03 -7.62230802e-03  7.04355447e-03  1.14533725e-02\n",
            "  1.21558612e-03 -1.27466083e-03  2.61684553e-03  1.55672054e-03\n",
            " -2.55707944e-03  2.95950963e-03  2.31449388e-05]\n"
          ]
        }
      ]
    },
    {
      "cell_type": "code",
      "source": [
        "X_norm_test = (X_test- mu) / sigma\n",
        "m_test= len(X_test)"
      ],
      "metadata": {
        "id": "Lxqc1fa3kVQk"
      },
      "execution_count": 325,
      "outputs": []
    },
    {
      "cell_type": "code",
      "source": [
        "X_test_ready = np.concatenate([np.ones((m_test, 1)), X_norm_test], axis=1)\n",
        "\n",
        "# imprimir todos las X_norm de datos solo 10\n",
        "print('{:>8s}{:>8s}{:>10s}{:>10s}{:>8s}{:>8s}{:>8s}{:>8s}{:>6s}{:>10s}{:>10s}{:>10s}'.format(\n",
        "    'X[:,0]', 'X[:, 1]', 'X[:, 2]', 'X[:, 3]', 'X[:, 4]', 'X[:, 5]', 'X[:, 6]', 'X[:, 7]', 'X[:, 8]', 'X[:, 9]', 'X[:, 10]', 'X[:, 11]'\n",
        "))\n",
        "print('-' * 110)\n",
        "\n",
        "for i in range(10):\n",
        "    print('{:8.3f}{:8.3f}{:10.3f}{:10.3f}{:8.3f}{:8.3f}{:8.3f}{:8.3f}{:8.3f}{:10.3f}{:8.3f}{:8.3f}'.format(\n",
        "    X_test_ready[i, 0], X_test_ready[i, 1], X_test_ready[i, 2], X_test_ready[i, 3], X_test_ready[i, 4], X_test_ready[i, 5], X_test_ready[i, 6],\n",
        "    X_test_ready[i, 7], X_test_ready[i, 8], X_test_ready[i, 9], X_test_ready[i, 10], X_test_ready[i, 11]\n",
        "    ))"
      ],
      "metadata": {
        "colab": {
          "base_uri": "https://localhost:8080/"
        },
        "id": "RxEQkHxJkXWc",
        "outputId": "f7963e5c-8554-4b33-83a6-d46a033031e9"
      },
      "execution_count": 326,
      "outputs": [
        {
          "output_type": "stream",
          "name": "stdout",
          "text": [
            "  X[:,0] X[:, 1]   X[:, 2]   X[:, 3] X[:, 4] X[:, 5] X[:, 6] X[:, 7]X[:, 8]   X[:, 9]  X[:, 10]  X[:, 11]\n",
            "--------------------------------------------------------------------------------------------------------------\n",
            "   1.000  -1.400    -0.159     1.743  -0.413   0.020   0.952  -0.179  -0.375    -0.117  -0.494  -0.039\n",
            "   1.000  -0.219     1.145    -0.345   0.659   1.558   0.280   0.078  -0.202    -0.068  -0.494  -0.039\n",
            "   1.000   0.505    -0.594    -0.619  -0.413  -1.068  -0.906  -0.051   0.278    -0.092  -0.494  -0.039\n",
            "   1.000   0.006     0.384    -0.619  -0.413  -1.068  -0.589  -0.051  -0.037     0.341   3.624  -0.039\n",
            "   1.000   1.608     0.928    -0.619  -0.413  -1.068  -0.392  -0.179  -0.241    -0.092  -0.151  -0.039\n",
            "   1.000  -1.224    -0.812    -0.455  -0.413   0.020  -0.866  -0.179  -0.013    -0.117  -0.494  -0.039\n",
            "   1.000   1.061     0.384    -0.162   0.710   0.987   0.438   0.078  -0.226    -0.068  -0.494  -0.039\n",
            "   1.000   0.390     0.928    -0.235   0.648   1.107   0.162  -0.051  -0.253    -0.092  -0.494  -0.039\n",
            "   1.000  -0.665     0.167     0.315  -0.413   0.020   0.043  -0.179  -0.313    -0.117  -0.494  -0.039\n",
            "   1.000  -0.288     1.580    -0.619  -0.413  -1.068  -0.155  -0.179  -0.287    -0.117  -0.494  -0.039\n"
          ]
        }
      ]
    },
    {
      "cell_type": "code",
      "source": [
        "y_predicha = []\n",
        "\n",
        "# Calculamos la Y predicha de cada fila de la matriz\n",
        "for dato in X_test_ready:\n",
        "    y_predicha.append(sigmoid(np.dot(dato, theta)))\n",
        "\n",
        "# Convertimos la lista a un array unidimensional\n",
        "y_predicha = np.array(y_predicha)\n",
        "\n",
        "# Usando el umbral donde todo aquello que sea >= 0.5 sera 1, y si es menor sera 0\n",
        "y_umbral = (y_predicha >= 0.5).astype(int)\n",
        "\n",
        "# Imprimir todos los datos de X y las predicciones\n",
        "print('{:>8s}{:>8s}{:>10s}{:>10s}{:>8s}{:>8s}{:>8s}{:>8s}{:>8s}{:>10s}{:>10s}{:>10s}{:>10s}{:>10s}{:>10s}{:>10s}{:>10s}{:>10s}{:>10s}{:>10s}{:>10s}{:>10s}{:>10s}{:>10s}{:>10s}{:>10s}{:>10s}'.format(\n",
        "    'X[:,0]', 'X[:, 1]', 'X[:, 2]', 'X[:, 3]', 'X[:, 4]', 'X[:, 5]', 'X[:, 6]', 'X[:, 7]', 'X[:, 8]', 'X[:, 9]', 'X[:, 10]', 'X[:, 11]', 'X[:, 12]', 'X[:, 13]', 'X[:, 14]', 'X[:, 15]', 'X[:, 16]', 'X[:, 17]', 'X[:, 18]', 'X[:, 19]', 'X[:, 20]', 'X[:, 21]', 'X[:, 22]', 'X[:, 23]', 'X[:, 24]', 'y_predicha', '(y) usando el umbral'\n",
        "))\n",
        "print('-' * 250)\n",
        "\n",
        "# Mostrando algunos datos\n",
        "for i in range(10):\n",
        "    print('{:8.3f}{:8.3f}{:10.3f}{:10.3f}{:8.3f}{:8.3f}{:8.3f}{:8.3f}{:8.3f}{:10.3f}{:10.3f}{:10.3f}{:10.3f}{:10.3f}{:10.3f}{:10.3f}{:10.3f}{:10.3f}{:10.3f}{:10.3f}{:10.3f}{:10.3f}{:10.3f}{:10.3f}{:10.3f}{:10.3f}{:10d}'.format(\n",
        "        X_test_ready[i, 0], X_test_ready[i, 1], X_test_ready[i, 2], X_test_ready[i, 3], X_test_ready[i, 4], X_test_ready[i, 5], X_test_ready[i, 6],\n",
        "        X_test_ready[i, 7], X_test_ready[i, 8], X_test_ready[i, 9], X_test_ready[i, 10], X_test_ready[i, 11], X_test_ready[i, 12], X_test_ready[i, 13],\n",
        "        X_test_ready[i, 14], X_test_ready[i, 15], X_test_ready[i, 16], X_test_ready[i, 17], X_test_ready[i, 18], X_test_ready[i, 19], X_test_ready[i, 20],\n",
        "        X_test_ready[i, 21], X_test_ready[i, 22], X_test_ready[i, 23], X_test_ready[i, 24], y_predicha[i], y_umbral[i]\n",
        "    ))\n"
      ],
      "metadata": {
        "colab": {
          "base_uri": "https://localhost:8080/"
        },
        "id": "URa23h9OkZ2E",
        "outputId": "fe853de6-328d-4e10-cbae-7f4ac323b528"
      },
      "execution_count": 327,
      "outputs": [
        {
          "output_type": "stream",
          "name": "stdout",
          "text": [
            "  X[:,0] X[:, 1]   X[:, 2]   X[:, 3] X[:, 4] X[:, 5] X[:, 6] X[:, 7] X[:, 8]   X[:, 9]  X[:, 10]  X[:, 11]  X[:, 12]  X[:, 13]  X[:, 14]  X[:, 15]  X[:, 16]  X[:, 17]  X[:, 18]  X[:, 19]  X[:, 20]  X[:, 21]  X[:, 22]  X[:, 23]  X[:, 24]y_predicha(y) usando el umbral\n",
            "----------------------------------------------------------------------------------------------------------------------------------------------------------------------------------------------------------------------------------------------------------\n",
            "   1.000  -1.400    -0.159     1.743  -0.413   0.020   0.952  -0.179  -0.375    -0.117    -0.494    -0.039    -0.149    -0.033    -0.097    -0.180    -0.152    -0.412    -0.346     2.074     0.277     1.229     2.046    -0.493    -0.644     0.714         1\n",
            "   1.000  -0.219     1.145    -0.345   0.659   1.558   0.280   0.078  -0.202    -0.068    -0.494    -0.039    -0.149    -0.033    -0.097    -0.180    -0.152    -0.412    -0.346    -0.671     1.151     0.606    -0.750    -0.493    -0.644     0.713         1\n",
            "   1.000   0.505    -0.594    -0.619  -0.413  -1.068  -0.906  -0.051   0.278    -0.092    -0.494    -0.039    -0.149    -0.033    -0.097    -0.180    -0.152    -0.412     1.383    -0.671     0.694     0.710    -0.750    -0.493    -0.644     0.712         1\n",
            "   1.000   0.006     0.384    -0.619  -0.413  -1.068  -0.589  -0.051  -0.037     0.341     3.624    -0.039    -0.149    -0.033    -0.097    -0.180     2.527     2.778    -0.346    -0.671    -1.887    -0.611    -0.750     2.756     0.973     0.716         1\n",
            "   1.000   1.608     0.928    -0.619  -0.413  -1.068  -0.392  -0.179  -0.241    -0.092    -0.151    -0.039    -0.149    -0.033    -0.097    -0.180    -0.152    -0.412    -0.346    -0.671     0.527    -1.118    -0.750     0.719     2.171     0.728         1\n",
            "   1.000  -1.224    -0.812    -0.455  -0.413   0.020  -0.866  -0.179  -0.013    -0.117    -0.494    -0.039    -0.149    -0.033    -0.097    -0.180    -0.152    -0.412     1.383    -0.671     0.652    -0.884     0.648    -0.493    -0.644     0.705         1\n",
            "   1.000   1.061     0.384    -0.162   0.710   0.987   0.438   0.078  -0.226    -0.068    -0.494    -0.039    -0.149    -0.033    -0.097    -0.180    -0.152    -0.412    -0.346    -0.671    -0.410    -0.620    -0.750    -0.493    -0.644     0.700         1\n",
            "   1.000   0.390     0.928    -0.235   0.648   1.107   0.162  -0.051  -0.253    -0.092    -0.494    -0.039    -0.149    -0.033    -0.097    -0.180    -0.152    -0.412    -0.346    -0.671    -0.056     0.710    -0.750    -0.493    -0.644     0.715         1\n",
            "   1.000  -0.665     0.167     0.315  -0.413   0.020   0.043  -0.179  -0.313    -0.117    -0.494    -0.039    -0.149    -0.033    -0.097    -0.180    -0.152    -0.412    -0.346    -0.671    -0.847    -0.414    -0.750    -0.493    -0.644     0.712         1\n",
            "   1.000  -0.288     1.580    -0.619  -0.413  -1.068  -0.155  -0.179  -0.287    -0.117    -0.494    -0.039    -0.149    -0.033    -0.097    -0.180    -0.152    -0.412    -0.346    -0.671    -0.972    -1.118     2.046    -0.493    -0.644     0.737         1\n"
          ]
        }
      ]
    },
    {
      "cell_type": "code",
      "source": [
        "print('Precisión de entrenamiento: {:.2f} %'.format(np.mean(y_umbral == y_test) * 100))"
      ],
      "metadata": {
        "colab": {
          "base_uri": "https://localhost:8080/"
        },
        "id": "NBKJJJbKkegU",
        "outputId": "53bab2c1-37c8-4195-fc19-dfdb65ef151c"
      },
      "execution_count": 310,
      "outputs": [
        {
          "output_type": "stream",
          "name": "stdout",
          "text": [
            "Precisión de entrenamiento: 88.56 %\n"
          ]
        }
      ]
    },
    {
      "cell_type": "markdown",
      "source": [
        "<h1> REGULARIZACION EN LABORATORIO 3 <H1>"
      ],
      "metadata": {
        "id": "5iiYYRLLpWOX"
      }
    },
    {
      "cell_type": "code",
      "source": [
        "input_layer_size  = 18\n",
        "# tengo 6 clases\n",
        "num_labels = 6\n",
        "#se pone 7 a pesar de haber 6 clases con esto el 0 no se toma en cuenta (como es uno contra todos hay que realizar este artificio para considerar todas las clases u otra opcion es convertir el 6 en 0)(el argmmax nos da 0 1 2 y para tomar en cuenta las 3 clases aumentamos 1 mas y quitamos el 0)\n",
        "data = np.loadtxt('/content/drive/MyDrive/SIS420 Inteligencia Artificial/machine learning/datasets/Datos.csv', delimiter=',', skiprows=1, usecols=range(1, input_layer_size+1))\n",
        "\n",
        "# Separar las características (X) de las etiquetas (y)\n",
        "X = data[:, :-1]  # Todas las filas, todas las columnas excepto la última\n",
        "y = data[:, -1]   # Todas las filas, última columna\n",
        "\n",
        "# Número de ejemplos\n",
        "m = y.size"
      ],
      "metadata": {
        "id": "BSBWsJqipaCN"
      },
      "execution_count": 329,
      "outputs": []
    },
    {
      "cell_type": "code",
      "source": [
        "print(X[0, :])\n",
        "print('---------------------- ')  # Imprime la primera fila de características\n",
        "print(y)             # Imprime las etiquetas\n"
      ],
      "metadata": {
        "colab": {
          "base_uri": "https://localhost:8080/"
        },
        "id": "aix20bRBqH3-",
        "outputId": "c8d787f4-7343-4051-ba48-2ce819c4f961"
      },
      "execution_count": 330,
      "outputs": [
        {
          "output_type": "stream",
          "name": "stdout",
          "text": [
            "[ 0.          1.          0.          2.          0.          0.\n",
            "  3.          3.          0.14893617  0.32075472  0.18656716  0.5\n",
            "  0.66666667  0.5         0.          0.5        24.38652644]\n",
            "---------------------- \n",
            "[1. 1. 1. ... 5. 3. 5.]\n"
          ]
        }
      ]
    },
    {
      "cell_type": "code",
      "source": [
        "# Calcular el conteo de cada clase\n",
        "clases, conteo = np.unique(y, return_counts=True)\n",
        "\n",
        "# Imprimir el conteo de cada clase\n",
        "for clase, count in zip(clases, conteo):\n",
        "    print(f\"Clase {int(clase)}: {count} ejemplos\")"
      ],
      "metadata": {
        "colab": {
          "base_uri": "https://localhost:8080/"
        },
        "id": "CY38s8QdqN7P",
        "outputId": "1e932171-d466-44c8-9ca5-0566eb676e35"
      },
      "execution_count": 331,
      "outputs": [
        {
          "output_type": "stream",
          "name": "stdout",
          "text": [
            "Clase 0: 2795 ejemplos\n",
            "Clase 1: 3369 ejemplos\n",
            "Clase 2: 2717 ejemplos\n",
            "Clase 3: 2812 ejemplos\n",
            "Clase 4: 3261 ejemplos\n",
            "Clase 5: 3545 ejemplos\n",
            "Clase 6: 4370 ejemplos\n"
          ]
        }
      ]
    },
    {
      "cell_type": "code",
      "source": [
        "def  featureNormalize(X):\n",
        "    X_norm = X.copy()\n",
        "    mu = np.zeros(X.shape[1])\n",
        "    sigma = np.zeros(X.shape[1])\n",
        "\n",
        "    mu = np.mean(X, axis = 0)\n",
        "    sigma = np.std(X, axis = 0)\n",
        "    X_norm = (X - mu) / sigma\n",
        "\n",
        "    return X_norm, mu, sigma"
      ],
      "metadata": {
        "id": "efEPq47aqRpm"
      },
      "execution_count": 332,
      "outputs": []
    },
    {
      "cell_type": "code",
      "source": [
        "X_norm, mu, sigma = featureNormalize(X)"
      ],
      "metadata": {
        "id": "obdU695SqVWP"
      },
      "execution_count": 333,
      "outputs": []
    },
    {
      "cell_type": "code",
      "source": [
        "m, n = X.shape\n",
        "X = X_norm"
      ],
      "metadata": {
        "id": "253WHXetqZCW"
      },
      "execution_count": 334,
      "outputs": []
    },
    {
      "cell_type": "code",
      "source": [
        "def sigmoid(z):\n",
        "    \"\"\"\n",
        "    Calcula la sigmoide de z.\n",
        "    \"\"\"\n",
        "    return 1.0 / (1.0 + np.exp(-z))"
      ],
      "metadata": {
        "id": "mc7zJtZ5qbgO"
      },
      "execution_count": 335,
      "outputs": []
    },
    {
      "cell_type": "code",
      "source": [
        "def lrCostFunction(theta, X, y, lambda_):\n",
        "    m = y.size\n",
        "    if y.dtype == bool:\n",
        "        y = y.astype(int)\n",
        "\n",
        "    J = 0\n",
        "    grad = np.zeros(theta.shape)\n",
        "\n",
        "    h = sigmoid(X.dot(theta.T))\n",
        "\n",
        "    temp = theta\n",
        "    temp[0] = 0\n",
        "    #CONREGULARIZACION\n",
        "    #J = (1 / m) * np.sum(-y.dot(np.log(h)) - (1 - y).dot(np.log(1 - h))) + (lambda_ / (2 * m)) * np.sum(np.square(temp))\n",
        "    #grad = (1 / m) * (h - y).dot(X)\n",
        "    #grad = grad - (lambda_ / m) * temp\n",
        "    #SINCONREGULARIZACION\n",
        "    J = (1 / m) * np.sum(-y.dot(np.log(h)) - (1 - y).dot(np.log(1 - h)))\n",
        "    grad = (1 / m) * (h - y).dot(X)\n",
        "\n",
        "    return J, grad"
      ],
      "metadata": {
        "id": "5Vbvw5AmqiNe"
      },
      "execution_count": 350,
      "outputs": []
    },
    {
      "cell_type": "code",
      "source": [
        "def oneVsAll(X, y, num_labels, lambda_):\n",
        "    m, n = X.shape\n",
        "    all_theta = np.zeros((num_labels, n + 1))\n",
        "\n",
        "    # Agregar unos a la matriz X\n",
        "    X = np.concatenate([np.ones((m, 1)), X], axis=1)\n",
        "\n",
        "    for c in np.arange(num_labels):\n",
        "        initial_theta = np.zeros(n + 1)\n",
        "        options = {'maxiter': 50}\n",
        "        res = optimize.minimize(lrCostFunction,\n",
        "                                initial_theta,\n",
        "                                (X, (y == c), lambda_),\n",
        "                                jac=True,\n",
        "                                method='CG',\n",
        "                                options=options)\n",
        "\n",
        "        all_theta[c] = res.x\n",
        "\n",
        "    return all_theta"
      ],
      "metadata": {
        "id": "YNNo8H2ptohn"
      },
      "execution_count": 351,
      "outputs": []
    },
    {
      "cell_type": "code",
      "source": [
        "def predictOneVsAll(all_theta, X):\n",
        "    m = X.shape[0]\n",
        "    X = np.concatenate([np.ones((m, 1)), X], axis=1)\n",
        "    p = np.argmax(sigmoid(X.dot(all_theta.T)), axis=1)\n",
        "    return p\n",
        "    # Calcula el número de datos para el conjunto de entrenamiento (80%)\n",
        "num_train = int(0.8 * 22800)\n",
        "\n",
        "# Dividir los datos en conjuntos de entrenamiento y prueba\n",
        "X_train, X_test = X[:num_train], X[num_train:]\n",
        "y_train, y_test = y[:num_train], y[num_train:]\n",
        "# Entrenar el modelo utilizando todos los datos\n",
        "lambda_ = 0.1\n",
        "all_theta = oneVsAll(X, y, num_labels, lambda_)\n",
        "\n",
        "# Dividir los datos en conjuntos de entrenamiento y prueba (80% entrenamiento, 20% prueba)\n",
        "X_train, X_test, y_train, y_test = train_test_split(X, y, test_size=0.2, random_state=42)\n",
        "\n",
        "# Entrenar el modelo con los datos de entrenamiento\n",
        "all_theta_train = oneVsAll(X_train, y_train, num_labels, lambda_)"
      ],
      "metadata": {
        "id": "sa3SD4c-tsO3"
      },
      "execution_count": 352,
      "outputs": []
    },
    {
      "cell_type": "code",
      "source": [
        "print(all_theta)"
      ],
      "metadata": {
        "colab": {
          "base_uri": "https://localhost:8080/"
        },
        "id": "ja3VJX8dtusv",
        "outputId": "90dce549-d30e-430f-917d-5991f43986be"
      },
      "execution_count": 353,
      "outputs": [
        {
          "output_type": "stream",
          "name": "stdout",
          "text": [
            "[[-1.69278067e+01  6.95066076e-02 -5.51987142e-02  6.93681002e-03\n",
            "  -1.39696502e-01 -1.94375052e-01 -1.79081233e-02  1.48447178e-01\n",
            "  -4.31909643e-01 -3.91417752e-01  6.65780459e-01 -5.80066233e+00\n",
            "   2.32099432e-01  1.58892701e-01  1.66196384e-01 -3.24588929e-03\n",
            "   2.91151791e-01 -6.85057262e+00]\n",
            " [-2.72375481e+00  3.99418069e-01  5.00586640e-02 -4.13633526e-02\n",
            "  -1.18560285e-01  1.14820992e-01 -1.04179005e-01  3.73231118e-02\n",
            "   1.72579945e-01 -1.84758281e-01 -2.54547299e-01 -1.36001721e+00\n",
            "  -2.68994892e-02  2.32691376e-01 -1.16090685e-01  1.02497638e-01\n",
            "  -2.06517010e-01 -2.73536043e-01]\n",
            " [-2.46216663e+00  2.33308262e-01 -1.75915359e-02  1.26348748e-01\n",
            "   3.74008777e-01 -1.19232880e-02  2.50156390e-01 -4.93421889e-01\n",
            "  -4.29929178e-02 -1.18819087e-02  7.24961745e-01 -3.42827970e+00\n",
            "  -2.68822950e-01 -2.79373453e-01  2.52260526e-01  1.24370613e-01\n",
            "  -1.73799845e-01  2.31580037e+00]\n",
            " [-2.50974873e+00  5.19073248e-01  5.97037008e-01 -4.64313931e-01\n",
            "   1.77704663e-01 -5.49693088e-02 -2.55997753e-01  2.29574887e-02\n",
            "  -6.23996739e-03  5.09832128e-01  6.30643037e-01 -2.58881100e+00\n",
            "  -2.81907623e-01 -2.46824690e-01  3.91418862e-02  3.42979048e-02\n",
            "   2.16640558e-01  1.73709137e+00]\n",
            " [-2.74442878e+00 -4.20218020e-02  8.75261975e-01  3.05575196e-01\n",
            "   7.05822846e-02 -5.40294153e-03 -2.34367602e-01  5.19595201e-01\n",
            "  -3.03747319e-01 -5.86143596e-02  5.37826372e-01 -2.34499037e+00\n",
            "  -1.08243203e+00 -3.86846855e-01  3.09089382e-01  4.51846582e-02\n",
            "   2.22319932e-01  2.90740414e+00]\n",
            " [-1.43801646e+01  8.40870334e+00  7.89352854e-01  3.39388220e-02\n",
            "   1.35768741e-01  9.33640914e-02 -3.93410470e-01  1.93059074e-02\n",
            "   4.39439579e-01  1.18404635e+00  4.01716084e-01  4.61394763e+00\n",
            "   4.22980599e-01 -7.34568974e-02 -1.06034943e+00 -1.67007523e-01\n",
            "  -2.93035294e-01  3.59601174e+00]]\n"
          ]
        }
      ]
    },
    {
      "cell_type": "code",
      "source": [
        "# Predecir las clases utilizando el conjunto de entrenamiento\n",
        "pred_train = predictOneVsAll(all_theta_train, X_train)\n",
        "\n",
        "# Calcular la precisión del conjunto de entrenamiento\n",
        "accuracy_train = np.mean(pred_train == y_train) * 100\n",
        "print('Precisión del conjunto de entrenamiento: {:.2f}%'.format(accuracy_train))\n",
        "# Predecir las clases utilizando el conjunto de prueba\n",
        "pred_test = predictOneVsAll(all_theta_train, X_test)\n",
        "\n",
        "# Calcular la precisión del conjunto de prueba\n",
        "accuracy_test = np.mean(pred_test == y_test) * 100\n",
        "print('Precisión del conjunto de prueba: {:.2f}%'.format(accuracy_test))\n",
        "\n",
        "# Aquí puedes realizar cualquier otra evaluación o visualización necesaria"
      ],
      "metadata": {
        "colab": {
          "base_uri": "https://localhost:8080/"
        },
        "id": "KKigWT2Xt0m3",
        "outputId": "e6a134c2-7c4a-4296-a4c9-d04b7b000c15"
      },
      "execution_count": 354,
      "outputs": [
        {
          "output_type": "stream",
          "name": "stdout",
          "text": [
            "Precisión del conjunto de entrenamiento: 56.99%\n",
            "Precisión del conjunto de prueba: 57.50%\n"
          ]
        }
      ]
    },
    {
      "cell_type": "markdown",
      "source": [
        "<h1>CONCLUSIÓN<h1>\n",
        "\n",
        "Se notó una mejora distintiva en la función de costo y en la precisión del conjunto de prueba al aplicar regularización. Esto es un comportamiento esperado y deseado, ya que la regularización ayuda a prevenir el sobreajuste y\n",
        "\n",
        "Se notó una Mejora en la función de costo: La regularización agrega un término de penalización a la función de costo, lo que generalmente resulta en un valor más alto de la función de costo en comparación con el modelo sin regularización. Sin embargo, esto es un costo necesario para evitar el sobreajuste y mejorar la generalización.\n",
        "\n",
        "Se notó una Mejora en la precisión del conjunto de prueba: Al evitar el sobreajuste, el modelo regularizado tiene un mejor rendimiento en los datos de prueba, que son los datos más importantes para evaluar el rendimiento real del modelo en nuevos datos desconocidos."
      ],
      "metadata": {
        "id": "5tNEQb1X4Xwp"
      }
    }
  ]
}