{
  "nbformat": 4,
  "nbformat_minor": 0,
  "metadata": {
    "colab": {
      "provenance": []
    },
    "kernelspec": {
      "name": "python3",
      "display_name": "Python 3"
    },
    "language_info": {
      "name": "python"
    }
  },
  "cells": [
    {
      "cell_type": "markdown",
      "source": [
        "LABORATORIO 02 (GRUPO 1 y GRUPO 2)\n",
        "A partir de los cuadernillos revisados en clase, buscar un dataset, que contenga al menos 11 propiedades (n>10) y por lo menos 20000 ejemplos (m>=20000), para entrenar el modelo de regresión logística (clasificación) con este dataset, y realizar las respectivas predicciones que demuestren la efectividad del mismo. Se debe subir los cuadernillos modificados, el dataset y todo aquello que considere necesario para completar con el ejercicio.\n",
        "\n",
        "Se debe aplicar Pandas para el preprocesamiento del dataset elegido.\n",
        "\n",
        "Para la validacion del modelo se debe utilizar el 80% de los datos para entrenar y el 20% para probar (Lo datos que se elijan para prueba no deben ser tomados en cuenta en el entrenamiento).\n",
        "\n",
        "Para la determinacion de los parametros theta se debe considerar aplicar un modelo de regresion logistica (clasificación), donde es importante incluir el respectivo grafico de costo para cada caso, el modelo, su entrenamiento y validacion debe estar en un solo cuadernillo, en los cuadros de texto se debe incluir la explicacion respectiva, eliminando todo el texto que se encuentra en los cuadernillos revisados en clase.\n",
        "\n",
        "Se debe subir al repositorio github el cuadernillo e incluir la direccion del repositorio y el cuadernillo en ecampus, ademas de una explicación suficiente del trabajo realizado.\n",
        "\n",
        "  NOMBRE: LOAIZA CORONADO RODRIGO JAIRO <br>\n",
        "  CARRERA: INGENIERIA DE SISTEMAS <BR>\n",
        "  FECHA: 12/03/2024 <BR>"
      ],
      "metadata": {
        "id": "kSGHi9RD3Xvw"
      }
    },
    {
      "cell_type": "code",
      "execution_count": 3,
      "metadata": {
        "id": "9sZyvzUw3Kzr"
      },
      "outputs": [],
      "source": [
        "import os\n",
        "\n",
        "# Computacion vectorial y cientifica para python\n",
        "import numpy as np\n",
        "\n",
        "#importamos pandas para el manejo del dataset, y separarlos dentro de una matriz\n",
        "import pandas as pd\n",
        "\n",
        "#esta tabulate nos sirve para hacer tablas\n",
        "from tabulate import tabulate\n",
        "\n",
        "# Librerias para graficación (trazado de gráficos)\n",
        "from matplotlib import pyplot\n",
        "from mpl_toolkits.mplot3d import Axes3D  # -> Necesario para graficar superficies 3D\n",
        "\n",
        "#Para separa el 20% y 80%\n",
        "from sklearn.model_selection import train_test_split\n",
        "\n",
        "# llama a matplotlib a embeber graficas dentro de los cuadernillos\n",
        "%matplotlib inline"
      ]
    },
    {
      "cell_type": "markdown",
      "source": [],
      "metadata": {
        "id": "PCVKLXOo3UJs"
      }
    },
    {
      "cell_type": "code",
      "source": [
        "#Importamos los datos desde el drive\n",
        "from google.colab import drive\n",
        "drive.mount('/content/drive')"
      ],
      "metadata": {
        "colab": {
          "base_uri": "https://localhost:8080/"
        },
        "id": "VWq-MRej4YGw",
        "outputId": "c4a0ed49-6d29-463b-82fd-c3f0a6e325dd"
      },
      "execution_count": 7,
      "outputs": [
        {
          "output_type": "stream",
          "name": "stdout",
          "text": [
            "Mounted at /content/drive\n"
          ]
        }
      ]
    },
    {
      "cell_type": "code",
      "source": [
        "# libreria pandas para leer el dataset.\n",
        "dataset = pd.read_csv('/content/drive/MyDrive/SIS420 Inteligencia Artificial/machine learning/datasets/ecomUserChurnData1.csv', delimiter=',')\n",
        "\n",
        "#Imprimimos el dataset.\n",
        "dataset"
      ],
      "metadata": {
        "colab": {
          "base_uri": "https://localhost:8080/",
          "height": 444
        },
        "id": "67MDfAkb47iv",
        "outputId": "cfd18116-627c-4712-d499-b1fa1bb883d5"
      },
      "execution_count": 8,
      "outputs": [
        {
          "output_type": "execute_result",
          "data": {
            "text/plain": [
              "       visitorid  ses_rec  ses_rec_avg  ses_rec_sd  ses_rec_cv  user_rec  \\\n",
              "0             89       23    16.000000    0.000000    0.000000        39   \n",
              "1            251       23    61.000000    0.000000    0.000000        85   \n",
              "2            270       14     0.100000    0.300000    3.000000        21   \n",
              "3            298       11    13.000000    0.000000    0.000000        24   \n",
              "4            474       16    26.000000    0.000000    0.000000        43   \n",
              "...          ...      ...          ...         ...         ...       ...   \n",
              "49353    1406824       14    73.000000    0.000000    0.000000        87   \n",
              "49354    1406906       19    13.000000    0.000000    0.000000        32   \n",
              "49355    1406914       21     0.666667    0.942809    1.414214        23   \n",
              "49356    1407221        1     0.000000    0.000000   -1.000000         2   \n",
              "49357    1407504        2     6.000000    0.000000    0.000000         9   \n",
              "\n",
              "       ses_n   ses_n_r  int_n   int_n_r  ...  ses_mo_avg  ses_mo_sd  \\\n",
              "0          2  0.051282      3  1.500000  ...    7.000000   0.000000   \n",
              "1          2  0.023529      2  1.000000  ...    6.000000   1.414214   \n",
              "2         11  0.523810     13  1.181818  ...    7.454546   0.522233   \n",
              "3          2  0.083333      4  2.000000  ...    7.500000   0.707107   \n",
              "4          2  0.046512      2  1.000000  ...    7.000000   0.000000   \n",
              "...      ...       ...    ...       ...  ...         ...        ...   \n",
              "49353      2  0.022989      2  1.000000  ...    6.500000   2.121320   \n",
              "49354      2  0.062500      4  2.000000  ...    7.000000   0.000000   \n",
              "49355      4  0.173913     14  3.500000  ...    7.000000   0.000000   \n",
              "49356      2  1.000000      2  1.000000  ...    8.000000   0.000000   \n",
              "49357      2  0.222222      3  1.500000  ...    8.000000   0.000000   \n",
              "\n",
              "       ses_ho_avg  ses_ho_sd  ses_wknd_r  ses_len_avg  time_to_int  \\\n",
              "0       11.000000   7.071068    0.500000     2.866667     1.911111   \n",
              "1       13.500000   2.121320    1.000000     0.000000     0.000000   \n",
              "2       12.636364   4.342182    0.363636     1.104545     0.934615   \n",
              "3       11.500000   4.949748    0.000000     0.508333     0.254167   \n",
              "4       19.500000   2.121320    0.500000     0.000000     0.000000   \n",
              "...           ...        ...         ...          ...          ...   \n",
              "49353   10.500000   2.121320    0.000000     0.000000     0.000000   \n",
              "49354   12.000000   5.656854    0.000000     4.016667     2.008333   \n",
              "49355   13.250000   2.629955    0.750000     6.362500     1.817857   \n",
              "49356   14.500000   7.778174    1.000000     0.000000     0.000000   \n",
              "49357    9.500000   0.707107    1.000000     0.425000     0.283333   \n",
              "\n",
              "       time_to_tran  int_cat1_n  target_class  \n",
              "0                -1           0             1  \n",
              "1                -1           0             1  \n",
              "2                -1           0             1  \n",
              "3                -1           0             1  \n",
              "4                -1           0             1  \n",
              "...             ...         ...           ...  \n",
              "49353            -1           0             1  \n",
              "49354            -1           0             1  \n",
              "49355            -1           0             1  \n",
              "49356            -1           0             1  \n",
              "49357            -1           0             1  \n",
              "\n",
              "[49358 rows x 27 columns]"
            ],
            "text/html": [
              "\n",
              "  <div id=\"df-2df06cef-3b43-47d6-a1a5-25e87dcef6c5\" class=\"colab-df-container\">\n",
              "    <div>\n",
              "<style scoped>\n",
              "    .dataframe tbody tr th:only-of-type {\n",
              "        vertical-align: middle;\n",
              "    }\n",
              "\n",
              "    .dataframe tbody tr th {\n",
              "        vertical-align: top;\n",
              "    }\n",
              "\n",
              "    .dataframe thead th {\n",
              "        text-align: right;\n",
              "    }\n",
              "</style>\n",
              "<table border=\"1\" class=\"dataframe\">\n",
              "  <thead>\n",
              "    <tr style=\"text-align: right;\">\n",
              "      <th></th>\n",
              "      <th>visitorid</th>\n",
              "      <th>ses_rec</th>\n",
              "      <th>ses_rec_avg</th>\n",
              "      <th>ses_rec_sd</th>\n",
              "      <th>ses_rec_cv</th>\n",
              "      <th>user_rec</th>\n",
              "      <th>ses_n</th>\n",
              "      <th>ses_n_r</th>\n",
              "      <th>int_n</th>\n",
              "      <th>int_n_r</th>\n",
              "      <th>...</th>\n",
              "      <th>ses_mo_avg</th>\n",
              "      <th>ses_mo_sd</th>\n",
              "      <th>ses_ho_avg</th>\n",
              "      <th>ses_ho_sd</th>\n",
              "      <th>ses_wknd_r</th>\n",
              "      <th>ses_len_avg</th>\n",
              "      <th>time_to_int</th>\n",
              "      <th>time_to_tran</th>\n",
              "      <th>int_cat1_n</th>\n",
              "      <th>target_class</th>\n",
              "    </tr>\n",
              "  </thead>\n",
              "  <tbody>\n",
              "    <tr>\n",
              "      <th>0</th>\n",
              "      <td>89</td>\n",
              "      <td>23</td>\n",
              "      <td>16.000000</td>\n",
              "      <td>0.000000</td>\n",
              "      <td>0.000000</td>\n",
              "      <td>39</td>\n",
              "      <td>2</td>\n",
              "      <td>0.051282</td>\n",
              "      <td>3</td>\n",
              "      <td>1.500000</td>\n",
              "      <td>...</td>\n",
              "      <td>7.000000</td>\n",
              "      <td>0.000000</td>\n",
              "      <td>11.000000</td>\n",
              "      <td>7.071068</td>\n",
              "      <td>0.500000</td>\n",
              "      <td>2.866667</td>\n",
              "      <td>1.911111</td>\n",
              "      <td>-1</td>\n",
              "      <td>0</td>\n",
              "      <td>1</td>\n",
              "    </tr>\n",
              "    <tr>\n",
              "      <th>1</th>\n",
              "      <td>251</td>\n",
              "      <td>23</td>\n",
              "      <td>61.000000</td>\n",
              "      <td>0.000000</td>\n",
              "      <td>0.000000</td>\n",
              "      <td>85</td>\n",
              "      <td>2</td>\n",
              "      <td>0.023529</td>\n",
              "      <td>2</td>\n",
              "      <td>1.000000</td>\n",
              "      <td>...</td>\n",
              "      <td>6.000000</td>\n",
              "      <td>1.414214</td>\n",
              "      <td>13.500000</td>\n",
              "      <td>2.121320</td>\n",
              "      <td>1.000000</td>\n",
              "      <td>0.000000</td>\n",
              "      <td>0.000000</td>\n",
              "      <td>-1</td>\n",
              "      <td>0</td>\n",
              "      <td>1</td>\n",
              "    </tr>\n",
              "    <tr>\n",
              "      <th>2</th>\n",
              "      <td>270</td>\n",
              "      <td>14</td>\n",
              "      <td>0.100000</td>\n",
              "      <td>0.300000</td>\n",
              "      <td>3.000000</td>\n",
              "      <td>21</td>\n",
              "      <td>11</td>\n",
              "      <td>0.523810</td>\n",
              "      <td>13</td>\n",
              "      <td>1.181818</td>\n",
              "      <td>...</td>\n",
              "      <td>7.454546</td>\n",
              "      <td>0.522233</td>\n",
              "      <td>12.636364</td>\n",
              "      <td>4.342182</td>\n",
              "      <td>0.363636</td>\n",
              "      <td>1.104545</td>\n",
              "      <td>0.934615</td>\n",
              "      <td>-1</td>\n",
              "      <td>0</td>\n",
              "      <td>1</td>\n",
              "    </tr>\n",
              "    <tr>\n",
              "      <th>3</th>\n",
              "      <td>298</td>\n",
              "      <td>11</td>\n",
              "      <td>13.000000</td>\n",
              "      <td>0.000000</td>\n",
              "      <td>0.000000</td>\n",
              "      <td>24</td>\n",
              "      <td>2</td>\n",
              "      <td>0.083333</td>\n",
              "      <td>4</td>\n",
              "      <td>2.000000</td>\n",
              "      <td>...</td>\n",
              "      <td>7.500000</td>\n",
              "      <td>0.707107</td>\n",
              "      <td>11.500000</td>\n",
              "      <td>4.949748</td>\n",
              "      <td>0.000000</td>\n",
              "      <td>0.508333</td>\n",
              "      <td>0.254167</td>\n",
              "      <td>-1</td>\n",
              "      <td>0</td>\n",
              "      <td>1</td>\n",
              "    </tr>\n",
              "    <tr>\n",
              "      <th>4</th>\n",
              "      <td>474</td>\n",
              "      <td>16</td>\n",
              "      <td>26.000000</td>\n",
              "      <td>0.000000</td>\n",
              "      <td>0.000000</td>\n",
              "      <td>43</td>\n",
              "      <td>2</td>\n",
              "      <td>0.046512</td>\n",
              "      <td>2</td>\n",
              "      <td>1.000000</td>\n",
              "      <td>...</td>\n",
              "      <td>7.000000</td>\n",
              "      <td>0.000000</td>\n",
              "      <td>19.500000</td>\n",
              "      <td>2.121320</td>\n",
              "      <td>0.500000</td>\n",
              "      <td>0.000000</td>\n",
              "      <td>0.000000</td>\n",
              "      <td>-1</td>\n",
              "      <td>0</td>\n",
              "      <td>1</td>\n",
              "    </tr>\n",
              "    <tr>\n",
              "      <th>...</th>\n",
              "      <td>...</td>\n",
              "      <td>...</td>\n",
              "      <td>...</td>\n",
              "      <td>...</td>\n",
              "      <td>...</td>\n",
              "      <td>...</td>\n",
              "      <td>...</td>\n",
              "      <td>...</td>\n",
              "      <td>...</td>\n",
              "      <td>...</td>\n",
              "      <td>...</td>\n",
              "      <td>...</td>\n",
              "      <td>...</td>\n",
              "      <td>...</td>\n",
              "      <td>...</td>\n",
              "      <td>...</td>\n",
              "      <td>...</td>\n",
              "      <td>...</td>\n",
              "      <td>...</td>\n",
              "      <td>...</td>\n",
              "      <td>...</td>\n",
              "    </tr>\n",
              "    <tr>\n",
              "      <th>49353</th>\n",
              "      <td>1406824</td>\n",
              "      <td>14</td>\n",
              "      <td>73.000000</td>\n",
              "      <td>0.000000</td>\n",
              "      <td>0.000000</td>\n",
              "      <td>87</td>\n",
              "      <td>2</td>\n",
              "      <td>0.022989</td>\n",
              "      <td>2</td>\n",
              "      <td>1.000000</td>\n",
              "      <td>...</td>\n",
              "      <td>6.500000</td>\n",
              "      <td>2.121320</td>\n",
              "      <td>10.500000</td>\n",
              "      <td>2.121320</td>\n",
              "      <td>0.000000</td>\n",
              "      <td>0.000000</td>\n",
              "      <td>0.000000</td>\n",
              "      <td>-1</td>\n",
              "      <td>0</td>\n",
              "      <td>1</td>\n",
              "    </tr>\n",
              "    <tr>\n",
              "      <th>49354</th>\n",
              "      <td>1406906</td>\n",
              "      <td>19</td>\n",
              "      <td>13.000000</td>\n",
              "      <td>0.000000</td>\n",
              "      <td>0.000000</td>\n",
              "      <td>32</td>\n",
              "      <td>2</td>\n",
              "      <td>0.062500</td>\n",
              "      <td>4</td>\n",
              "      <td>2.000000</td>\n",
              "      <td>...</td>\n",
              "      <td>7.000000</td>\n",
              "      <td>0.000000</td>\n",
              "      <td>12.000000</td>\n",
              "      <td>5.656854</td>\n",
              "      <td>0.000000</td>\n",
              "      <td>4.016667</td>\n",
              "      <td>2.008333</td>\n",
              "      <td>-1</td>\n",
              "      <td>0</td>\n",
              "      <td>1</td>\n",
              "    </tr>\n",
              "    <tr>\n",
              "      <th>49355</th>\n",
              "      <td>1406914</td>\n",
              "      <td>21</td>\n",
              "      <td>0.666667</td>\n",
              "      <td>0.942809</td>\n",
              "      <td>1.414214</td>\n",
              "      <td>23</td>\n",
              "      <td>4</td>\n",
              "      <td>0.173913</td>\n",
              "      <td>14</td>\n",
              "      <td>3.500000</td>\n",
              "      <td>...</td>\n",
              "      <td>7.000000</td>\n",
              "      <td>0.000000</td>\n",
              "      <td>13.250000</td>\n",
              "      <td>2.629955</td>\n",
              "      <td>0.750000</td>\n",
              "      <td>6.362500</td>\n",
              "      <td>1.817857</td>\n",
              "      <td>-1</td>\n",
              "      <td>0</td>\n",
              "      <td>1</td>\n",
              "    </tr>\n",
              "    <tr>\n",
              "      <th>49356</th>\n",
              "      <td>1407221</td>\n",
              "      <td>1</td>\n",
              "      <td>0.000000</td>\n",
              "      <td>0.000000</td>\n",
              "      <td>-1.000000</td>\n",
              "      <td>2</td>\n",
              "      <td>2</td>\n",
              "      <td>1.000000</td>\n",
              "      <td>2</td>\n",
              "      <td>1.000000</td>\n",
              "      <td>...</td>\n",
              "      <td>8.000000</td>\n",
              "      <td>0.000000</td>\n",
              "      <td>14.500000</td>\n",
              "      <td>7.778174</td>\n",
              "      <td>1.000000</td>\n",
              "      <td>0.000000</td>\n",
              "      <td>0.000000</td>\n",
              "      <td>-1</td>\n",
              "      <td>0</td>\n",
              "      <td>1</td>\n",
              "    </tr>\n",
              "    <tr>\n",
              "      <th>49357</th>\n",
              "      <td>1407504</td>\n",
              "      <td>2</td>\n",
              "      <td>6.000000</td>\n",
              "      <td>0.000000</td>\n",
              "      <td>0.000000</td>\n",
              "      <td>9</td>\n",
              "      <td>2</td>\n",
              "      <td>0.222222</td>\n",
              "      <td>3</td>\n",
              "      <td>1.500000</td>\n",
              "      <td>...</td>\n",
              "      <td>8.000000</td>\n",
              "      <td>0.000000</td>\n",
              "      <td>9.500000</td>\n",
              "      <td>0.707107</td>\n",
              "      <td>1.000000</td>\n",
              "      <td>0.425000</td>\n",
              "      <td>0.283333</td>\n",
              "      <td>-1</td>\n",
              "      <td>0</td>\n",
              "      <td>1</td>\n",
              "    </tr>\n",
              "  </tbody>\n",
              "</table>\n",
              "<p>49358 rows × 27 columns</p>\n",
              "</div>\n",
              "    <div class=\"colab-df-buttons\">\n",
              "\n",
              "  <div class=\"colab-df-container\">\n",
              "    <button class=\"colab-df-convert\" onclick=\"convertToInteractive('df-2df06cef-3b43-47d6-a1a5-25e87dcef6c5')\"\n",
              "            title=\"Convert this dataframe to an interactive table.\"\n",
              "            style=\"display:none;\">\n",
              "\n",
              "  <svg xmlns=\"http://www.w3.org/2000/svg\" height=\"24px\" viewBox=\"0 -960 960 960\">\n",
              "    <path d=\"M120-120v-720h720v720H120Zm60-500h600v-160H180v160Zm220 220h160v-160H400v160Zm0 220h160v-160H400v160ZM180-400h160v-160H180v160Zm440 0h160v-160H620v160ZM180-180h160v-160H180v160Zm440 0h160v-160H620v160Z\"/>\n",
              "  </svg>\n",
              "    </button>\n",
              "\n",
              "  <style>\n",
              "    .colab-df-container {\n",
              "      display:flex;\n",
              "      gap: 12px;\n",
              "    }\n",
              "\n",
              "    .colab-df-convert {\n",
              "      background-color: #E8F0FE;\n",
              "      border: none;\n",
              "      border-radius: 50%;\n",
              "      cursor: pointer;\n",
              "      display: none;\n",
              "      fill: #1967D2;\n",
              "      height: 32px;\n",
              "      padding: 0 0 0 0;\n",
              "      width: 32px;\n",
              "    }\n",
              "\n",
              "    .colab-df-convert:hover {\n",
              "      background-color: #E2EBFA;\n",
              "      box-shadow: 0px 1px 2px rgba(60, 64, 67, 0.3), 0px 1px 3px 1px rgba(60, 64, 67, 0.15);\n",
              "      fill: #174EA6;\n",
              "    }\n",
              "\n",
              "    .colab-df-buttons div {\n",
              "      margin-bottom: 4px;\n",
              "    }\n",
              "\n",
              "    [theme=dark] .colab-df-convert {\n",
              "      background-color: #3B4455;\n",
              "      fill: #D2E3FC;\n",
              "    }\n",
              "\n",
              "    [theme=dark] .colab-df-convert:hover {\n",
              "      background-color: #434B5C;\n",
              "      box-shadow: 0px 1px 3px 1px rgba(0, 0, 0, 0.15);\n",
              "      filter: drop-shadow(0px 1px 2px rgba(0, 0, 0, 0.3));\n",
              "      fill: #FFFFFF;\n",
              "    }\n",
              "  </style>\n",
              "\n",
              "    <script>\n",
              "      const buttonEl =\n",
              "        document.querySelector('#df-2df06cef-3b43-47d6-a1a5-25e87dcef6c5 button.colab-df-convert');\n",
              "      buttonEl.style.display =\n",
              "        google.colab.kernel.accessAllowed ? 'block' : 'none';\n",
              "\n",
              "      async function convertToInteractive(key) {\n",
              "        const element = document.querySelector('#df-2df06cef-3b43-47d6-a1a5-25e87dcef6c5');\n",
              "        const dataTable =\n",
              "          await google.colab.kernel.invokeFunction('convertToInteractive',\n",
              "                                                    [key], {});\n",
              "        if (!dataTable) return;\n",
              "\n",
              "        const docLinkHtml = 'Like what you see? Visit the ' +\n",
              "          '<a target=\"_blank\" href=https://colab.research.google.com/notebooks/data_table.ipynb>data table notebook</a>'\n",
              "          + ' to learn more about interactive tables.';\n",
              "        element.innerHTML = '';\n",
              "        dataTable['output_type'] = 'display_data';\n",
              "        await google.colab.output.renderOutput(dataTable, element);\n",
              "        const docLink = document.createElement('div');\n",
              "        docLink.innerHTML = docLinkHtml;\n",
              "        element.appendChild(docLink);\n",
              "      }\n",
              "    </script>\n",
              "  </div>\n",
              "\n",
              "\n",
              "<div id=\"df-ce8a42c7-b891-42f7-88c2-8b691e0baec9\">\n",
              "  <button class=\"colab-df-quickchart\" onclick=\"quickchart('df-ce8a42c7-b891-42f7-88c2-8b691e0baec9')\"\n",
              "            title=\"Suggest charts\"\n",
              "            style=\"display:none;\">\n",
              "\n",
              "<svg xmlns=\"http://www.w3.org/2000/svg\" height=\"24px\"viewBox=\"0 0 24 24\"\n",
              "     width=\"24px\">\n",
              "    <g>\n",
              "        <path d=\"M19 3H5c-1.1 0-2 .9-2 2v14c0 1.1.9 2 2 2h14c1.1 0 2-.9 2-2V5c0-1.1-.9-2-2-2zM9 17H7v-7h2v7zm4 0h-2V7h2v10zm4 0h-2v-4h2v4z\"/>\n",
              "    </g>\n",
              "</svg>\n",
              "  </button>\n",
              "\n",
              "<style>\n",
              "  .colab-df-quickchart {\n",
              "      --bg-color: #E8F0FE;\n",
              "      --fill-color: #1967D2;\n",
              "      --hover-bg-color: #E2EBFA;\n",
              "      --hover-fill-color: #174EA6;\n",
              "      --disabled-fill-color: #AAA;\n",
              "      --disabled-bg-color: #DDD;\n",
              "  }\n",
              "\n",
              "  [theme=dark] .colab-df-quickchart {\n",
              "      --bg-color: #3B4455;\n",
              "      --fill-color: #D2E3FC;\n",
              "      --hover-bg-color: #434B5C;\n",
              "      --hover-fill-color: #FFFFFF;\n",
              "      --disabled-bg-color: #3B4455;\n",
              "      --disabled-fill-color: #666;\n",
              "  }\n",
              "\n",
              "  .colab-df-quickchart {\n",
              "    background-color: var(--bg-color);\n",
              "    border: none;\n",
              "    border-radius: 50%;\n",
              "    cursor: pointer;\n",
              "    display: none;\n",
              "    fill: var(--fill-color);\n",
              "    height: 32px;\n",
              "    padding: 0;\n",
              "    width: 32px;\n",
              "  }\n",
              "\n",
              "  .colab-df-quickchart:hover {\n",
              "    background-color: var(--hover-bg-color);\n",
              "    box-shadow: 0 1px 2px rgba(60, 64, 67, 0.3), 0 1px 3px 1px rgba(60, 64, 67, 0.15);\n",
              "    fill: var(--button-hover-fill-color);\n",
              "  }\n",
              "\n",
              "  .colab-df-quickchart-complete:disabled,\n",
              "  .colab-df-quickchart-complete:disabled:hover {\n",
              "    background-color: var(--disabled-bg-color);\n",
              "    fill: var(--disabled-fill-color);\n",
              "    box-shadow: none;\n",
              "  }\n",
              "\n",
              "  .colab-df-spinner {\n",
              "    border: 2px solid var(--fill-color);\n",
              "    border-color: transparent;\n",
              "    border-bottom-color: var(--fill-color);\n",
              "    animation:\n",
              "      spin 1s steps(1) infinite;\n",
              "  }\n",
              "\n",
              "  @keyframes spin {\n",
              "    0% {\n",
              "      border-color: transparent;\n",
              "      border-bottom-color: var(--fill-color);\n",
              "      border-left-color: var(--fill-color);\n",
              "    }\n",
              "    20% {\n",
              "      border-color: transparent;\n",
              "      border-left-color: var(--fill-color);\n",
              "      border-top-color: var(--fill-color);\n",
              "    }\n",
              "    30% {\n",
              "      border-color: transparent;\n",
              "      border-left-color: var(--fill-color);\n",
              "      border-top-color: var(--fill-color);\n",
              "      border-right-color: var(--fill-color);\n",
              "    }\n",
              "    40% {\n",
              "      border-color: transparent;\n",
              "      border-right-color: var(--fill-color);\n",
              "      border-top-color: var(--fill-color);\n",
              "    }\n",
              "    60% {\n",
              "      border-color: transparent;\n",
              "      border-right-color: var(--fill-color);\n",
              "    }\n",
              "    80% {\n",
              "      border-color: transparent;\n",
              "      border-right-color: var(--fill-color);\n",
              "      border-bottom-color: var(--fill-color);\n",
              "    }\n",
              "    90% {\n",
              "      border-color: transparent;\n",
              "      border-bottom-color: var(--fill-color);\n",
              "    }\n",
              "  }\n",
              "</style>\n",
              "\n",
              "  <script>\n",
              "    async function quickchart(key) {\n",
              "      const quickchartButtonEl =\n",
              "        document.querySelector('#' + key + ' button');\n",
              "      quickchartButtonEl.disabled = true;  // To prevent multiple clicks.\n",
              "      quickchartButtonEl.classList.add('colab-df-spinner');\n",
              "      try {\n",
              "        const charts = await google.colab.kernel.invokeFunction(\n",
              "            'suggestCharts', [key], {});\n",
              "      } catch (error) {\n",
              "        console.error('Error during call to suggestCharts:', error);\n",
              "      }\n",
              "      quickchartButtonEl.classList.remove('colab-df-spinner');\n",
              "      quickchartButtonEl.classList.add('colab-df-quickchart-complete');\n",
              "    }\n",
              "    (() => {\n",
              "      let quickchartButtonEl =\n",
              "        document.querySelector('#df-ce8a42c7-b891-42f7-88c2-8b691e0baec9 button');\n",
              "      quickchartButtonEl.style.display =\n",
              "        google.colab.kernel.accessAllowed ? 'block' : 'none';\n",
              "    })();\n",
              "  </script>\n",
              "</div>\n",
              "\n",
              "  <div id=\"id_306540e9-662d-437c-b3e8-2785ab4aa111\">\n",
              "    <style>\n",
              "      .colab-df-generate {\n",
              "        background-color: #E8F0FE;\n",
              "        border: none;\n",
              "        border-radius: 50%;\n",
              "        cursor: pointer;\n",
              "        display: none;\n",
              "        fill: #1967D2;\n",
              "        height: 32px;\n",
              "        padding: 0 0 0 0;\n",
              "        width: 32px;\n",
              "      }\n",
              "\n",
              "      .colab-df-generate:hover {\n",
              "        background-color: #E2EBFA;\n",
              "        box-shadow: 0px 1px 2px rgba(60, 64, 67, 0.3), 0px 1px 3px 1px rgba(60, 64, 67, 0.15);\n",
              "        fill: #174EA6;\n",
              "      }\n",
              "\n",
              "      [theme=dark] .colab-df-generate {\n",
              "        background-color: #3B4455;\n",
              "        fill: #D2E3FC;\n",
              "      }\n",
              "\n",
              "      [theme=dark] .colab-df-generate:hover {\n",
              "        background-color: #434B5C;\n",
              "        box-shadow: 0px 1px 3px 1px rgba(0, 0, 0, 0.15);\n",
              "        filter: drop-shadow(0px 1px 2px rgba(0, 0, 0, 0.3));\n",
              "        fill: #FFFFFF;\n",
              "      }\n",
              "    </style>\n",
              "    <button class=\"colab-df-generate\" onclick=\"generateWithVariable('dataset')\"\n",
              "            title=\"Generate code using this dataframe.\"\n",
              "            style=\"display:none;\">\n",
              "\n",
              "  <svg xmlns=\"http://www.w3.org/2000/svg\" height=\"24px\"viewBox=\"0 0 24 24\"\n",
              "       width=\"24px\">\n",
              "    <path d=\"M7,19H8.4L18.45,9,17,7.55,7,17.6ZM5,21V16.75L18.45,3.32a2,2,0,0,1,2.83,0l1.4,1.43a1.91,1.91,0,0,1,.58,1.4,1.91,1.91,0,0,1-.58,1.4L9.25,21ZM18.45,9,17,7.55Zm-12,3A5.31,5.31,0,0,0,4.9,8.1,5.31,5.31,0,0,0,1,6.5,5.31,5.31,0,0,0,4.9,4.9,5.31,5.31,0,0,0,6.5,1,5.31,5.31,0,0,0,8.1,4.9,5.31,5.31,0,0,0,12,6.5,5.46,5.46,0,0,0,6.5,12Z\"/>\n",
              "  </svg>\n",
              "    </button>\n",
              "    <script>\n",
              "      (() => {\n",
              "      const buttonEl =\n",
              "        document.querySelector('#id_306540e9-662d-437c-b3e8-2785ab4aa111 button.colab-df-generate');\n",
              "      buttonEl.style.display =\n",
              "        google.colab.kernel.accessAllowed ? 'block' : 'none';\n",
              "\n",
              "      buttonEl.onclick = () => {\n",
              "        google.colab.notebook.generateWithVariable('dataset');\n",
              "      }\n",
              "      })();\n",
              "    </script>\n",
              "  </div>\n",
              "\n",
              "    </div>\n",
              "  </div>\n"
            ],
            "application/vnd.google.colaboratory.intrinsic+json": {
              "type": "dataframe",
              "variable_name": "dataset"
            }
          },
          "metadata": {},
          "execution_count": 8
        }
      ]
    },
    {
      "cell_type": "code",
      "source": [
        "# usamos la libreria train_test_split que nos ayudara a separar el 80% y 20% de los datos.\n",
        "train_dataset, test_dataset = train_test_split(dataset, test_size=0.2)\n",
        "\n",
        "#Separamos en X_test los datos, pero dropeando (Y) 'target_class'\n",
        "X_test = test_dataset.drop(['target_class'], axis=1).values\n",
        "\n",
        "#Separamos en y_test los datos, pero solo cargando la columna de 'target_class', ya que esa sera nuestra y\n",
        "y_test = test_dataset['target_class'].values\n",
        "\n",
        "# tomamos train_dataset, seleccionamos las columnas para X_train y la columna 'target_class' para y_train\n",
        "X_train = train_dataset.drop(['target_class'], axis=1).values\n",
        "y_train = train_dataset['target_class'].values\n",
        "m_train = len(y_train)\n"
      ],
      "metadata": {
        "id": "f88ki3Bc7mRh"
      },
      "execution_count": 9,
      "outputs": []
    },
    {
      "cell_type": "code",
      "source": [
        "\n",
        "# Imprimir las primeras 10 instancias con 26 columnas y la variable Y\n",
        "print('{:>12s}{:>8s}{:>10s}{:>10s}{:>10s}{:>10s}{:>10s}{:>10s}{:>10s}{:>10s}{:>10s}{:>10s}{:>10s}{:>10s}{:>10s}{:>10s}{:>10s}{:>10s}{:>10s}{:>10s}{:>10s}{:>10s}{:>10s}{:>10s}{:>10s}{:>10s}{:>10s}'.format(\n",
        "    'visitorid', 'ses_rec', 'ses_rec_avg', 'ses_rec_sd', 'ses_rec_cv', 'user_rec', 'ses_n', 'ses_n_r', 'int_n', 'int_n_r', 'tran_n', 'tran_n_r', 'rev_sum', 'rev_sum_r', 'major_spend_r', 'int_cat_n_avg', 'int_itm_n_avg', 'ses_mo_avg', 'ses_mo_sd', 'ses_ho_avg', 'ses_ho_sd', 'ses_wknd_r', 'ses_len_avg', 'time_to_int', 'time_to_tran', 'int_cat1_n', 'target_class'\n",
        "))\n",
        "print('-' * 366)\n",
        "\n",
        "for i in range(10):\n",
        "    print('{:12.3f}{:8.3f}{:10.3f}{:10.3f}{:10.3f}{:10.3f}{:10.3f}{:10.3f}{:10.3f}{:10.3f}{:10.3f}{:10.3f}{:10.3f}{:10.3f}{:10.3f}{:10.3f}{:10.3f}{:10.3f}{:10.3f}{:10.3f}{:10.3f}{:10.3f}{:10.3f}{:10.3f}{:10.3f}{:10.3f}{:10.3f}'.format(\n",
        "        X_train[i, 0], X_train[i, 1], X_train[i, 2], X_train[i, 3], X_train[i, 4], X_train[i, 5], X_train[i, 6], X_train[i, 7], X_train[i, 8], X_train[i, 9], X_train[i, 10], X_train[i, 11], X_train[i, 12], X_train[i, 13], X_train[i, 14], X_train[i, 15], X_train[i, 16], X_train[i, 17], X_train[i, 18], X_train[i, 19], X_train[i, 20], X_train[i, 21], X_train[i, 22], X_train[i, 23], X_train[i, 24], X_train[i, 25], y_train[i]\n",
        "    ))\n",
        "\n",
        "\n"
      ],
      "metadata": {
        "colab": {
          "base_uri": "https://localhost:8080/"
        },
        "id": "nv7qz1698CAz",
        "outputId": "3c189bba-ea69-443b-9ce3-e1f340aab18e"
      },
      "execution_count": 102,
      "outputs": [
        {
          "output_type": "stream",
          "name": "stdout",
          "text": [
            "   visitorid ses_recses_rec_avgses_rec_sdses_rec_cv  user_rec     ses_n   ses_n_r     int_n   int_n_r    tran_n  tran_n_r   rev_sum rev_sum_rmajor_spend_rint_cat_n_avgint_itm_n_avgses_mo_avg ses_mo_sdses_ho_avg ses_ho_sdses_wknd_rses_len_avgtime_to_inttime_to_tranint_cat1_ntarget_class\n",
            "------------------------------------------------------------------------------------------------------------------------------------------------------------------------------------------------------------------------------------------------------------------------------------------------------------------------------------------------------------------------------\n",
            " 1249152.000   4.000     6.000     0.000     0.000    10.000     2.000     0.200     4.000     2.000     0.000     0.000     0.000     0.000     0.000     1.500     2.000     8.000     0.000    13.000     4.243     0.000     3.450     1.725    -1.000     2.000     0.000\n",
            " 1055121.000   1.000     0.700     2.100     3.000     9.000    11.000     1.222    31.000     2.818     0.000     0.000     0.000     0.000     0.000     1.455     2.273     8.000     0.000    13.909     2.625     1.000     6.036     2.142    -1.000     2.000     1.000\n",
            "  455160.000  26.000     0.000     0.000    -1.000    27.000     2.000     0.074     3.000     1.500     0.000     0.000     0.000     0.000     0.000     1.000     1.000     7.000     0.000    19.000     4.243     0.000     2.700     1.800    -1.000     0.000     1.000\n",
            "  214402.000   0.000     0.000     0.000    -1.000     1.000     3.000     3.000     9.000     3.000     0.000     0.000     0.000     0.000     0.000     1.000     2.667     8.000     0.000    19.333     1.155     1.000    18.517     6.172    -1.000     0.000     0.000\n",
            "  633757.000  14.000     0.000     0.000    -1.000    14.000     2.000     0.143     2.000     1.000     0.000     0.000     0.000     0.000     0.000     1.000     1.000     8.000     0.000    10.500     2.121     0.000     0.000     0.000    -1.000     0.000     1.000\n",
            "  305800.000  22.000     0.000     0.000    -1.000    22.000     2.000     0.091     2.000     1.000     0.000     0.000     0.000     0.000     0.000     1.000     1.000     7.000     0.000    13.500     2.121     1.000     0.000     0.000    -1.000     0.000     1.000\n",
            "  130230.000  18.000     1.500     1.500     1.000    21.000     3.000     0.143     3.000     1.000     0.000     0.000     0.000     0.000     0.000     1.000     1.000     7.000     0.000    14.333     4.509     0.000     0.000     0.000    -1.000     0.000     1.000\n",
            "  482344.000   8.000    14.000    14.000     1.000    37.000     3.000     0.081     3.000     1.000     0.000     0.000     0.000     0.000     0.000     1.000     1.000     7.667     0.577    19.000     1.732     1.000     0.000     0.000    -1.000     0.000     1.000\n",
            " 1374842.000  11.000     0.500     0.500     1.000    12.000     3.000     0.250    13.000     4.333     0.000     0.000     0.000     0.000     0.000     1.000     2.000     8.000     0.000    13.000     2.000     0.000     8.494     1.960    -1.000     0.000     0.000\n",
            "  891422.000  16.000     0.000     0.000    -1.000    16.000     3.000     0.188     4.000     1.333     0.000     0.000     0.000     0.000     0.000     1.000     1.000     7.000     0.000    21.333     0.577     0.000     1.983     1.488    -1.000     0.000     1.000\n"
          ]
        }
      ]
    },
    {
      "cell_type": "markdown",
      "source": [
        "# NORMALIZACION"
      ],
      "metadata": {
        "id": "PH4NGRZhKWl8"
      }
    },
    {
      "cell_type": "code",
      "source": [
        "def  featureNormalize(X):\n",
        "    X_norm = X.copy()\n",
        "\n",
        "    #creamos un array de ceros con una longitud igual al número de columnas en el array X. La variable mu y sigma se inicializa como este array de ceros.\n",
        "    mu = np.zeros(X.shape[1])\n",
        "    sigma = np.zeros(X.shape[1])\n",
        "\n",
        "    #Creamos el promedio de cada columna de X\n",
        "    mu = np.mean(X, axis = 0)\n",
        "    sigma = np.std(X, axis = 0)\n",
        "\n",
        "    sigma[sigma == 0] = 1\n",
        "\n",
        "    #normalizamos los datos con la siguiente formula\n",
        "    X_norm = (X - mu) / sigma\n",
        "\n",
        "    return X_norm, mu, sigma\n"
      ],
      "metadata": {
        "id": "DPRYT17GKYMh"
      },
      "execution_count": 11,
      "outputs": []
    },
    {
      "cell_type": "code",
      "source": [
        "# Imprimir los valores normalizados de las características para las primeras 10 instancias\n",
        "X_norm, mu, sigma= featureNormalize(X_train)\n",
        "# Imprimir las primeras 10 instancias con 26 columnas y la variable Y\n",
        "print('{:>12s}{:>8s}{:>10s}{:>10s}{:>10s}{:>10s}{:>10s}{:>10s}{:>10s}{:>10s}{:>10s}{:>10s}{:>10s}{:>10s}{:>10s}{:>10s}{:>10s}{:>10s}{:>10s}{:>10s}{:>10s}{:>10s}{:>10s}{:>10s}{:>10s}{:>10s}'.format(\n",
        "    'visitorid', 'ses_rec', 'ses_rec_avg', 'ses_rec_sd', 'ses_rec_cv', 'user_rec', 'ses_n', 'ses_n_r', 'int_n', 'int_n_r', 'tran_n', 'tran_n_r', 'rev_sum', 'rev_sum_r', 'major_spend_r', 'int_cat_n_avg', 'int_itm_n_avg', 'ses_mo_avg', 'ses_mo_sd', 'ses_ho_avg', 'ses_ho_sd', 'ses_wknd_r', 'ses_len_avg', 'time_to_int', 'time_to_tran', 'int_cat1_n',\n",
        "))\n",
        "print('-' * 290)\n",
        "\n",
        "for i in range(10):\n",
        "    print('{:12.3f}{:8.3f}{:10.3f}{:10.3f}{:10.3f}{:10.3f}{:10.3f}{:10.3f}{:10.3f}{:10.3f}{:10.3f}{:10.3f}{:10.3f}{:10.3f}{:10.3f}{:10.3f}{:10.3f}{:10.3f}{:10.3f}{:10.3f}{:10.3f}{:10.3f}{:10.3f}{:10.3f}{:10.3f}{:10.3f}'.format(\n",
        "        X_norm[i, 0], X_norm[i, 1], X_norm[i, 2], X_norm[i, 3], X_norm[i, 4], X_norm[i, 5], X_norm[i, 6], X_norm[i, 7], X_norm[i, 8], X_norm[i, 9], X_norm[i, 10], X_norm[i, 11], X_norm[i, 12], X_norm[i, 13], X_norm[i, 14], X_norm[i, 15], X_norm[i, 16], X_norm[i, 17], X_norm[i, 18], X_norm[i, 19], X_norm[i, 20], X_norm[i, 21], X_norm[i, 22], X_norm[i, 23], X_norm[i, 24], X_norm[i, 25]\n",
        "    ))\n",
        "\n"
      ],
      "metadata": {
        "colab": {
          "base_uri": "https://localhost:8080/"
        },
        "id": "zIB-MRYHKzKG",
        "outputId": "23a53887-52bb-4b0e-dc4a-e1d8710f064f"
      },
      "execution_count": 12,
      "outputs": [
        {
          "output_type": "stream",
          "name": "stdout",
          "text": [
            "   visitorid ses_recses_rec_avgses_rec_sdses_rec_cv  user_rec     ses_n   ses_n_r     int_n   int_n_r    tran_n  tran_n_r   rev_sum rev_sum_rmajor_spend_rint_cat_n_avgint_itm_n_avgses_mo_avg ses_mo_sdses_ho_avg ses_ho_sdses_wknd_rses_len_avgtime_to_inttime_to_tranint_cat1_n\n",
            "--------------------------------------------------------------------------------------------------------------------------------------------------------------------------------------------------------------------------------------------------------------------------------------------------\n",
            "       0.363   0.492    -0.315     0.427     1.107    -0.074    -0.052    -0.209    -0.093    -0.490    -0.039    -0.148    -0.034    -0.096    -0.181    -0.150    -0.409    -0.348    -0.670    -0.467     0.907    -0.755    -0.492    -0.645    -0.207    -0.049\n",
            "       0.615  -0.596    -0.591    -0.335     1.107    -0.905    -0.052     0.261    -0.069    -0.265    -0.039    -0.148    -0.034    -0.096    -0.181    -0.150    -0.409     1.384    -0.670    -0.134    -0.049    -0.755    -0.440    -0.509    -0.207    -0.049\n",
            "      -0.248   1.690    -0.398    -0.412     0.020     0.045    -0.180    -0.305    -0.044     0.524    -0.039    -0.148    -0.034    -0.096    -0.181    -0.150    -0.409    -0.348    -0.670    -1.091     0.058    -0.755     0.611     0.905    -0.207    -0.049\n",
            "      -0.749   0.819     1.695    -0.412     0.020     1.233    -0.180    -0.374    -0.117    -0.490    -0.039    -0.148    -0.034    -0.096    -0.181    -0.150    -0.409    -1.213     0.704     1.405    -0.414     0.645    -0.492    -0.645    -0.207     0.279\n",
            "      -1.708  -1.684    -0.618    -0.412    -1.067    -1.341    -0.052    -3.083     0.638     6.267    -0.039    -0.148    -0.034    -0.096    -0.181    -0.150     6.211     1.384    -0.670    -0.633    -0.736    -0.755     6.258     1.511    -0.207    -0.049\n",
            "       1.564   0.819     2.191    -0.412     0.020     1.590    -0.180    -0.384    -0.117    -0.490    -0.039    -0.148    -0.034    -0.096    -0.181    -0.150    -0.409    -1.213     0.704     1.281    -0.649     0.645    -0.492    -0.645    -0.207    -0.049\n",
            "       1.207  -1.467    -0.618    -0.412    -1.067    -1.262    -0.180     2.172    -0.093    -0.152    -0.039    -0.148    -0.034    -0.096    -0.181    -0.150     0.064     1.384    -0.670     0.407    -0.885     2.045    -0.318    -0.237    -0.207    -0.049\n",
            "       1.712   0.275    -0.453    -0.412     0.020    -0.470    -0.180    -0.216    -0.117    -0.490    -0.039    -0.148    -0.034    -0.096    -0.181    -0.150    -0.409    -0.348    -0.670    -0.217     0.765     0.645    -0.492    -0.645    -0.207    -0.049\n",
            "       1.506   1.037    -0.618    -0.412    -1.067    -0.351    -0.180    -0.245    -0.069     0.186    -0.039    -0.148    -0.034    -0.096    -0.181    -0.150     0.064    -0.348    -0.670     1.905    -0.885    -0.755     0.082     0.363    -0.207    -0.049\n",
            "       1.376  -0.814    -0.618    -0.412    -1.067    -1.024    -0.180     0.202     0.053     1.875    -0.039    -0.148    -0.034    -0.096    -0.181    -0.150    -0.409     1.384    -0.670     0.781    -0.649     2.045     0.545     0.165    -0.207    -0.049\n"
          ]
        }
      ]
    },
    {
      "cell_type": "markdown",
      "source": [
        "Añadiendo 1 a la columna 0 para para completar los theta\n"
      ],
      "metadata": {
        "id": "T6cFqU5RMGUg"
      }
    },
    {
      "cell_type": "code",
      "source": [
        "X_ready = np.concatenate([np.ones((m_train, 1)), X_norm], axis=1)\n",
        "\n",
        "# imprimir todos las X_norm de datos solo 10\n",
        "print('{:>8s}{:>8s}{:>10s}{:>10s}{:>8s}{:>8s}{:>8s}{:>8s}{:>6s}{:>10s}{:>10s}{:>10s}{:>10s}{:>10s}{:>8s}{:>8s}{:>8s}{:>8s}{:>6s}{:>10s}{:>10s}{:>8s}{:>8s}'.format(\n",
        "    'X[:,0]', 'X[:, 1]', 'X[:, 2]', 'X[:, 3]', 'X[:, 4]', 'X[:, 5]', 'X[:, 6]', 'X[:, 7]', 'X[:, 8]', 'X[:, 9]', 'X[:, 10]', 'X[:, 11]', 'X[:, 12]', 'X[:, 13]', 'X[:, 14]', 'X[:, 15]', 'X[:, 16]', 'X[:, 17]', 'X[:, 18]', 'X[:, 19]', 'X[:, 20]', 'X[:, 21]', 'X[:, 22]', 'X[:, 23]'\n",
        "))\n",
        "print('-' * 142)\n",
        "\n",
        "for i in range(10):\n",
        "    print('{:8.3f}{:8.3f}{:10.3f}{:10.3f}{:8.3f}{:8.3f}{:8.3f}{:8.3f}{:8.3f}{:10.3f}{:8.3f}{:8.3f}{:8.3f}{:8.3f}{:8.3f}{:8.3f}{:8.3f}{:8.3f}{:8.3f}{:8.3f}{:8.3f}{:8.3f}{:8.3f}{:8.3f}'.format(\n",
        "        X_ready[i, 0], X_ready[i, 1], X_ready[i, 2], X_ready[i, 3], X_ready[i, 4], X_ready[i, 5], X_ready[i, 6], X_ready[i, 7], X_ready[i, 8], X_ready[i, 9], X_ready[i, 10], X_ready[i, 11], X_ready[i, 12],X_ready[i, 13],X_ready[i, 14],X_ready[i, 15],X_ready[i, 16],X_ready[i, 17],X_ready[i, 18],X_ready[i, 19],X_ready[i, 20],X_ready[i, 21],X_ready[i, 22],X_ready[i, 23]\n",
        "    ))\n"
      ],
      "metadata": {
        "colab": {
          "base_uri": "https://localhost:8080/"
        },
        "id": "yvDREuerMNuF",
        "outputId": "a16536e9-4af4-4ee4-e067-8eb397503e14"
      },
      "execution_count": 23,
      "outputs": [
        {
          "output_type": "stream",
          "name": "stdout",
          "text": [
            "  X[:,0] X[:, 1]   X[:, 2]   X[:, 3] X[:, 4] X[:, 5] X[:, 6] X[:, 7]X[:, 8]   X[:, 9]  X[:, 10]  X[:, 11]  X[:, 12]  X[:, 13]X[:, 14]X[:, 15]X[:, 16]X[:, 17]X[:, 18]  X[:, 19]  X[:, 20]X[:, 21]X[:, 22]\n",
            "----------------------------------------------------------------------------------------------------------------------------------------------\n",
            "   1.000   0.363     0.492    -0.315   0.427   1.107  -0.074  -0.052  -0.209    -0.093  -0.490  -0.039  -0.148  -0.034  -0.096  -0.181  -0.150  -0.409  -0.348  -0.670  -0.467   0.907  -0.755  -0.492\n",
            "   1.000   0.615    -0.596    -0.591  -0.335   1.107  -0.905  -0.052   0.261    -0.069  -0.265  -0.039  -0.148  -0.034  -0.096  -0.181  -0.150  -0.409   1.384  -0.670  -0.134  -0.049  -0.755  -0.440\n",
            "   1.000  -0.248     1.690    -0.398  -0.412   0.020   0.045  -0.180  -0.305    -0.044   0.524  -0.039  -0.148  -0.034  -0.096  -0.181  -0.150  -0.409  -0.348  -0.670  -1.091   0.058  -0.755   0.611\n",
            "   1.000  -0.749     0.819     1.695  -0.412   0.020   1.233  -0.180  -0.374    -0.117  -0.490  -0.039  -0.148  -0.034  -0.096  -0.181  -0.150  -0.409  -1.213   0.704   1.405  -0.414   0.645  -0.492\n",
            "   1.000  -1.708    -1.684    -0.618  -0.412  -1.067  -1.341  -0.052  -3.083     0.638   6.267  -0.039  -0.148  -0.034  -0.096  -0.181  -0.150   6.211   1.384  -0.670  -0.633  -0.736  -0.755   6.258\n",
            "   1.000   1.564     0.819     2.191  -0.412   0.020   1.590  -0.180  -0.384    -0.117  -0.490  -0.039  -0.148  -0.034  -0.096  -0.181  -0.150  -0.409  -1.213   0.704   1.281  -0.649   0.645  -0.492\n",
            "   1.000   1.207    -1.467    -0.618  -0.412  -1.067  -1.262  -0.180   2.172    -0.093  -0.152  -0.039  -0.148  -0.034  -0.096  -0.181  -0.150   0.064   1.384  -0.670   0.407  -0.885   2.045  -0.318\n",
            "   1.000   1.712     0.275    -0.453  -0.412   0.020  -0.470  -0.180  -0.216    -0.117  -0.490  -0.039  -0.148  -0.034  -0.096  -0.181  -0.150  -0.409  -0.348  -0.670  -0.217   0.765   0.645  -0.492\n",
            "   1.000   1.506     1.037    -0.618  -0.412  -1.067  -0.351  -0.180  -0.245    -0.069   0.186  -0.039  -0.148  -0.034  -0.096  -0.181  -0.150   0.064  -0.348  -0.670   1.905  -0.885  -0.755   0.082\n",
            "   1.000   1.376    -0.814    -0.618  -0.412  -1.067  -1.024  -0.180   0.202     0.053   1.875  -0.039  -0.148  -0.034  -0.096  -0.181  -0.150  -0.409   1.384  -0.670   0.781  -0.649   2.045   0.545\n"
          ]
        }
      ]
    },
    {
      "cell_type": "markdown",
      "source": [
        "# **FUNCION SIGMOIDE**"
      ],
      "metadata": {
        "id": "fBjjwW5SH9lp"
      }
    },
    {
      "cell_type": "code",
      "source": [
        "def sigmoid(z):\n",
        "    # Calcula la sigmoide de una entrada z\n",
        "    # convierte la intrada a un arreglo numpy\n",
        "    z = np.array(z)\n",
        "\n",
        "    g = np.zeros(z.shape)\n",
        "\n",
        "    g = 1 / (1 + np.exp(-z))\n",
        "\n",
        "    return g"
      ],
      "metadata": {
        "id": "8p7sImIQ-B6e"
      },
      "execution_count": 16,
      "outputs": []
    },
    {
      "cell_type": "code",
      "source": [
        "print(sigmoid(0))"
      ],
      "metadata": {
        "colab": {
          "base_uri": "https://localhost:8080/"
        },
        "id": "CcCVENxE-2-1",
        "outputId": "4b657b08-059a-405d-a931-fed9a2ab5fea"
      },
      "execution_count": 148,
      "outputs": [
        {
          "output_type": "stream",
          "name": "stdout",
          "text": [
            "0.5\n"
          ]
        }
      ]
    },
    {
      "cell_type": "code",
      "source": [
        "z = [0.5, 6, 5]\n",
        "print(sigmoid(z))"
      ],
      "metadata": {
        "colab": {
          "base_uri": "https://localhost:8080/"
        },
        "id": "Z-OP4eIEtNpe",
        "outputId": "b176d370-13bc-47b4-80ff-fc6fa0a03ce7"
      },
      "execution_count": 149,
      "outputs": [
        {
          "output_type": "stream",
          "name": "stdout",
          "text": [
            "[0.62245933 0.99752738 0.99330715]\n"
          ]
        }
      ]
    },
    {
      "cell_type": "markdown",
      "source": [
        "# DESCENSO POR EL **GRADIENTE**"
      ],
      "metadata": {
        "id": "q9BtP37xIM5d"
      }
    },
    {
      "cell_type": "markdown",
      "source": [
        "# CALCULO DEL **COSTO**"
      ],
      "metadata": {
        "id": "sBBmm6iVIb4O"
      }
    },
    {
      "cell_type": "code",
      "source": [
        "def calcularCosto(theta, X, y):\n",
        "    # Inicializar algunos valores utiles\n",
        "    m = y.size  # numero de ejemplos de entrenamiento\n",
        "\n",
        "    J = 0\n",
        "\n",
        "    #hacemos el uso de la funcion sigmoid\n",
        "    h = sigmoid(X.dot(theta.T))\n",
        "    J = (1 / m) * np.sum(-y.dot(np.log(h)) - (1 - y).dot(np.log(1 - h)))\n",
        "\n",
        "    return J"
      ],
      "metadata": {
        "id": "koqZHAK9IiN3"
      },
      "execution_count": 17,
      "outputs": []
    },
    {
      "cell_type": "code",
      "source": [
        "def descensoGradiente(theta, X, y, alpha, num_iters):\n",
        "    # Inicializa algunos valores\n",
        "    m = y.shape[0] # numero de ejemplos de entrenamiento\n",
        "\n",
        "    # realiza una copia de theta, el cual será acutalizada por el descenso por el gradiente\n",
        "    theta = theta.copy()\n",
        "    J_history = []\n",
        "\n",
        "    for i in range(num_iters):\n",
        "        h = sigmoid(X.dot(theta.T))\n",
        "        theta = theta - (alpha / m) * (h - y).dot(X)\n",
        "\n",
        "        J_history.append(calcularCosto(theta, X, y))\n",
        "    return theta, J_history"
      ],
      "metadata": {
        "id": "mMpmoLRbIo7r"
      },
      "execution_count": 21,
      "outputs": []
    },
    {
      "cell_type": "code",
      "source": [
        "#creamos un theta con 19 columnas de ceros\n",
        "theta = np.zeros(len(X_ready[0]))\n",
        "\n",
        "#numero de iteraciones sera 5000 y un alpha 0.009\n",
        "num_ite = 5000\n",
        "alpha = 0.009\n",
        "\n",
        "theta, J_historico = descensoGradiente(theta, X_ready, y_train, alpha, num_ite)\n",
        "\n",
        "print(\"########################################################################################################\")\n",
        "print(\"Los valores de theta calculados son:\")\n",
        "i = 0\n",
        "for tht in theta:\n",
        "    i += 1\n",
        "    print(f\"theta {i}: {tht}\")\n",
        "\n",
        "\n",
        "print(f\"########################################################################################################\")\n",
        "#mostramos el ultimo costo, este seria el mejor costo\n",
        "print(f\"con un costo de: { J_historico[-1]} \")\n"
      ],
      "metadata": {
        "colab": {
          "base_uri": "https://localhost:8080/"
        },
        "id": "3S-Ye0rLIyK5",
        "outputId": "6e23397c-9039-4688-8c61-4070a3ccee1c"
      },
      "execution_count": 24,
      "outputs": [
        {
          "output_type": "stream",
          "name": "stdout",
          "text": [
            "########################################################################################################\n",
            "Los valores de theta calculados son:\n",
            "theta 1: 2.226467701203415\n",
            "theta 2: -0.001798081109011564\n",
            "theta 3: 0.5704245227300873\n",
            "theta 4: 0.2187485297245796\n",
            "theta 5: -0.013802693528513337\n",
            "theta 6: -0.2979897417654709\n",
            "theta 7: -0.30834296529623284\n",
            "theta 8: -0.18776197465379466\n",
            "theta 9: -0.03523379582719244\n",
            "theta 10: 0.013681741067361017\n",
            "theta 11: -0.026266751842885627\n",
            "theta 12: 0.03462059794731778\n",
            "theta 13: -0.00263570180145295\n",
            "theta 14: 0.04648417271176029\n",
            "theta 15: -0.018378477949293797\n",
            "theta 16: 0.0034511896341450896\n",
            "theta 17: -0.004988779742558616\n",
            "theta 18: -0.035027499455111945\n",
            "theta 19: -0.03353829238680069\n",
            "theta 20: -0.0661788268386112\n",
            "theta 21: -0.0034047454795912745\n",
            "theta 22: -0.02729605822174649\n",
            "theta 23: 0.07703820258277604\n",
            "theta 24: 0.004549041115159974\n",
            "theta 25: -0.028870089363599985\n",
            "theta 26: -0.003158993409830986\n",
            "theta 27: 0.012737727375157307\n",
            "########################################################################################################\n",
            "con un costo de: 0.3153070007524925 \n"
          ]
        }
      ]
    },
    {
      "cell_type": "code",
      "source": [
        "pyplot.plot(np.arange(len(J_historico)), J_historico, lw=2)\n",
        "pyplot.title(\"Grafica de la convergencia del costo\")\n",
        "pyplot.xlabel('Numero de iteraciones')\n",
        "pyplot.ylabel('Costo J')"
      ],
      "metadata": {
        "colab": {
          "base_uri": "https://localhost:8080/",
          "height": 489
        },
        "id": "CTo5K44OVXX4",
        "outputId": "945c904e-b17f-4161-b2a3-9d5caf9e53b2"
      },
      "execution_count": 153,
      "outputs": [
        {
          "output_type": "execute_result",
          "data": {
            "text/plain": [
              "Text(0, 0.5, 'Costo J')"
            ]
          },
          "metadata": {},
          "execution_count": 153
        },
        {
          "output_type": "display_data",
          "data": {
            "text/plain": [
              "<Figure size 640x480 with 1 Axes>"
            ],
            "image/png": "[encoded data removed]"
          },
          "metadata": {}
        }
      ]
    },
    {
      "cell_type": "code",
      "source": [
        "X_array = [1,2866,0,22,0,0,23,2,0.08695652,3,1.5,0,0,0,0,0,1,1,7.5,0.70710677,18,7.071068,1,6.0916667,4.061111,-1,0\n",
        "]\n",
        "X_array_copy = X_array.copy()\n",
        "\n",
        "# Se normalizan las características para la prueba utilizando mu y sigma calculados anteriormente, excluyendo el primer valor\n",
        "X_array[1:] = (X_array[1:] - mu) / sigma\n",
        "\n",
        "# Se calcula el resultado utilizando la función sigmoid y el producto punto entre X_array y theta\n",
        "resultados = sigmoid(np.dot(X_array, theta))\n",
        "\n",
        "# Se imprime el resultado\n",
        "print(f\"Una persona con las características: {X_array_copy}\")\n",
        "print(f\"Tiene una probabilidad de abandono del comercio electrónico del {resultados * 100}%\")\n",
        "print(f\"Con valores de theta: {theta}\")\n"
      ],
      "metadata": {
        "colab": {
          "base_uri": "https://localhost:8080/"
        },
        "id": "7ffH-VRxW9_L",
        "outputId": "18247917-a783-46b6-80a5-d320bf002094"
      },
      "execution_count": 168,
      "outputs": [
        {
          "output_type": "stream",
          "name": "stdout",
          "text": [
            "Una persona con las características: [1, 2866, 0, 22, 0, 0, 23, 2, 0.08695652, 3, 1.5, 0, 0, 0, 0, 0, 1, 1, 7.5, 0.70710677, 18, 7.071068, 1, 6.0916667, 4.061111, -1, 0]\n",
            "Tiene una probabilidad de abandono del comercio electrónico del 82.06337292604799%\n",
            "Con valores de theta: [ 2.22624462e+00 -7.03526766e-03  5.63988929e-01  1.84632363e-01\n",
            " -2.96855719e-02 -2.89805048e-01 -2.90936303e-01 -2.15601011e-01\n",
            " -4.14726524e-02 -1.60194785e-03 -2.57320706e-02  4.21040698e-02\n",
            " -9.99020392e-03  6.52960875e-02 -2.21963024e-02 -1.15193435e-03\n",
            " -1.08853435e-02 -1.99798422e-02 -4.44661436e-02 -4.69429505e-02\n",
            "  4.44858361e-03 -2.57410082e-02  5.05752407e-02  7.63788900e-03\n",
            " -3.09367556e-02 -9.75532794e-03  5.69987632e-03]\n"
          ]
        }
      ]
    },
    {
      "cell_type": "code",
      "source": [
        "nombres_columnas = ['visitorid','ses_rec','ses_rec_avg','ses_rec_sd','ses_rec_cv','user_rec','ses_n','ses_n_r','int_n','int_n_r','tran_n','tran_n_r','rev_sum','rev_sum_r','major_spend_r','int_cat_n_avg','int_itm_n_avg','ses_mo_avg','ses_mo_sd','ses_ho_avg','ses_ho_sd','ses_wknd_r','ses_len_avg','time_to_int','time_to_tran','target_class','target_class 1/si 0/no'\n",
        "]\n",
        "\n",
        "import numpy as np\n",
        "\n",
        "matriz_datos = np.array([\n",
        "    [2866,0,22,0,0,23,2,0.08695652,3,1.5,0,0,0,0,0,1,1,7.5,0.70710677,18,7.071068,1,6.0916667,4.061111,-1,0],\n",
        "    [724, 26, 6.3333335, 6.9442225, 1.0964562, 47, 4, 0.08510638, 13, 3.25, 0, 0, 0, 0, 0, 1, 1.5, 7, 0, 20.25, 1.5, 0, 7.0958333, 2.1833334, -1, 0],\n",
        "    [89, 23, 16, 0, 0, 39, 2, 0.051282052, 3, 1.5, 0, 0, 0, 0, 0, 1, 1.5, 7, 0, 11, 7.071068, 0.5, 2.8666666, 1.9111111, -1, 0],\n",
        "    [43817, 7, 0, 0, -1, 7, 2, 0.2857143, 2, 1, 0, 0, 0, 0, 0, 1, 1, 8, 0, 15, 1.4142135, 0, 0, 0, -1, 0],\n",
        "    [8540,15,1.25,1.6393596,1.3114877,22,5,0.22727273,12,2.4,0,0,0,0,0,1,2.2,7.4,0.5477226,15.4,3.9115214,0.8,2.7633333,1.1513889,-1,0],\n",
        "    [2656,5,0.037037037,0.18885258,5.0990195,17,28,1.6470588,38,1.3571428,0,0,0,0,0,1,1,7.892857,0.3149704,12.142858,5.6941442,0.25,1.2970238,0.95570177,-1,0],\n",
        "    [89,23,16,0,0,39,2,0.051282052,3,1.5,0,0,0,0,0,1,1.5,7,0,11,7.071068,0.5,2.8666666,1.9111111,-1,0]\n",
        "])\n",
        "\n",
        "para_tabla = matriz_datos.copy()\n",
        "#creamos un vector parta almacenar cada Y predicha\n",
        "y_pre = []\n",
        "\n",
        "matriz_datos = (matriz_datos- mu) / sigma\n",
        "matriz_datos = np.concatenate([np.ones((len(matriz_datos), 1)), matriz_datos], axis=1)\n",
        "\n",
        "# Calculamos la Y predicha de los 11 ejemplos de prediccion\n",
        "# Calculamos la Y predicha de cada fila de la matriz\n",
        "for j in matriz_datos:\n",
        "    y_pre.append(sigmoid(np.dot(j, theta)))\n",
        "\n",
        "# Convertimos la lista a un array unidimensional\n",
        "\n",
        "y_pre = np.array(y_pre)\n",
        "\n",
        "# usamos umbral para definir si tiene o no la enfermedad\n",
        "y_pre_umbral = (y_pre >= 0.5).astype(int)\n",
        "\n",
        "para_tabla = np.column_stack((para_tabla, y_pre))\n",
        "para_tabla = np.column_stack((para_tabla, y_pre_umbral))\n",
        "# Convertir la matriz en una lista de listas\n",
        "datos_para_tabla = para_tabla.tolist()\n",
        "\n",
        "# Imprimir la tabla\n",
        "print(tabulate(datos_para_tabla, headers=nombres_columnas, tablefmt='grid'))\n"
      ],
      "metadata": {
        "colab": {
          "base_uri": "https://localhost:8080/"
        },
        "id": "PhjKzy9u39em",
        "outputId": "ddfd94ca-8a4a-4e2e-ba3f-619c8e88e3af"
      },
      "execution_count": 187,
      "outputs": [
        {
          "output_type": "stream",
          "name": "stdout",
          "text": [
            "+-------+-------------+-----------+---------------+--------------+--------------+------------+-----------+-----------+---------+-----------+----------+------------+-----------+-------------+-----------------+-----------------+-----------------+--------------+-------------+--------------+-------------+--------------+---------------+---------------+----------------+----------------+--------------------------+\n",
            "|       |   visitorid |   ses_rec |   ses_rec_avg |   ses_rec_sd |   ses_rec_cv |   user_rec |     ses_n |   ses_n_r |   int_n |   int_n_r |   tran_n |   tran_n_r |   rev_sum |   rev_sum_r |   major_spend_r |   int_cat_n_avg |   int_itm_n_avg |   ses_mo_avg |   ses_mo_sd |   ses_ho_avg |   ses_ho_sd |   ses_wknd_r |   ses_len_avg |   time_to_int |   time_to_tran |   target_class |   target_class 1/si 0/no |\n",
            "+=======+=============+===========+===============+==============+==============+============+===========+===========+=========+===========+==========+============+===========+=============+=================+=================+=================+==============+=============+==============+=============+==============+===============+===============+================+================+==========================+\n",
            "|  2866 |           0 | 22        |      0        |      0       |           23 |          2 | 0.0869565 |         3 | 1.5     |         0 |        0 |          0 |         0 |           0 |               1 |             1   |         7.5     |     0.707107 |     18      |      7.07107 |        1    |      6.09167 |      4.06111  |            -1 |              0 |       0.820634 |                        1 |\n",
            "+-------+-------------+-----------+---------------+--------------+--------------+------------+-----------+-----------+---------+-----------+----------+------------+-----------+-------------+-----------------+-----------------+-----------------+--------------+-------------+--------------+-------------+--------------+---------------+---------------+----------------+----------------+--------------------------+\n",
            "|   724 |          26 |  6.33333  |      6.94422  |      1.09646 |           47 |          4 | 0.0851064 |        13 | 3.25    |         0 |        0 |          0 |         0 |           0 |               1 |             1.5 |         7       |     0        |     20.25   |      1.5     |        0    |      7.09583 |      2.18333  |            -1 |              0 |       0.906833 |                        1 |\n",
            "+-------+-------------+-----------+---------------+--------------+--------------+------------+-----------+-----------+---------+-----------+----------+------------+-----------+-------------+-----------------+-----------------+-----------------+--------------+-------------+--------------+-------------+--------------+---------------+---------------+----------------+----------------+--------------------------+\n",
            "|    89 |          23 | 16        |      0        |      0       |           39 |          2 | 0.0512821 |         3 | 1.5     |         0 |        0 |          0 |         0 |           0 |               1 |             1.5 |         7       |     0        |     11      |      7.07107 |        0.5  |      2.86667 |      1.91111  |            -1 |              0 |       0.940841 |                        1 |\n",
            "+-------+-------------+-----------+---------------+--------------+--------------+------------+-----------+-----------+---------+-----------+----------+------------+-----------+-------------+-----------------+-----------------+-----------------+--------------+-------------+--------------+-------------+--------------+---------------+---------------+----------------+----------------+--------------------------+\n",
            "| 43817 |           7 |  0        |      0        |     -1       |            7 |          2 | 0.285714  |         2 | 1       |         0 |        0 |          0 |         0 |           0 |               1 |             1   |         8       |     0        |     15      |      1.41421 |        0    |      0       |      0        |            -1 |              0 |       0.905052 |                        1 |\n",
            "+-------+-------------+-----------+---------------+--------------+--------------+------------+-----------+-----------+---------+-----------+----------+------------+-----------+-------------+-----------------+-----------------+-----------------+--------------+-------------+--------------+-------------+--------------+---------------+---------------+----------------+----------------+--------------------------+\n",
            "|  8540 |          15 |  1.25     |      1.63936  |      1.31149 |           22 |          5 | 0.227273  |        12 | 2.4     |         0 |        0 |          0 |         0 |           0 |               1 |             2.2 |         7.4     |     0.547723 |     15.4    |      3.91152 |        0.8  |      2.76333 |      1.15139  |            -1 |              0 |       0.855196 |                        1 |\n",
            "+-------+-------------+-----------+---------------+--------------+--------------+------------+-----------+-----------+---------+-----------+----------+------------+-----------+-------------+-----------------+-----------------+-----------------+--------------+-------------+--------------+-------------+--------------+---------------+---------------+----------------+----------------+--------------------------+\n",
            "|  2656 |           5 |  0.037037 |      0.188853 |      5.09902 |           17 |         28 | 1.64706   |        38 | 1.35714 |         0 |        0 |          0 |         0 |           0 |               1 |             1   |         7.89286 |     0.31497  |     12.1429 |      5.69414 |        0.25 |      1.29702 |      0.955702 |            -1 |              0 |       0.288374 |                        0 |\n",
            "+-------+-------------+-----------+---------------+--------------+--------------+------------+-----------+-----------+---------+-----------+----------+------------+-----------+-------------+-----------------+-----------------+-----------------+--------------+-------------+--------------+-------------+--------------+---------------+---------------+----------------+----------------+--------------------------+\n",
            "|    89 |          23 | 16        |      0        |      0       |           39 |          2 | 0.0512821 |         3 | 1.5     |         0 |        0 |          0 |         0 |           0 |               1 |             1.5 |         7       |     0        |     11      |      7.07107 |        0.5  |      2.86667 |      1.91111  |            -1 |              0 |       0.940841 |                        1 |\n",
            "+-------+-------------+-----------+---------------+--------------+--------------+------------+-----------+-----------+---------+-----------+----------+------------+-----------+-------------+-----------------+-----------------+-----------------+--------------+-------------+--------------+-------------+--------------+---------------+---------------+----------------+----------------+--------------------------+\n"
          ]
        }
      ]
    },
    {
      "cell_type": "code",
      "source": [
        "X_norm_test = (X_test- mu) / sigma\n",
        "m_test= len(X_test)"
      ],
      "metadata": {
        "id": "zBCdUr5xpYwb"
      },
      "execution_count": 13,
      "outputs": []
    },
    {
      "cell_type": "code",
      "source": [
        "X_test_ready = np.concatenate([np.ones((m_test, 1)), X_norm_test], axis=1)\n",
        "\n",
        "# imprimir todos las X_norm de datos solo 10\n",
        "print('{:>8s}{:>8s}{:>10s}{:>10s}{:>8s}{:>8s}{:>8s}{:>8s}{:>6s}{:>10s}{:>10s}{:>10s}'.format(\n",
        "    'X[:,0]', 'X[:, 1]', 'X[:, 2]', 'X[:, 3]', 'X[:, 4]', 'X[:, 5]', 'X[:, 6]', 'X[:, 7]', 'X[:, 8]', 'X[:, 9]', 'X[:, 10]', 'X[:, 11]'\n",
        "))\n",
        "print('-' * 110)\n",
        "\n",
        "for i in range(10):\n",
        "    print('{:8.3f}{:8.3f}{:10.3f}{:10.3f}{:8.3f}{:8.3f}{:8.3f}{:8.3f}{:8.3f}{:10.3f}{:8.3f}{:8.3f}'.format(\n",
        "    X_test_ready[i, 0], X_test_ready[i, 1], X_test_ready[i, 2], X_test_ready[i, 3], X_test_ready[i, 4], X_test_ready[i, 5], X_test_ready[i, 6],\n",
        "    X_test_ready[i, 7], X_test_ready[i, 8], X_test_ready[i, 9], X_test_ready[i, 10], X_test_ready[i, 11]\n",
        "    ))"
      ],
      "metadata": {
        "colab": {
          "base_uri": "https://localhost:8080/"
        },
        "id": "_C_OzAQorGob",
        "outputId": "548b0287-923c-4b20-c78c-aa6a7be13197"
      },
      "execution_count": 14,
      "outputs": [
        {
          "output_type": "stream",
          "name": "stdout",
          "text": [
            "  X[:,0] X[:, 1]   X[:, 2]   X[:, 3] X[:, 4] X[:, 5] X[:, 6] X[:, 7]X[:, 8]   X[:, 9]  X[:, 10]  X[:, 11]\n",
            "--------------------------------------------------------------------------------------------------------------\n",
            "   1.000  -0.717    -1.684    -0.618  -0.412  -1.067  -1.341  -0.180  -3.083    -0.117  -0.490  -0.039\n",
            "   1.000  -1.734     1.145    -0.618  -0.412  -1.067  -0.311  -0.180  -0.253    -0.069   0.186  -0.039\n",
            "   1.000  -0.562    -0.269     0.795   4.699   1.439   2.263   0.077  -0.340    -0.069  -0.490  -0.039\n",
            "   1.000  -1.633     0.166    -0.618  -0.412  -1.067  -0.628  -0.180  -0.163    -0.117  -0.490  -0.039\n",
            "   1.000   0.048     0.819    -0.618  -0.412  -1.067  -0.430  -0.180  -0.227    -0.093  -0.152  -0.039\n",
            "   1.000   0.055     1.581    -0.618  -0.412  -1.067  -0.153  -0.180  -0.280    -0.117  -0.490  -0.039\n",
            "   1.000   1.158     0.166     0.373  -0.412   0.020   0.045  -0.180  -0.305    -0.117  -0.490  -0.039\n",
            "   1.000  -1.370    -0.052     0.346   0.885   0.548   0.679  -0.052  -0.301    -0.093  -0.490  -0.039\n",
            "   1.000   1.170     1.037    -0.040  -0.335   0.071   0.520  -0.052  -0.288     0.004   0.411  -0.039\n",
            "   1.000   1.693    -1.467    -0.481  -0.030   1.107  -1.024  -0.052   0.530    -0.093  -0.490  -0.039\n"
          ]
        }
      ]
    },
    {
      "cell_type": "markdown",
      "source": [
        "Calculo de Y predicha\n"
      ],
      "metadata": {
        "id": "zryPFnwssUCb"
      }
    },
    {
      "cell_type": "code",
      "source": [
        "y_predicha = []\n",
        "\n",
        "# Calculamos la Y predicha de cada fila de la matriz\n",
        "for dato in X_test_ready:\n",
        "    y_predicha.append(sigmoid(np.dot(dato, theta)))\n",
        "\n",
        "# Convertimos la lista a un array unidimensional\n",
        "y_predicha = np.array(y_predicha)\n",
        "\n",
        "# Usando el umbral donde todo aquello que sea >= 0.5 sera 1, y si es menor sera 0\n",
        "y_umbral = (y_predicha >= 0.5).astype(int)\n",
        "\n",
        "# Imprimir todos los datos de X y las predicciones\n",
        "print('{:>8s}{:>8s}{:>10s}{:>10s}{:>8s}{:>8s}{:>8s}{:>8s}{:>8s}{:>10s}{:>10s}{:>10s}{:>10s}{:>10s}{:>10s}{:>10s}{:>10s}{:>10s}{:>10s}{:>10s}{:>10s}{:>10s}{:>10s}{:>10s}{:>10s}{:>10s}{:>10s}'.format(\n",
        "    'X[:,0]', 'X[:, 1]', 'X[:, 2]', 'X[:, 3]', 'X[:, 4]', 'X[:, 5]', 'X[:, 6]', 'X[:, 7]', 'X[:, 8]', 'X[:, 9]', 'X[:, 10]', 'X[:, 11]', 'X[:, 12]', 'X[:, 13]', 'X[:, 14]', 'X[:, 15]', 'X[:, 16]', 'X[:, 17]', 'X[:, 18]', 'X[:, 19]', 'X[:, 20]', 'X[:, 21]', 'X[:, 22]', 'X[:, 23]', 'X[:, 24]', 'y_predicha', '(y) usando el umbral'\n",
        "))\n",
        "print('-' * 250)\n",
        "\n",
        "# Mostrando algunos datos\n",
        "for i in range(10):\n",
        "    print('{:8.3f}{:8.3f}{:10.3f}{:10.3f}{:8.3f}{:8.3f}{:8.3f}{:8.3f}{:8.3f}{:10.3f}{:10.3f}{:10.3f}{:10.3f}{:10.3f}{:10.3f}{:10.3f}{:10.3f}{:10.3f}{:10.3f}{:10.3f}{:10.3f}{:10.3f}{:10.3f}{:10.3f}{:10.3f}{:10.3f}{:10d}'.format(\n",
        "        X_test_ready[i, 0], X_test_ready[i, 1], X_test_ready[i, 2], X_test_ready[i, 3], X_test_ready[i, 4], X_test_ready[i, 5], X_test_ready[i, 6],\n",
        "        X_test_ready[i, 7], X_test_ready[i, 8], X_test_ready[i, 9], X_test_ready[i, 10], X_test_ready[i, 11], X_test_ready[i, 12], X_test_ready[i, 13],\n",
        "        X_test_ready[i, 14], X_test_ready[i, 15], X_test_ready[i, 16], X_test_ready[i, 17], X_test_ready[i, 18], X_test_ready[i, 19], X_test_ready[i, 20],\n",
        "        X_test_ready[i, 21], X_test_ready[i, 22], X_test_ready[i, 23], X_test_ready[i, 24], y_predicha[i], y_umbral[i]\n",
        "    ))\n"
      ],
      "metadata": {
        "colab": {
          "base_uri": "https://localhost:8080/"
        },
        "id": "X0XMd3QLsX4j",
        "outputId": "423bf8b7-9f6f-4f57-bdd3-8f1d7cba2949"
      },
      "execution_count": 31,
      "outputs": [
        {
          "output_type": "stream",
          "name": "stdout",
          "text": [
            "  X[:,0] X[:, 1]   X[:, 2]   X[:, 3] X[:, 4] X[:, 5] X[:, 6] X[:, 7] X[:, 8]   X[:, 9]  X[:, 10]  X[:, 11]  X[:, 12]  X[:, 13]  X[:, 14]  X[:, 15]  X[:, 16]  X[:, 17]  X[:, 18]  X[:, 19]  X[:, 20]  X[:, 21]  X[:, 22]  X[:, 23]  X[:, 24]y_predicha(y) usando el umbral\n",
            "----------------------------------------------------------------------------------------------------------------------------------------------------------------------------------------------------------------------------------------------------------\n",
            "   1.000  -0.717    -1.684    -0.618  -0.412  -1.067  -1.341  -0.180  -3.083    -0.117    -0.490    -0.039    -0.148    -0.034    -0.096    -0.181    -0.150    -0.409     1.384    -0.670    -1.216    -1.121    -0.755    -0.492    -0.645     0.884         1\n",
            "   1.000  -1.734     1.145    -0.618  -0.412  -1.067  -0.311  -0.180  -0.253    -0.069     0.186    -0.039    -0.148    -0.034    -0.096    -0.181    -0.150    -0.409    -0.348    -0.670    -0.716    -0.178    -0.755     0.378     0.883     0.961         1\n",
            "   1.000  -0.562    -0.269     0.795   4.699   1.439   2.263   0.077  -0.340    -0.069    -0.490    -0.039    -0.148    -0.034    -0.096    -0.181    -0.150    -0.409    -0.348     2.078    -0.342    -0.084    -0.755    -0.492    -0.645     0.714         1\n",
            "   1.000  -1.633     0.166    -0.618  -0.412  -1.067  -0.628  -0.180  -0.163    -0.117    -0.490    -0.039    -0.148    -0.034    -0.096    -0.181    -0.150    -0.409    -0.348    -0.670    -0.592     3.828    -0.755    -0.492    -0.645     0.936         1\n",
            "   1.000   0.048     0.819    -0.618  -0.412  -1.067  -0.430  -0.180  -0.227    -0.093    -0.152    -0.039    -0.148    -0.034    -0.096    -0.181    -0.150    -0.409    -0.348    -0.670    -1.465    -1.121     2.045     0.801     2.384     0.963         1\n",
            "   1.000   0.055     1.581    -0.618  -0.412  -1.067  -0.153  -0.180  -0.280    -0.117    -0.490    -0.039    -0.148    -0.034    -0.096    -0.181    -0.150    -0.409    -0.348    -0.670     1.281    -1.121     2.045    -0.492    -0.645     0.976         1\n",
            "   1.000   1.158     0.166     0.373  -0.412   0.020   0.045  -0.180  -0.305    -0.117    -0.490    -0.039    -0.148    -0.034    -0.096    -0.181    -0.150    -0.409    -0.348    -0.670    -0.716     4.064     0.645    -0.492    -0.645     0.922         1\n",
            "   1.000  -1.370    -0.052     0.346   0.885   0.548   0.679  -0.052  -0.301    -0.093    -0.490    -0.039    -0.148    -0.034    -0.096    -0.181    -0.150    -0.409    -0.348     1.273    -0.300     1.791     0.179    -0.492    -0.645     0.864         1\n",
            "   1.000   1.170     1.037    -0.040  -0.335   0.071   0.520  -0.052  -0.288     0.004     0.411    -0.039    -0.148    -0.034    -0.096    -0.181    -0.150     0.537    -0.348    -0.670     0.282     1.212     0.179     1.308     2.064     0.931         1\n",
            "   1.000   1.693    -1.467    -0.481  -0.030   1.107  -1.024  -0.052   0.530    -0.093    -0.490    -0.039    -0.148    -0.034    -0.096    -0.181    -0.150    -0.409     1.384    -0.670     1.031    -0.543     2.045    -0.492    -0.645     0.813         1\n"
          ]
        }
      ]
    },
    {
      "cell_type": "code",
      "source": [
        "print('Precisión de entrenamiento: {:.2f} %'.format(np.mean(y_umbral == y_test) * 100))"
      ],
      "metadata": {
        "colab": {
          "base_uri": "https://localhost:8080/"
        },
        "id": "ZPiUogOmt_e7",
        "outputId": "571813be-92a0-4b0d-cfb6-29208b2626c7"
      },
      "execution_count": 32,
      "outputs": [
        {
          "output_type": "stream",
          "name": "stdout",
          "text": [
            "Precisión de entrenamiento: 89.02 %\n"
          ]
        }
      ]
    }
  ]
}