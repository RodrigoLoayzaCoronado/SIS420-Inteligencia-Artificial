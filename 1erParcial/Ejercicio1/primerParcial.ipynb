{
  "nbformat": 4,
  "nbformat_minor": 0,
  "metadata": {
    "colab": {
      "provenance": []
    },
    "kernelspec": {
      "name": "python3",
      "display_name": "Python 3"
    },
    "language_info": {
      "name": "python"
    }
  },
  "cells": [
    {
      "cell_type": "markdown",
      "source": [
        "<h1>CLASIFICACIÓN MULTICLASE<h1>\n"
      ],
      "metadata": {
        "id": "0do-TBCO1Eka"
      }
    },
    {
      "cell_type": "code",
      "execution_count": 1,
      "metadata": {
        "colab": {
          "base_uri": "https://localhost:8080/"
        },
        "id": "dzDnLeF5rc_N",
        "outputId": "342c0add-6a5e-4b57-8168-845c35a92bfb"
      },
      "outputs": [
        {
          "output_type": "stream",
          "name": "stdout",
          "text": [
            "Mounted at /content/drive\n"
          ]
        }
      ],
      "source": [
        "from google.colab import drive\n",
        "drive.mount('/content/drive')"
      ]
    },
    {
      "cell_type": "code",
      "source": [
        "# utilizado para la manipulación de directorios y rutas\n",
        "import os\n",
        "#importamos pandas para el manejo del dataset, y separarlos dentro de una matriz\n",
        "import pandas as pd\n",
        "# Cálculo científico y vectorial para python\n",
        "import numpy as np\n",
        "from sklearn.metrics import confusion_matrix\n",
        "# Libreria para graficos\n",
        "from matplotlib import pyplot\n",
        "from sklearn.model_selection import train_test_split\n",
        "# Modulo de optimizacion en scipy\n",
        "from scipy import optimize\n",
        "# le dice a matplotlib que incruste gráficos en el cuaderno\n",
        "%matplotlib inline"
      ],
      "metadata": {
        "id": "xKpoTtTp2qfZ"
      },
      "execution_count": 2,
      "outputs": []
    },
    {
      "cell_type": "code",
      "source": [
        "input_layer_size  = 22\n",
        "# tengo 3 clases\n",
        "num_labels = 3\n",
        "#se pone 7 a pesar de haber 6 clases con esto el 0 no se toma en cuenta (como es uno contra todos hay que realizar este artificio para considerar todas las clases u otra opcion es convertir el 6 en 0)(el argmmax nos da 0 1 2 y para tomar en cuenta las 3 clases aumentamos 1 mas y quitamos el 0)\n",
        "data = np.loadtxt('/content/drive/MyDrive/SIS420 Inteligencia Artificial/machine learning/datasets/diabetes_012_health_indicators_BRFSS2015.csv', delimiter=',', skiprows=1)\n",
        "\n",
        "# Separar las características (X) de las etiquetas (y)\n",
        "X = data[:, 1:]  # Todas las filas, todas las columnas excepto la primera\n",
        "y = data[:, 0]   # Todas las filas, primera columna\n",
        "\n",
        "# Número de ejemplos\n",
        "m = y.size\n",
        "\n"
      ],
      "metadata": {
        "id": "8wzJkQGe2rEQ"
      },
      "execution_count": 3,
      "outputs": []
    },
    {
      "cell_type": "code",
      "source": [
        "print(X[0, :])\n",
        "print(y)"
      ],
      "metadata": {
        "colab": {
          "base_uri": "https://localhost:8080/"
        },
        "id": "gB645-PL5ZOb",
        "outputId": "f9ff3906-6e24-4be0-a8db-8e6f4e5927f3"
      },
      "execution_count": 4,
      "outputs": [
        {
          "output_type": "stream",
          "name": "stdout",
          "text": [
            "[ 1.  1.  1. 40.  1.  0.  0.  0.  0.  1.  0.  1.  0.  5. 18. 15.  1.  0.\n",
            "  9.  4.  3.]\n",
            "[0. 0. 0. ... 0. 0. 2.]\n"
          ]
        }
      ]
    },
    {
      "cell_type": "code",
      "source": [
        "# Calcular el conteo de cada clase\n",
        "clases, conteo = np.unique(y, return_counts=True)\n",
        "\n",
        "# Imprimir el conteo de cada clase\n",
        "for clase, count in zip(clases, conteo):\n",
        "    print(f\"Clase {int(clase)}: {count} ejemplos\")"
      ],
      "metadata": {
        "colab": {
          "base_uri": "https://localhost:8080/"
        },
        "id": "tMgCx85D6eMg",
        "outputId": "ea945b32-f6d6-4db9-e400-47fb84bdb84b"
      },
      "execution_count": null,
      "outputs": [
        {
          "output_type": "stream",
          "name": "stdout",
          "text": [
            "Clase 0: 213703 ejemplos\n",
            "Clase 1: 4631 ejemplos\n",
            "Clase 2: 35346 ejemplos\n"
          ]
        }
      ]
    },
    {
      "cell_type": "markdown",
      "source": [
        "<h2> NORMALIZACION <h2>"
      ],
      "metadata": {
        "id": "lFJZtnqI8hng"
      }
    },
    {
      "cell_type": "code",
      "source": [
        "def  featureNormalize(X):\n",
        "    X_norm = X.copy()\n",
        "    mu = np.zeros(X.shape[1])\n",
        "    sigma = np.zeros(X.shape[1])\n",
        "\n",
        "    mu = np.mean(X, axis = 0)\n",
        "    sigma = np.std(X, axis = 0)\n",
        "    X_norm = (X - mu) / sigma\n",
        "\n",
        "    return X_norm, mu, sigma"
      ],
      "metadata": {
        "id": "efw09Wkh8gOw"
      },
      "execution_count": null,
      "outputs": []
    },
    {
      "cell_type": "code",
      "source": [
        "X_norm, mu, sigma = featureNormalize(X)"
      ],
      "metadata": {
        "id": "FTfSIxal8s9Y"
      },
      "execution_count": null,
      "outputs": []
    },
    {
      "cell_type": "code",
      "source": [
        "m, n = X.shape\n",
        "X = X_norm"
      ],
      "metadata": {
        "id": "tDNxZVOL8wQp"
      },
      "execution_count": null,
      "outputs": []
    },
    {
      "cell_type": "markdown",
      "source": [
        "<h2> FUNCION SIGMOIDE <h2>"
      ],
      "metadata": {
        "id": "rTHAnFTX-r0g"
      }
    },
    {
      "cell_type": "code",
      "source": [
        "def sigmoid(z):\n",
        "    \"\"\"\n",
        "    Calcula la sigmoide de z.\n",
        "    \"\"\"\n",
        "    return 1.0 / (1.0 + np.exp(-z))"
      ],
      "metadata": {
        "id": "lsxezl4r81Mg"
      },
      "execution_count": null,
      "outputs": []
    },
    {
      "cell_type": "markdown",
      "source": [
        "<h2> COSTO POR EL GRADIENTE <h2>"
      ],
      "metadata": {
        "id": "I1wHMXRh-xQw"
      }
    },
    {
      "cell_type": "code",
      "source": [
        "def lrCostFunction(theta, X, y, lambda_):\n",
        "    m = y.size\n",
        "    if y.dtype == bool:\n",
        "        y = y.astype(int)\n",
        "\n",
        "    #     alpha = 0.003\n",
        "    #     theta = theta.copy()\n",
        "    J = 0\n",
        "    grad = np.zeros(theta.shape)\n",
        "\n",
        "    h = sigmoid(X.dot(theta.T))\n",
        "\n",
        "    temp = theta\n",
        "    temp[0] = 0\n",
        "\n",
        "    #aplicando regularizacion\n",
        "    J = (1 / m) * np.sum(-y.dot(np.log(h)) - (1 - y).dot(np.log(1 - h))) + (lambda_ / (2 * m)) * np.sum(np.square(temp))\n",
        "    #     theta = theta - (alpha / m) * (h - y).dot(X)\n",
        "    grad = (1 / m) * (h - y).dot(X)\n",
        "    grad = grad + (lambda_ / m) * temp\n",
        "\n",
        "    return J, grad\n",
        "    #return J, theta"
      ],
      "metadata": {
        "id": "r7J6pLO_-1-o"
      },
      "execution_count": null,
      "outputs": []
    },
    {
      "cell_type": "markdown",
      "source": [
        "<h2> CLASIFICACIÓN ONE VS ALL <h2>"
      ],
      "metadata": {
        "id": "FwVCnQSZ_KXR"
      }
    },
    {
      "cell_type": "code",
      "source": [
        "def oneVsAll(X, y, num_labels, lambda_):\n",
        "    m, n = X.shape\n",
        "    all_theta = np.zeros((num_labels, n + 1))\n",
        "\n",
        "    # Agregar unos a la matriz X\n",
        "    X = np.concatenate([np.ones((m, 1)), X], axis=1)\n",
        "\n",
        "    for c in np.arange(num_labels):\n",
        "        initial_theta = np.zeros(n + 1)\n",
        "        options = {'maxiter': 50}\n",
        "        res = optimize.minimize(lrCostFunction,\n",
        "                                initial_theta,\n",
        "                                (X, (y == c), lambda_),\n",
        "                                jac=True,\n",
        "                                method='CG',\n",
        "                                options=options)\n",
        "\n",
        "        all_theta[c] = res.x\n",
        "\n",
        "    return all_theta"
      ],
      "metadata": {
        "id": "vELxdfl6_Ren"
      },
      "execution_count": null,
      "outputs": []
    },
    {
      "cell_type": "code",
      "source": [
        "lambda_ = 0.1\n",
        "all_theta = oneVsAll(X, y, num_labels, lambda_)\n",
        "print(all_theta.shape)"
      ],
      "metadata": {
        "colab": {
          "base_uri": "https://localhost:8080/"
        },
        "id": "amowYSbSmp-P",
        "outputId": "c3302cb5-8e8f-4938-f963-e64682a2309f"
      },
      "execution_count": null,
      "outputs": [
        {
          "output_type": "stream",
          "name": "stdout",
          "text": [
            "(3, 22)\n"
          ]
        }
      ]
    },
    {
      "cell_type": "code",
      "source": [
        "def predictOneVsAll(all_theta, X):\n",
        "    m = X.shape[0]\n",
        "    num_labels = all_theta.shape[0]\n",
        "    p = np.zeros(m)\n",
        "\n",
        "    X = np.concatenate([np.ones((m, 1)), X], axis=1)\n",
        "    p = np.argmax(sigmoid(X.dot(all_theta.T)), axis=1)\n",
        "    return p\n"
      ],
      "metadata": {
        "id": "eBjHkvpmCtbI"
      },
      "execution_count": null,
      "outputs": []
    },
    {
      "cell_type": "code",
      "source": [
        "# Dividir los datos en conjuntos de entrenamiento y prueba (80% entrenamiento, 20% prueba)\n",
        "print(X.shape)\n",
        "pred = predictOneVsAll(all_theta, X)\n",
        "print('Precision del conjuto de entrenamiento: {:.2f}%'.format(np.mean(pred == y) * 100))\n",
        "\n",
        "X_train, X_test, y_train, y_test = train_test_split(X, y, test_size=0.2, random_state=42)\n",
        "\n",
        "# Calcula el número de datos para el conjunto de entrenamiento (80%)\n",
        "#total_samples = len(X)\n",
        "#num_train = int(0.8 * total_samples)\n",
        "\n",
        "# Dividir los datos en conjuntos de entrenamiento y prueba\n",
        "#X_train, X_test = X[:num_train], X[num_train:]\n",
        "#y_train, y_test = y[:num_train], y[num_train:]\n",
        "# Entrenar el modelo utilizando todos los datos\n",
        "#lambda_ = 0.01\n",
        "#all_theta_train = oneVsAll(X_train, y_train, num_labels, lambda_)\n",
        "\n",
        "\n",
        "\n",
        "# Entrenar el modelo con los datos de entrenamiento\n",
        "all_theta_train = oneVsAll(X_train, y_train, num_labels, lambda_)"
      ],
      "metadata": {
        "colab": {
          "base_uri": "https://localhost:8080/"
        },
        "id": "BQwb7RVNnyuu",
        "outputId": "ab663213-fa10-4103-cdee-92ad27f926d7"
      },
      "execution_count": null,
      "outputs": [
        {
          "output_type": "stream",
          "name": "stdout",
          "text": [
            "(253680, 21)\n",
            "Precision del conjuto de entrenamiento: 84.64%\n"
          ]
        }
      ]
    },
    {
      "cell_type": "code",
      "source": [
        "# Calcular el conteo de ejemplos por clase\n",
        "clases, conteo = np.unique(y_train, return_counts=True)\n",
        "\n",
        "# Imprimir el conteo de ejemplos por clase\n",
        "for clase, count in zip(clases, conteo):\n",
        "    print(f\"Clase {int(clase)}: {count} ejemplos\")\n",
        "\n",
        "# Verificar si hay clases desbalanceadas\n",
        "if np.any(conteo < 0.5 * np.mean(conteo)):\n",
        "    print(\"Se detecta un desbalance significativo en las clases.\")\n",
        "\n",
        "    # Aplicar técnicas de balanceo de clases aquí, por ejemplo:\n",
        "    # 1. Oversampling: Aumentar el número de instancias de las clases minoritarias\n",
        "    # 2. Undersampling: Reducir el número de instancias de las clases mayoritarias\n",
        "    # 3. SMOTE: Generar nuevas instancias sintéticas de las clases minoritarias\n",
        "    # 4. Otros métodos de balanceo de clases\n"
      ],
      "metadata": {
        "colab": {
          "base_uri": "https://localhost:8080/"
        },
        "id": "LD93IfC_u7O2",
        "outputId": "00d262ea-8ad7-4e4a-c890-2f91e3cb0963"
      },
      "execution_count": null,
      "outputs": [
        {
          "output_type": "stream",
          "name": "stdout",
          "text": [
            "Clase 0: 170908 ejemplos\n",
            "Clase 1: 3687 ejemplos\n",
            "Clase 2: 28349 ejemplos\n",
            "Se detecta un desbalance significativo en las clases.\n"
          ]
        }
      ]
    },
    {
      "cell_type": "markdown",
      "source": [
        "<h2> PREDICCIÓN ONE VS ALL <h2>"
      ],
      "metadata": {
        "id": "F9UTSbAeFAu4"
      }
    },
    {
      "cell_type": "code",
      "source": [
        "# Predecir las clases utilizando el conjunto de entrenamiento\n",
        "pred_train = predictOneVsAll(all_theta_train, X_train)\n",
        "\n",
        "# Calcular la precisión del conjunto de entrenamiento\n",
        "accuracy_train = np.mean(pred_train == y_train) * 100\n",
        "print('Precisión del conjunto de entrenamiento: {:.2f}%'.format(accuracy_train))\n",
        "\n",
        "# Predecir las clases utilizando el conjunto de prueba\n",
        "pred_test = predictOneVsAll(all_theta, X_test)\n",
        "\n",
        "# Calcular la precisión del conjunto de prueba\n",
        "accuracy_test = np.mean(pred_test == y_test) * 100\n",
        "print('Precisión del conjunto de prueba: {:.2f}%'.format(accuracy_test))"
      ],
      "metadata": {
        "colab": {
          "base_uri": "https://localhost:8080/"
        },
        "id": "EZvAKMeeE9N4",
        "outputId": "36507dca-9ecc-4ca4-9425-edba9b780afe"
      },
      "execution_count": null,
      "outputs": [
        {
          "output_type": "stream",
          "name": "stdout",
          "text": [
            "Precisión del conjunto de entrenamiento: 84.60%\n",
            "Precisión del conjunto de prueba: 84.84%\n"
          ]
        }
      ]
    },
    {
      "cell_type": "code",
      "source": [
        "conf_matrix = confusion_matrix(y_test, pred_test)\n",
        "\n",
        "# Mostrar la matriz de confusión\n",
        "print(\"Matriz de Confusión:\")\n",
        "print(conf_matrix)"
      ],
      "metadata": {
        "colab": {
          "base_uri": "https://localhost:8080/"
        },
        "id": "vfK1BPcwtl7Y",
        "outputId": "17f00899-29cb-4598-e6f5-fabdee8e7377"
      },
      "execution_count": null,
      "outputs": [
        {
          "output_type": "stream",
          "name": "stdout",
          "text": [
            "Matriz de Confusión:\n",
            "[[41770     0  1025]\n",
            " [  872     0    72]\n",
            " [ 5725     0  1272]]\n"
          ]
        }
      ]
    },
    {
      "cell_type": "code",
      "source": [
        "# Ejemplo de predicción para nuevos datos\n",
        "X_prueba = np.array([[1,1,1,40,1,0,0,0,0,1,0,1,0,5,18,15,1,0,9,4,3],\n",
        "                     [1,1,0,27,0,0,0,1,1,1,0,1,0,2,0,0,0,0,5,3,6],\n",
        "                     [1,1,1,27,0,0,0,1,1,1,0,1,1,4,30,30,1,0,10,4,3],\n",
        "                     [0,1,1,31,1,0,0,1,1,1,0,1,0,3,0,1,0,0,12,2,2],\n",
        "                     [0,0,1,23,0,0,0,1,0,1,0,1,0,2,2,0,0,0,10,4,5],\n",
        "                     [0,1,1,2,0,0,0,1,1,1,0,1,0,2,0,0,0,1,0,6,8]])\n",
        "\n",
        "p_prueba = predictOneVsAll(all_theta, X_prueba)\n",
        "print(\"Predicciones para nuevos datos:\", p_prueba)"
      ],
      "metadata": {
        "colab": {
          "base_uri": "https://localhost:8080/"
        },
        "id": "AO8RcYyyWhbK",
        "outputId": "5d28e7f7-ae3c-4c00-df6c-204e42695dd2"
      },
      "execution_count": null,
      "outputs": [
        {
          "output_type": "stream",
          "name": "stdout",
          "text": [
            "Predicciones para nuevos datos: [2 2 2 2 2 0]\n"
          ]
        }
      ]
    },
    {
      "cell_type": "code",
      "source": [
        "print(all_theta)"
      ],
      "metadata": {
        "colab": {
          "base_uri": "https://localhost:8080/"
        },
        "id": "cmMGqofFYSn3",
        "outputId": "85bcf399-c747-4881-e5c9-22c966835638"
      },
      "execution_count": null,
      "outputs": [
        {
          "output_type": "stream",
          "name": "stdout",
          "text": [
            "[[ 2.21984415e+00 -3.52458334e-01 -2.93743768e-01 -2.25450465e-01\n",
            "  -4.09354808e-01  6.83095088e-03 -2.12672583e-02 -5.79557520e-02\n",
            "   2.01992497e-02  2.24179201e-02  1.43973124e-02  1.54955240e-01\n",
            "  -1.19456719e-02 -2.08692672e-02 -5.49027489e-01  1.50811960e-02\n",
            "   6.15802467e-02 -4.04829687e-02 -1.19025409e-01 -3.86980078e-01\n",
            "   3.82369975e-02  1.15803764e-01]\n",
            " [-4.22667240e+00  1.32835273e-01  2.27440444e-01  1.36994891e-01\n",
            "   2.03477144e-01 -5.14772970e-03 -3.61199941e-02 -4.11507602e-02\n",
            "   1.47319811e-05 -8.28624439e-03 -1.69775680e-02 -1.25654256e-02\n",
            "  -2.55370802e-02  9.42155735e-02  2.09578098e-01  5.73363223e-02\n",
            "  -4.37354291e-02 -3.16647350e-02  2.66608703e-02  3.08533562e-01\n",
            "  -6.31641777e-02 -1.09609932e-01]\n",
            " [-2.41685018e+00  3.74928271e-01  2.85960535e-01  2.35702839e-01\n",
            "   4.02241739e-01 -5.13833239e-03  2.64642691e-02  6.44251902e-02\n",
            "  -2.22320196e-02 -2.40609580e-02 -1.29820551e-02 -1.77117523e-01\n",
            "   1.78435201e-02  4.95742468e-03  5.72596795e-01 -2.69254023e-02\n",
            "  -6.45543244e-02  4.61243003e-02  1.28170827e-01  3.77574255e-01\n",
            "  -3.03819974e-02 -1.06594241e-01]]\n"
          ]
        }
      ]
    }
  ]
}